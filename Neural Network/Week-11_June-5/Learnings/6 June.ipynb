{
 "cells": [
  {
   "cell_type": "markdown",
   "id": "68ca5e10-74bf-496f-a339-1e94ac02461f",
   "metadata": {},
   "source": [
    "## PyTorch Basics: Tensors & Gradients"
   ]
  },
  {
   "cell_type": "markdown",
   "id": "166fc517-6483-4673-bf00-661b70ce25a8",
   "metadata": {},
   "source": [
    "<img src=\"data:image/png;base64,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\" width=\"600\" \n",
    "     height=\"300\">"
   ]
  },
  {
   "cell_type": "markdown",
   "id": "c61dd84c-ea99-4453-be6a-9ce9fa2f4718",
   "metadata": {},
   "source": [
    "PyTorch is an open-source machine learning framework that is primarily used for developing and training deep learning models. It was developed by Facebook's AI Research Lab and released in 2016. PyTorch provides a flexible and dynamic approach to building neural networks, making it a popular choice among researchers and developers.\n",
    "\n",
    "The framework is built on a dynamic computational graph concept, which means that the graph is built and modified on-the-fly as the program runs. This allows for more intuitive and flexible model development, as you can use standard Python control flow statements and debug the model easily.\n",
    "\n",
    "PyTorch supports automatic differentiation, which enables efficient computation of gradients for training neural networks using backpropagation. It provides a rich set of tools and libraries for tasks such as data loading, model building, optimization, and evaluation.\n",
    "\n",
    "One of the key advantages of PyTorch is its support for GPU acceleration, allowing you to train models on GPUs to significantly speed up computations. It also has a large and active community, which means there are plenty of resources, tutorials, and pre-trained models available.\n",
    "\n",
    "PyTorch is often compared to TensorFlow, another popular deep learning framework. While TensorFlow focuses more on static computation graphs, PyTorch emphasizes dynamic computation graphs. This fundamental difference in design philosophy gives PyTorch an edge when it comes to flexibility and ease of use.\n",
    "\n",
    "Overall, PyTorch is widely used in the research community and is gaining popularity in industry applications as well. It provides a powerful and user-friendly platform for building and training deep learning models.\n"
   ]
  },
  {
   "cell_type": "markdown",
   "id": "f392e6fc-1754-41db-8530-73346b53ede9",
   "metadata": {},
   "source": [
    "## installation\n",
    "installation instructions here: https://pytorch.org ."
   ]
  },
  {
   "cell_type": "code",
   "execution_count": 1,
   "id": "626b1bae-1236-447c-95f1-96bf1edab74e",
   "metadata": {},
   "outputs": [],
   "source": [
    "# Uncomment and run the appropriate command for your operating system, if required\n",
    "\n",
    "# Linux / Binder\n",
    "# !pip install numpy torch==1.7.0+cpu torchvision==0.8.1+cpu torchaudio==0.7.0 -f https://download.pytorch.org/whl/torch_stable.html\n",
    "\n",
    "# Windows\n",
    "# !pip install numpy torch==1.7.0+cpu torchvision==0.8.1+cpu torchaudio==0.7.0 -f https://download.pytorch.org/whl/torch_stable.html\n",
    "\n",
    "# MacOS\n",
    "# !pip install numpy torch torchvision torchaudio"
   ]
  },
  {
   "cell_type": "markdown",
   "id": "8d8818db-f44a-4682-87a2-8f51b2f29d50",
   "metadata": {},
   "source": [
    "### Let's import the torch module to get started."
   ]
  },
  {
   "cell_type": "code",
   "execution_count": null,
   "id": "429874f5-5421-451f-9491-24bae189d166",
   "metadata": {},
   "outputs": [],
   "source": [
    "!pip install numpy torch==1.7.0+cpu torchvision==0.8.1+cpu torchaudio==0.7.0 -f https://download.pytorch.org/whl/torch_stable.html"
   ]
  },
  {
   "cell_type": "code",
   "execution_count": null,
   "id": "37d4377d-cdad-459c-9315-977929b3a293",
   "metadata": {},
   "outputs": [],
   "source": [
    "import torch   # in google collab this will run fine no need for installations"
   ]
  },
  {
   "cell_type": "markdown",
   "id": "ece09ae8-2193-4d00-89dc-4040662b365e",
   "metadata": {},
   "source": [
    "### Tensors\n",
    "At its core, PyTorch is a library for processing tensors. A tensor is a number, vector, matrix, or any n-dimensional array. Let's create a tensor with a single number."
   ]
  },
  {
   "cell_type": "code",
   "execution_count": null,
   "id": "7f9132e5-8f0f-49b5-a250-79cddb322a5f",
   "metadata": {},
   "outputs": [],
   "source": [
    "# Number\n",
    "t1 = torch.tensor(4.)\n",
    "t1"
   ]
  },
  {
   "cell_type": "markdown",
   "id": "3b59c75d-b1f8-4197-b7b3-87bcaeb22158",
   "metadata": {},
   "source": [
    "4. is a shorthand for 4.0. It is used to indicate to Python (and PyTorch) that you want to create a floating-point number. We can verify this by checking the dtype attribute of our tensor."
   ]
  },
  {
   "cell_type": "code",
   "execution_count": null,
   "id": "2a959b84-eb61-4eba-a105-2977fd6740e1",
   "metadata": {},
   "outputs": [],
   "source": [
    "t1.dtype"
   ]
  },
  {
   "cell_type": "markdown",
   "id": "5d781906-45e3-4909-959f-a020933a5d45",
   "metadata": {},
   "source": [
    "### Let's try creating more complex tensors."
   ]
  },
  {
   "cell_type": "code",
   "execution_count": null,
   "id": "6eb54689-af56-4f14-af29-d1309a40fe58",
   "metadata": {},
   "outputs": [],
   "source": [
    "# Vector\n",
    "t2 = torch.tensor([1., 2, 3, 4])\n",
    "t2"
   ]
  },
  {
   "cell_type": "code",
   "execution_count": null,
   "id": "d17bcbbf-cb36-4e13-8660-051f3c143c36",
   "metadata": {},
   "outputs": [],
   "source": [
    "# Matrix\n",
    "t3 = torch.tensor([[5., 6], \n",
    "                   [7, 8], \n",
    "                   [9, 10]])\n",
    "t3"
   ]
  },
  {
   "cell_type": "code",
   "execution_count": null,
   "id": "af4dbca1-8ba4-4976-b78b-3b01a4299afd",
   "metadata": {},
   "outputs": [],
   "source": [
    "# 3-dimensional array\n",
    "t4 = torch.tensor([\n",
    "    [[11, 12, 13], \n",
    "     [13, 14, 15]], \n",
    "    [[15, 16, 17], \n",
    "     [17, 18, 19.]]])\n",
    "t4"
   ]
  },
  {
   "cell_type": "markdown",
   "id": "f183db37-2685-407f-8764-6376d9f2a18b",
   "metadata": {},
   "source": [
    "Tensors can have any number of dimensions and different lengths along each dimension. We can inspect the length along each dimension using the .shape property of a tensor."
   ]
  },
  {
   "cell_type": "code",
   "execution_count": null,
   "id": "c78d912d-0aa3-4fe9-b7fe-c34aa0a6472c",
   "metadata": {},
   "outputs": [],
   "source": [
    "print(t1)\n",
    "t1.shape"
   ]
  },
  {
   "cell_type": "code",
   "execution_count": null,
   "id": "70e708f7-b5a1-4745-a9aa-d6bdc63c1d12",
   "metadata": {},
   "outputs": [],
   "source": [
    "print(t2)\n",
    "t2.shape"
   ]
  },
  {
   "cell_type": "code",
   "execution_count": null,
   "id": "40f40299-8362-45f2-a475-b8b23736ac78",
   "metadata": {},
   "outputs": [],
   "source": [
    "print(t3)\n",
    "t3.shape"
   ]
  },
  {
   "cell_type": "code",
   "execution_count": null,
   "id": "4495f7b0-d4ef-426b-b70b-133b07cb3e04",
   "metadata": {},
   "outputs": [],
   "source": [
    "print(t4)\n",
    "t4.shape"
   ]
  },
  {
   "cell_type": "markdown",
   "id": "7217d2d5-35c5-4755-ae4a-171314110af5",
   "metadata": {},
   "source": [
    "Note that it's not possible to create tensors with an improper shape."
   ]
  },
  {
   "cell_type": "code",
   "execution_count": null,
   "id": "3dbe2085-21c7-49dc-af30-10816f019847",
   "metadata": {},
   "outputs": [],
   "source": [
    "# Matrix\n",
    "t5 = torch.tensor([[5., 6, 11], \n",
    "                   [7, 8], \n",
    "                   [9, 10]])\n",
    "t5"
   ]
  },
  {
   "cell_type": "markdown",
   "id": "2f3dc5e3-1cf7-45d1-965d-da7f66d6f5c1",
   "metadata": {},
   "source": [
    "A ValueError is thrown because the lengths of the rows [5., 6, 11] and [7, 8] don't match."
   ]
  },
  {
   "cell_type": "markdown",
   "id": "0591e352-3ba1-4a50-a1e2-2f356b9e7cbd",
   "metadata": {},
   "source": [
    "### Tensor operations and gradients\n",
    "We can combine tensors with the usual arithmetic operations. Let's look at an example:"
   ]
  },
  {
   "cell_type": "code",
   "execution_count": null,
   "id": "daa8bd26-0616-419f-8c97-8e2333068f32",
   "metadata": {},
   "outputs": [],
   "source": [
    "# Create tensors.\n",
    "x = torch.tensor(3.)\n",
    "w = torch.tensor(4., requires_grad=True)  # this should be declare in start\n",
    "b = torch.tensor(5., requires_grad=True)  # I define it as a variable b with whom i like to differentiate the function\n",
    "x, w, b"
   ]
  },
  {
   "cell_type": "markdown",
   "id": "49bae546-0bd5-4a78-9896-766e7aef6798",
   "metadata": {},
   "source": [
    "We've created three tensors: x, w, and b, all numbers. w and b have an additional parameter requires_grad set to True. We'll see what it does in just a moment.\n",
    "\n",
    "Let's create a new tensor y by combining these tensors."
   ]
  },
  {
   "cell_type": "code",
   "execution_count": null,
   "id": "69603983-b929-41cc-ba11-575f7b6f01bd",
   "metadata": {},
   "outputs": [],
   "source": [
    "# Arithmetic operations\n",
    "y = w * x + b\n",
    "y"
   ]
  },
  {
   "cell_type": "markdown",
   "id": "e93741fe-d550-478b-a82b-09f694833f35",
   "metadata": {},
   "source": [
    "As expected, y is a tensor with the value 3 * 4 + 5 = 17. What makes PyTorch unique is that we can automatically compute the derivative of y w.r.t. the tensors that have requires_grad set to True i.e. w and b. This feature of PyTorch is called autograd (automatic gradients).\n",
    "\n",
    "To compute the derivatives, we can invoke the .backward method on our result y."
   ]
  },
  {
   "cell_type": "code",
   "execution_count": null,
   "id": "b862d71e-7856-4015-a70b-1000412a723e",
   "metadata": {},
   "outputs": [],
   "source": [
    "# Compute derivatives\n",
    "y.backward()  # it will create dy/dx, dy/dw, dy/dp"
   ]
  },
  {
   "cell_type": "markdown",
   "id": "045bb8cd-d2ff-4c63-acbb-e719eb7cfc22",
   "metadata": {},
   "source": [
    "The derivatives of y with respect to the input tensors are stored in the .grad property of the respective tensors."
   ]
  },
  {
   "cell_type": "code",
   "execution_count": null,
   "id": "1e337263-9728-40a9-b269-076b79550992",
   "metadata": {},
   "outputs": [],
   "source": [
    "# Display gradients\n",
    "print('dy/dx:', x.grad) # it comes as non: because we didn't told our gradient to record\n",
    "print('dy/dw:', w.grad) # dy/dw= x = 3 (requires_grad set to True.)\n",
    "print('dy/db:', b.grad)"
   ]
  },
  {
   "cell_type": "markdown",
   "id": "9cbd330c-97f5-405a-a823-dffb71b61fed",
   "metadata": {},
   "source": [
    "As expected, dy/dw has the same value as x, i.e., 3, and dy/db has the value 1. Note that x.grad is None because x doesn't have requires_grad set to True.\n",
    "\n",
    "The \"grad\" in w.grad is short for gradient, which is another term for derivative. The term gradient is primarily used while dealing with vectors and matrices."
   ]
  },
  {
   "cell_type": "markdown",
   "id": "db46c51c-c074-43d0-b2ba-5cf7356b26d4",
   "metadata": {},
   "source": [
    "### Tensor functions\n",
    "Apart from arithmetic operations, the torch module also contains many functions for creating and manipulating tensors. Let's look at some examples."
   ]
  },
  {
   "cell_type": "code",
   "execution_count": null,
   "id": "14e37649-662c-4c11-a9a3-4b9045cdb10b",
   "metadata": {},
   "outputs": [],
   "source": [
    "# Create a tensor with a fixed value for every element\n",
    "t6 = torch.full((3, 2), 42)  # each value of tensor will be filled by 42\n",
    "t6"
   ]
  },
  {
   "cell_type": "code",
   "execution_count": null,
   "id": "165be999-f747-4299-9111-f42ffde41c61",
   "metadata": {},
   "outputs": [],
   "source": [
    "# Concatenate two tensors with compatible shapes\n",
    "t7 = torch.cat((t3, t6))\n",
    "t7"
   ]
  },
  {
   "cell_type": "code",
   "execution_count": null,
   "id": "492bf3bc-8a9e-4f0f-94a0-3936d0fd6cc4",
   "metadata": {},
   "outputs": [],
   "source": [
    "# Compute the sin of each element\n",
    "t8 = torch.sin(t7)\n",
    "t8"
   ]
  },
  {
   "cell_type": "code",
   "execution_count": null,
   "id": "23dce5de-96ad-4124-a55c-40a349155544",
   "metadata": {},
   "outputs": [],
   "source": [
    "# Change the shape of a tensor\n",
    "t9 = t8.reshape(3, 2, 2)\n",
    "t9"
   ]
  },
  {
   "cell_type": "markdown",
   "id": "fcd93bff-78fa-42ea-899a-1de94bc08eec",
   "metadata": {},
   "source": [
    "You can learn more about tensor operations here: https://pytorch.org/docs/stable/torch.html . Experiment with some more tensor functions and operations using the empty cells below."
   ]
  },
  {
   "cell_type": "markdown",
   "id": "3048f3a6-162d-4d45-81a9-6ead2400902f",
   "metadata": {},
   "source": [
    "### Interoperability with Numpy\n",
    "Numpy is a popular open-source library used for mathematical and scientific computing in Python. It enables efficient operations on large multi-dimensional arrays and has a vast ecosystem of supporting libraries, including:\n",
    "\n",
    "- Pandas for file I/O and data analysis\n",
    "- Matplotlib for plotting and visualization\n",
    "- OpenCV for image and video processing\n",
    "\n",
    "Instead of reinventing the wheel, PyTorch interoperates well with Numpy to leverage its existing ecosystem of tools and libraries."
   ]
  },
  {
   "cell_type": "markdown",
   "id": "7dbb8cad-4679-40a3-b625-0541378389d4",
   "metadata": {},
   "source": [
    "Here's how we create an array in Numpy:"
   ]
  },
  {
   "cell_type": "code",
   "execution_count": null,
   "id": "2fa3e62f-d4ed-4417-9b01-c2586c5675d4",
   "metadata": {},
   "outputs": [],
   "source": [
    "import numpy as np\n",
    "\n",
    "x = np.array([[1, 2], [3, 4.]])\n",
    "x"
   ]
  },
  {
   "cell_type": "markdown",
   "id": "83c8f7df-9735-4458-8e03-83c8a58c467b",
   "metadata": {},
   "source": [
    "We can convert a Numpy array to a PyTorch tensor using torch.from_numpy."
   ]
  },
  {
   "cell_type": "code",
   "execution_count": null,
   "id": "9919a366-3dfc-44f4-a5d4-cb268f46b812",
   "metadata": {},
   "outputs": [],
   "source": [
    "# Convert the numpy array to a torch tensor.\n",
    "y = torch.from_numpy(x)\n",
    "y"
   ]
  },
  {
   "cell_type": "markdown",
   "id": "ff9b9f9f-96af-4cd6-8803-9c5cce65dc10",
   "metadata": {},
   "source": [
    "Let's verify that the numpy array and torch tensor have similar data types."
   ]
  },
  {
   "cell_type": "code",
   "execution_count": null,
   "id": "977b159b-cb49-4465-b2d2-460439b499b4",
   "metadata": {},
   "outputs": [],
   "source": [
    "x.dtype, y.dtype"
   ]
  },
  {
   "cell_type": "markdown",
   "id": "efde7d15-bbf3-486f-8e20-47aaa44ce421",
   "metadata": {},
   "source": [
    "We can convert a PyTorch tensor to a Numpy array using the .numpy method of a tensor."
   ]
  },
  {
   "cell_type": "code",
   "execution_count": null,
   "id": "e0f2fb3c-1b2a-4d80-97af-a79a22258183",
   "metadata": {},
   "outputs": [],
   "source": [
    "# Convert a torch tensor to a numpy array\n",
    "z = y.numpy()\n",
    "z"
   ]
  },
  {
   "cell_type": "markdown",
   "id": "cf85c638-91b0-473f-8b1c-0ea0d174ddb3",
   "metadata": {},
   "source": [
    "The interoperability between PyTorch and Numpy is essential because most datasets you'll work with will likely be read and preprocessed as Numpy arrays.\n",
    "\n",
    "You might wonder why we need a library like PyTorch at all since Numpy already provides data structures and utilities for working with multi-dimensional numeric data. There are two main reasons:\n",
    "\n",
    "1) Autograd: The ability to automatically compute gradients for tensor operations is essential for training deep learning models.\n",
    "2) GPU support: While working with massive datasets and large models, PyTorch tensor operations can be performed efficiently using a Graphics Processing Unit (GPU). Computations that might typically take hours can be completed within minutes using GPUs."
   ]
  },
  {
   "cell_type": "markdown",
   "id": "15aa91d0-5243-443f-8590-b8924088785d",
   "metadata": {},
   "source": [
    "### Linear-regression from scrach using pytorch"
   ]
  },
  {
   "cell_type": "code",
   "execution_count": null,
   "id": "c4a450b9-3935-41a5-b29a-73b8c802d705",
   "metadata": {},
   "outputs": [],
   "source": [
    "import numpy as np\n",
    "import torch"
   ]
  },
  {
   "cell_type": "code",
   "execution_count": null,
   "id": "5fe42d09-ed2d-4c75-b0c5-0dffddfb1039",
   "metadata": {},
   "outputs": [],
   "source": [
    "#making training data \n",
    "# Input (temp, rainfall, humidity)\n",
    "inputs = np.array([[73, 67, 43], \n",
    "                   [91, 88, 64], \n",
    "                   [87, 134, 58], \n",
    "                   [102, 43, 37], \n",
    "                   [69, 96, 70]], dtype='float32')"
   ]
  },
  {
   "cell_type": "code",
   "execution_count": null,
   "id": "37030c27-0bb6-4412-bd8e-b6fbdd624b0a",
   "metadata": {},
   "outputs": [],
   "source": [
    "# Targets (apples, oranges)\n",
    "target = np.array([[56, 70], \n",
    "                    [81, 101], \n",
    "                    [119, 133], \n",
    "                    [22, 37], \n",
    "                    [103, 119]], dtype='float32')"
   ]
  },
  {
   "cell_type": "code",
   "execution_count": null,
   "id": "349e533c-ba42-4d8e-a0f0-c44e8573a4a7",
   "metadata": {},
   "outputs": [],
   "source": [
    "#Convert input and target to tensors\n",
    "inputs = torch.from_numpy(inputs)  \n",
    "target = torch.from_numpy(target)  \n",
    "\n",
    "print(inputs,\"\\n\")\n",
    "print(target)"
   ]
  },
  {
   "cell_type": "code",
   "execution_count": null,
   "id": "81daf366-0444-4fff-b804-6d2f58bf2287",
   "metadata": {},
   "outputs": [],
   "source": [
    "# weights and biases\n",
    "w = torch.randn(2,3 , requires_grad=True # one set: w1x1 + w2x2 + w3x3 + b1  other set: w4x1 + w5x2 + w6x3 + b2\n",
    "# (2*3): one set of 3 weights is for apple and one set of 3 weights is for orange              \n",
    "b = torch.randn(2, requires_grad=True)  # one set is used to predict the apple and other is to predict the oranges \n",
    "\n",
    "print(w)\n",
    "print(b)"
   ]
  },
  {
   "cell_type": "code",
   "execution_count": null,
   "id": "0f37c6e9-5b5f-4b66-8b62-3cd85e176b18",
   "metadata": {},
   "outputs": [],
   "source": [
    "#define the model\n",
    "\n",
    "def model(x):\n",
    "    return x @ w.t() + b  # 5*3 matrix multiplied by 3*2 because of transpose"
   ]
  },
  {
   "cell_type": "code",
   "execution_count": null,
   "id": "df1467a2-8a32-4475-ab62-48eb72cd49fe",
   "metadata": {},
   "outputs": [],
   "source": [
    "# prediction\n",
    "preds = model(inputs)\n",
    "print(preds)"
   ]
  },
  {
   "cell_type": "code",
   "execution_count": null,
   "id": "f21ef99c-9fdc-49e4-b734-fac6c34c5635",
   "metadata": {},
   "outputs": [],
   "source": [
    "#actual\n",
    "print(target)"
   ]
  },
  {
   "cell_type": "code",
   "execution_count": null,
   "id": "f5c8d64c-1dc1-476d-95e5-fdd2c7d86f3c",
   "metadata": {},
   "outputs": [],
   "source": [
    "# loss function MSE\n",
    "def MSE(actual, target):\n",
    "    diff = actual - target\n",
    "    return torch.sum(diff * diff) / diff.numel()"
   ]
  },
  {
   "cell_type": "code",
   "execution_count": null,
   "id": "e286a207-e00a-4876-85a0-39f9156a0541",
   "metadata": {},
   "outputs": [],
   "source": [
    "# error\n",
    "loss = MSE(target, preds)\n",
    "print(loss)"
   ]
  },
  {
   "cell_type": "code",
   "execution_count": null,
   "id": "399b54cf-470e-496c-8654-ad74087e2040",
   "metadata": {},
   "outputs": [],
   "source": [
    "# compute gradients\n",
    "loss.backward()"
   ]
  },
  {
   "cell_type": "code",
   "execution_count": null,
   "id": "ad53f300-0e9f-4a4d-9fa6-e1c2cd8dc3b6",
   "metadata": {},
   "outputs": [],
   "source": [
    "print(w, \"\\n\")\n",
    "print(w.grad)"
   ]
  },
  {
   "cell_type": "code",
   "execution_count": null,
   "id": "ee3f28bf-0e84-4cb0-89ef-1b2ff5eb5986",
   "metadata": {},
   "outputs": [],
   "source": [
    "print(b, \"\\n\")\n",
    "print(b.grad)"
   ]
  },
  {
   "cell_type": "code",
   "execution_count": null,
   "id": "6427168e-3d47-4c61-81d9-5fd83e215143",
   "metadata": {},
   "outputs": [],
   "source": [
    "#reset grad\n",
    "w.grad.zero_()\n",
    "b.grad.zero_()\n",
    "\n",
    "print(w.grad)\n",
    "print(b.grad)"
   ]
  },
  {
   "cell_type": "code",
   "execution_count": null,
   "id": "cc8bbbe3-ab34-48d5-ac7d-b3bfaadb13eb",
   "metadata": {},
   "outputs": [],
   "source": [
    "# adjust params\n",
    "\n",
    "preds = model(inputs)\n",
    "print(preds)"
   ]
  },
  {
   "cell_type": "code",
   "execution_count": null,
   "id": "1e6585d2-2f5e-4d47-bc33-43c6b6083d6a",
   "metadata": {},
   "outputs": [],
   "source": [
    "# loss\n",
    "loss = MSE(target, preds)\n",
    "print(loss)"
   ]
  },
  {
   "cell_type": "code",
   "execution_count": null,
   "id": "81659ca5-e35b-4873-b34f-f88d786d3d17",
   "metadata": {},
   "outputs": [],
   "source": [
    "loss.backward()\n",
    "\n",
    "print(w.grad, \"\\n\")\n",
    "print(b.grad)"
   ]
  },
  {
   "cell_type": "code",
   "execution_count": null,
   "id": "a64d3cad-d6e3-4f35-861c-b89928bf40f3",
   "metadata": {},
   "outputs": [],
   "source": [
    "# adjust weight & reset grad\n",
    "with torch.no_grad():\n",
    "    w -= w.grad * 1e-5\n",
    "    b -= b.grad * 1e-5\n",
    "    w.grad.zero_()\n",
    "    b.grad.zero_()"
   ]
  },
  {
   "cell_type": "code",
   "execution_count": null,
   "id": "cb5b7b3b-6e81-4d36-bbc1-84373d7f3836",
   "metadata": {},
   "outputs": [],
   "source": [
    "print(w)\n",
    "print(b)"
   ]
  },
  {
   "cell_type": "code",
   "execution_count": null,
   "id": "6345544a-a0ed-4e11-b46c-21d359545d3f",
   "metadata": {},
   "outputs": [],
   "source": [
    "# calculate again\n",
    "preds = model(inputs)\n",
    "loss = MSE(target, preds)\n",
    "print(loss)"
   ]
  },
  {
   "cell_type": "code",
   "execution_count": null,
   "id": "c3b88adf-a71c-4e0c-81b2-de46d878efc0",
   "metadata": {},
   "outputs": [],
   "source": [
    "# Training for multiple epochs\n",
    "for i in range(400):\n",
    "    preds = model(inputs)\n",
    "    loss = MSE(target, preds)\n",
    "    loss.backward()  # calculaet the gradient w.r.t all the loss ,weights and biases\n",
    "\n",
    "    with torch.no_grad():\n",
    "        w -= w.grad * 1e-5 # learning rate\n",
    "        b -= b.grad * 1e-5\n",
    "        w.grad.zero_()\n",
    "        b.grad.zero_()\n",
    "    print(f\"Epochs({i}/{100}) & Loss {loss}\")"
   ]
  },
  {
   "cell_type": "code",
   "execution_count": null,
   "id": "87f559fd-4ca2-4fc6-9831-51c95be42375",
   "metadata": {},
   "outputs": [],
   "source": [
    "preds = model(inputs)\n",
    "loss = MSE(target, preds)\n",
    "print(loss)   # we have bring down our loss from 110880 to 68.155 and square root =8.2"
   ]
  },
  {
   "cell_type": "code",
   "execution_count": null,
   "id": "7d9f5830-05a8-49ce-ae96-d4e5a25012de",
   "metadata": {},
   "outputs": [],
   "source": [
    "from math import sqrt\n",
    "sqrt(loss)"
   ]
  },
  {
   "cell_type": "code",
   "execution_count": null,
   "id": "32c008e8-0a36-4b95-9246-458671355544",
   "metadata": {},
   "outputs": [],
   "source": [
    "preds"
   ]
  },
  {
   "cell_type": "code",
   "execution_count": null,
   "id": "73572b24-f5bc-4cfe-a96b-f6eb61777c6f",
   "metadata": {},
   "outputs": [],
   "source": [
    "target  ## You can see they are almost close earch other"
   ]
  },
  {
   "cell_type": "markdown",
   "id": "d4be52ff-a1ec-46e2-9239-6f8eac526e84",
   "metadata": {},
   "source": [
    "### Neural Network using Pytorch"
   ]
  },
  {
   "cell_type": "code",
   "execution_count": null,
   "id": "ac58a284-a8cd-4555-a907-e32b16c9ad20",
   "metadata": {},
   "outputs": [],
   "source": [
    "# To check GPU \n",
    "!nvidia-smi"
   ]
  },
  {
   "cell_type": "code",
   "execution_count": null,
   "id": "804a56fa-d8ad-4456-9850-7f4245c1df23",
   "metadata": {},
   "outputs": [],
   "source": [
    "import torch\n",
    "from torch import nn\n",
    "from torch.utils.data import DataLoader\n",
    "from torchvision import datasets\n",
    "from torchvision.transforms import ToTensor, Lambda, Compose\n",
    "import matplotlib.pyplot as plt"
   ]
  },
  {
   "cell_type": "code",
   "execution_count": null,
   "id": "f940f947-494d-4a63-b7be-45707d817f35",
   "metadata": {},
   "outputs": [],
   "source": [
    "# Download training data from open datasets.\n",
    "training_data = datasets.FashionMNIST(\n",
    "    root=\"data\",\n",
    "    train=True,\n",
    "    download=True,\n",
    "    transform=ToTensor(),\n",
    ")\n",
    "\n",
    "# Download test data from open datasets.\n",
    "test_data = datasets.FashionMNIST(\n",
    "    root=\"data\",\n",
    "    train=False,\n",
    "    download=True,\n",
    "    transform=ToTensor(),\n",
    ")"
   ]
  },
  {
   "cell_type": "code",
   "execution_count": null,
   "id": "1d7812c3-b63e-4f41-b1d6-90771abfd140",
   "metadata": {},
   "outputs": [],
   "source": [
    "type(training_data)"
   ]
  },
  {
   "cell_type": "code",
   "execution_count": null,
   "id": "63c54e9b-f41c-4fb4-b49e-ef8813efeb63",
   "metadata": {},
   "outputs": [],
   "source": [
    "batch_size = 64\n",
    "\n",
    "# Create data loaders.\n",
    "train_dataloader = DataLoader(training_data, batch_size=batch_size)\n",
    "test_dataloader = DataLoader(test_data, batch_size=batch_size)\n",
    "\n",
    "for X, y in test_dataloader:\n",
    "    print(\"Shape of X [N, C, H, W]: \", X.shape)\n",
    "    print(\"Shape of y: \", y.shape, y.dtype)\n",
    "    # print(X)\n",
    "    # print(y)\n",
    "    break"
   ]
  },
  {
   "cell_type": "code",
   "execution_count": null,
   "id": "967602ab-52b5-47aa-afc9-c3709793b3c1",
   "metadata": {},
   "outputs": [],
   "source": [
    "# Get cpu or gpu device for training.\n",
    "device = \"cuda\" if torch.cuda.is_available() else \"cpu\"\n",
    "print(f\"Using {device} device\")"
   ]
  },
  {
   "cell_type": "code",
   "execution_count": null,
   "id": "5dbe4fe6-77a6-4c19-9692-17ecbeb4464d",
   "metadata": {},
   "outputs": [],
   "source": [
    "# Define model\n",
    "class NeuralNetwork(nn.Module):\n",
    "    def __init__(self):\n",
    "        super(NeuralNetwork, self).__init__()\n",
    "        self.flatten = nn.Flatten()  # we are not using cnn instead we are flatten array for input to out neural network\n",
    "        self.linear_relu_stack = nn.Sequential(  # 784 neurons in input layer\n",
    "            nn.Linear(28*28, 512),\n",
    "            nn.ReLU(),\n",
    "            nn.Linear(512, 512),\n",
    "            nn.ReLU(),\n",
    "            nn.Linear(512, 10)\n",
    "        )\n",
    "\n",
    "    def forward(self, x):\n",
    "        x = self.flatten(x)\n",
    "        logits = self.linear_relu_stack(x)\n",
    "        return logits\n",
    "\n",
    "model = NeuralNetwork().to(device)\n",
    "print(model)"
   ]
  },
  {
   "cell_type": "code",
   "execution_count": null,
   "id": "8a269d55-12e6-40e4-b793-63c530a19ea7",
   "metadata": {},
   "outputs": [],
   "source": [
    "loss_fn = nn.CrossEntropyLoss()\n",
    "optimizer = torch.optim.SGD(model.parameters(), lr=1e-3)"
   ]
  },
  {
   "cell_type": "code",
   "execution_count": null,
   "id": "3c11c80f-61e7-4f7b-ada4-3d0a0f48beda",
   "metadata": {},
   "outputs": [],
   "source": [
    "def train(dataloader, model, loss_fn, optimizer):\n",
    "    size = len(dataloader.dataset)\n",
    "    model.train()  # telling model to be in training mode\n",
    "    for batch, (X, y) in enumerate(dataloader):\n",
    "        X, y = X.to(device), y.to(device)\n",
    "\n",
    "        # Compute prediction error\n",
    "        pred = model(X)\n",
    "        loss = loss_fn(pred, y)\n",
    "\n",
    "        # Backpropagation\n",
    "        optimizer.zero_grad()\n",
    "        loss.backward()\n",
    "        optimizer.step()\n",
    "\n",
    "        if batch % 100 == 0:\n",
    "            loss, current = loss.item(), batch * len(X)\n",
    "            print(f\"loss: {loss:>7f}  [{current:>5d}/{size:>5d}]\")"
   ]
  },
  {
   "cell_type": "code",
   "execution_count": null,
   "id": "651654a1-1518-4c16-a79c-554f6c4f4f11",
   "metadata": {},
   "outputs": [],
   "source": [
    "def test(dataloader, model, loss_fn):\n",
    "    size = len(dataloader.dataset)\n",
    "    num_batches = len(dataloader)\n",
    "    model.eval()\n",
    "    test_loss, correct = 0, 0\n",
    "    with torch.no_grad():\n",
    "        for X, y in dataloader:\n",
    "            X, y = X.to(device), y.to(device)\n",
    "            pred = model(X)\n",
    "            test_loss += loss_fn(pred, y).item()\n",
    "            correct += (pred.argmax(1) == y).type(torch.float).sum().item()\n",
    "    test_loss /= num_batches\n",
    "    correct /= size\n",
    "    print(f\"Test Error: \\n Accuracy: {(100*correct):>0.1f}%, Avg loss: {test_loss:>8f} \\n\")"
   ]
  },
  {
   "cell_type": "code",
   "execution_count": null,
   "id": "d743faa3-1c84-4e5e-b621-7b4e6068ed10",
   "metadata": {},
   "outputs": [],
   "source": [
    "epochs = 5\n",
    "for t in range(epochs):\n",
    "    print(f\"Epoch {t+1}\\n-------------------------------\")\n",
    "    train(train_dataloader, model, loss_fn, optimizer)\n",
    "    test(test_dataloader, model, loss_fn)\n",
    "print(\"Done!\")"
   ]
  },
  {
   "cell_type": "code",
   "execution_count": null,
   "id": "0a5c1f62-7734-456e-8ffb-375c68ceaae8",
   "metadata": {},
   "outputs": [],
   "source": [
    "#save model\n",
    "torch.save(model.state_dict(), \"model.pth\")\n",
    "print(\"Saved PyTorch Model State to model.pth\")"
   ]
  },
  {
   "cell_type": "code",
   "execution_count": null,
   "id": "9bf95c3c-b394-4bcf-8552-f0e49554c692",
   "metadata": {},
   "outputs": [],
   "source": [
    "#load model\n",
    "model = NeuralNetwork()\n",
    "model.load_state_dict(torch.load(\"model.pth\"))"
   ]
  },
  {
   "cell_type": "code",
   "execution_count": null,
   "id": "81ed9f87-5842-47e4-b1bd-569845b59321",
   "metadata": {},
   "outputs": [],
   "source": [
    "## Prediction\n",
    "\n",
    "classes = [\n",
    "    \"T-shirt/top\",\n",
    "    \"Trouser\",\n",
    "    \"Pullover\",\n",
    "    \"Dress\",\n",
    "    \"Coat\",\n",
    "    \"Sandal\",\n",
    "    \"Shirt\",\n",
    "    \"Sneaker\",\n",
    "    \"Bag\",\n",
    "    \"Ankle boot\",\n",
    "]\n",
    "\n",
    "model.eval()\n",
    "x, y = test_data[0][0], test_data[0][1]\n",
    "with torch.no_grad():\n",
    "    pred = model(x)\n",
    "    predicted, actual = classes[pred[0].argmax(0)], classes[y]\n",
    "    print(f'Predicted: \"{predicted}\", Actual: \"{actual}\"')"
   ]
  }
 ],
 "metadata": {
  "kernelspec": {
   "display_name": "Python 3 (ipykernel)",
   "language": "python",
   "name": "python3"
  },
  "language_info": {
   "codemirror_mode": {
    "name": "ipython",
    "version": 3
   },
   "file_extension": ".py",
   "mimetype": "text/x-python",
   "name": "python",
   "nbconvert_exporter": "python",
   "pygments_lexer": "ipython3",
   "version": "3.10.8"
  }
 },
 "nbformat": 4,
 "nbformat_minor": 5
}
