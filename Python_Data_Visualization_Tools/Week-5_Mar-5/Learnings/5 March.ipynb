{
 "cells": [
  {
   "cell_type": "code",
   "execution_count": 1,
   "id": "88958cfe-faa0-4862-8464-dfb33d826ef0",
   "metadata": {},
   "outputs": [],
   "source": [
    "# Bokeh is also similar to the matplotlib,seaborn ,plotly"
   ]
  },
  {
   "cell_type": "code",
   "execution_count": null,
   "id": "4f33db88-9c66-4886-aacd-38ee79040d9a",
   "metadata": {},
   "outputs": [],
   "source": [
    "# Do this is also in the google collab "
   ]
  },
  {
   "cell_type": "code",
   "execution_count": null,
   "id": "75eb2b2c-4ff0-4a45-a12f-2b0ac3ea6d22",
   "metadata": {},
   "outputs": [],
   "source": [
    "#go to google collab and this lecture"
   ]
  }
 ],
 "metadata": {
  "kernelspec": {
   "display_name": "Python 3 (ipykernel)",
   "language": "python",
   "name": "python3"
  },
  "language_info": {
   "codemirror_mode": {
    "name": "ipython",
    "version": 3
   },
   "file_extension": ".py",
   "mimetype": "text/x-python",
   "name": "python",
   "nbconvert_exporter": "python",
   "pygments_lexer": "ipython3",
   "version": "3.10.8"
  }
 },
 "nbformat": 4,
 "nbformat_minor": 5
}
