{
 "cells": [
  {
   "cell_type": "markdown",
   "id": "c85042e1",
   "metadata": {},
   "source": [
    "<H3>OOPS-Object oriented programming system\n",
    "    \n",
    "<h5>OOP’s is a programming pattern that is built around objects or entities, so it's called object-oriented programming system.\n",
    "   there are four major pillars in oops.Inheritance, Polymorphism, Encapsulation and Abstraction."
   ]
  },
  {
   "cell_type": "code",
   "execution_count": 2,
   "id": "96314cee",
   "metadata": {},
   "outputs": [],
   "source": [
    "#Class is a blueprint which defines some properties and behaviours.\n",
    "class test:          #class is a reserved keyword\n",
    "    pass      #This is a class without a body"
   ]
  },
  {
   "cell_type": "code",
   "execution_count": 4,
   "id": "999991ea",
   "metadata": {},
   "outputs": [],
   "source": [
    "#create object/instance/variable of the class\n",
    "a=test()"
   ]
  },
  {
   "cell_type": "code",
   "execution_count": 5,
   "id": "6258bcf7",
   "metadata": {},
   "outputs": [
    {
     "name": "stdout",
     "output_type": "stream",
     "text": [
      "<class '__main__.test'>\n"
     ]
    }
   ],
   "source": [
    "print(type(a))"
   ]
  },
  {
   "cell_type": "code",
   "execution_count": 7,
   "id": "26a1170a",
   "metadata": {},
   "outputs": [],
   "source": [
    "class test1:\n",
    "    def wel_guys():\n",
    "        print(\"Welcome to pwskills\")"
   ]
  },
  {
   "cell_type": "code",
   "execution_count": 9,
   "id": "c53a05ad",
   "metadata": {},
   "outputs": [],
   "source": [
    "Deepa=test1()"
   ]
  },
  {
   "cell_type": "code",
   "execution_count": 10,
   "id": "8cadd6a7",
   "metadata": {},
   "outputs": [
    {
     "ename": "TypeError",
     "evalue": "test1.wel_guys() takes 0 positional arguments but 1 was given",
     "output_type": "error",
     "traceback": [
      "\u001b[1;31m---------------------------------------------------------------------------\u001b[0m",
      "\u001b[1;31mTypeError\u001b[0m                                 Traceback (most recent call last)",
      "Cell \u001b[1;32mIn[10], line 1\u001b[0m\n\u001b[1;32m----> 1\u001b[0m \u001b[43mDeepa\u001b[49m\u001b[38;5;241;43m.\u001b[39;49m\u001b[43mwel_guys\u001b[49m\u001b[43m(\u001b[49m\u001b[43m)\u001b[49m\n",
      "\u001b[1;31mTypeError\u001b[0m: test1.wel_guys() takes 0 positional arguments but 1 was given"
     ]
    }
   ],
   "source": [
    "Deepa.wel_guys()  #This gives error.But why?\n",
    "#Because whenever we create a function inside a class then we have to specify a pointer or reference \n",
    "#to that function.So that the class can bind that method and the class's objects can access it"
   ]
  },
  {
   "cell_type": "code",
   "execution_count": 11,
   "id": "2f18d254",
   "metadata": {},
   "outputs": [],
   "source": [
    "class test1:\n",
    "    def wel_guys(self):   #self is not a keyword it is just a reference\n",
    "        print(\"Welcome to pwskills\")"
   ]
  },
  {
   "cell_type": "code",
   "execution_count": 12,
   "id": "617a04ce",
   "metadata": {},
   "outputs": [],
   "source": [
    "Deepa=test1()           #object 1"
   ]
  },
  {
   "cell_type": "code",
   "execution_count": 13,
   "id": "d169226c",
   "metadata": {},
   "outputs": [
    {
     "name": "stdout",
     "output_type": "stream",
     "text": [
      "Welcome to pwskills\n"
     ]
    }
   ],
   "source": [
    "Deepa.wel_guys()"
   ]
  },
  {
   "cell_type": "code",
   "execution_count": 14,
   "id": "6ee117a0",
   "metadata": {},
   "outputs": [],
   "source": [
    "ram=test1()            #object 2"
   ]
  },
  {
   "cell_type": "code",
   "execution_count": 15,
   "id": "67205ec0",
   "metadata": {},
   "outputs": [
    {
     "name": "stdout",
     "output_type": "stream",
     "text": [
      "Welcome to pwskills\n"
     ]
    }
   ],
   "source": [
    "ram.wel_guys()"
   ]
  },
  {
   "cell_type": "code",
   "execution_count": null,
   "id": "3d685996",
   "metadata": {},
   "outputs": [],
   "source": [
    "#Create a class that contains diferent values for different objects"
   ]
  },
  {
   "cell_type": "code",
   "execution_count": null,
   "id": "39f9f672",
   "metadata": {},
   "outputs": [],
   "source": [
    "#This can be done by using a constructor"
   ]
  },
  {
   "cell_type": "code",
   "execution_count": 1,
   "id": "5a45a0b1",
   "metadata": {},
   "outputs": [],
   "source": [
    "class pwskilllist:\n",
    "    def _init_(self,phn_no,email_id,student_id):     \n",
    "    #init is a in-built constructor.The very first argument is going to be self\n",
    "        self.phn_no=phn_no\n",
    "        self.email_id=email_id\n",
    "        self.student_id=student_id\n",
    "    \n",
    "    def return_student_details(self):   \n",
    "        return self.phn_no,self.email_id,self.student_id\n",
    "    #internal method will access the values of the objects using self\n",
    "    #Whatever data we are accessing inside a class we have to access it through self pointer\n",
    "    #Outside the class we can access it using object.data "
   ]
  },
  {
   "cell_type": "code",
   "execution_count": 2,
   "id": "a62a2acb",
   "metadata": {},
   "outputs": [
    {
     "ename": "TypeError",
     "evalue": "pwskilllist() takes no arguments",
     "output_type": "error",
     "traceback": [
      "\u001b[1;31m---------------------------------------------------------------------------\u001b[0m",
      "\u001b[1;31mTypeError\u001b[0m                                 Traceback (most recent call last)",
      "Cell \u001b[1;32mIn[2], line 1\u001b[0m\n\u001b[1;32m----> 1\u001b[0m rohan\u001b[38;5;241m=\u001b[39m\u001b[43mpwskilllist\u001b[49m\u001b[43m(\u001b[49m\u001b[38;5;241;43m3623564\u001b[39;49m\u001b[43m,\u001b[49m\u001b[38;5;124;43m\"\u001b[39;49m\u001b[38;5;124;43mRohan@123\u001b[39;49m\u001b[38;5;124;43m\"\u001b[39;49m\u001b[43m,\u001b[49m\u001b[38;5;241;43m56\u001b[39;49m\u001b[43m)\u001b[49m\n",
      "\u001b[1;31mTypeError\u001b[0m: pwskilllist() takes no arguments"
     ]
    }
   ],
   "source": [
    "rohan=pwskilllist(3623564,\"Rohan@123\",56)"
   ]
  },
  {
   "cell_type": "code",
   "execution_count": 21,
   "id": "90ab89d7",
   "metadata": {},
   "outputs": [
    {
     "ename": "NameError",
     "evalue": "name 'rohan' is not defined",
     "output_type": "error",
     "traceback": [
      "\u001b[1;31m---------------------------------------------------------------------------\u001b[0m",
      "\u001b[1;31mNameError\u001b[0m                                 Traceback (most recent call last)",
      "Cell \u001b[1;32mIn[21], line 1\u001b[0m\n\u001b[1;32m----> 1\u001b[0m \u001b[43mrohan\u001b[49m\u001b[38;5;241m.\u001b[39mphnno       \u001b[38;5;66;03m#Outside the class we can access it using object.data \u001b[39;00m\n",
      "\u001b[1;31mNameError\u001b[0m: name 'rohan' is not defined"
     ]
    }
   ],
   "source": [
    "rohan.phnno       #Outside the class we can access it using object.data "
   ]
  },
  {
   "cell_type": "code",
   "execution_count": 27,
   "id": "ff79f404",
   "metadata": {},
   "outputs": [
    {
     "ename": "NameError",
     "evalue": "name 'rohan' is not defined",
     "output_type": "error",
     "traceback": [
      "\u001b[1;31m---------------------------------------------------------------------------\u001b[0m",
      "\u001b[1;31mNameError\u001b[0m                                 Traceback (most recent call last)",
      "Cell \u001b[1;32mIn[27], line 1\u001b[0m\n\u001b[1;32m----> 1\u001b[0m \u001b[43mrohan\u001b[49m\u001b[38;5;241m.\u001b[39mreturn_student_details()\n",
      "\u001b[1;31mNameError\u001b[0m: name 'rohan' is not defined"
     ]
    }
   ],
   "source": [
    "rohan.return_student_details()"
   ]
  },
  {
   "cell_type": "code",
   "execution_count": 30,
   "id": "4e3124f8",
   "metadata": {},
   "outputs": [],
   "source": [
    "class pwskilllist2:\n",
    "    def _init_(deepa,phn_no,email_id,student_id): \n",
    "    #here name phn_no cant be differernt both side but we will use only name associated with the self\n",
    "        deepa.phn_no=phn_no    \n",
    "        deepa.email_id=email_id                    #self is not a keyword it is just a reference\n",
    "        deepa.student_id=student_id\n",
    "    \n",
    "    def return_student_details(deepa):   \n",
    "        return deepa.phn_no,deepa.email_id,deepa.student_id"
   ]
  },
  {
   "cell_type": "code",
   "execution_count": 32,
   "id": "aa9b3c89",
   "metadata": {},
   "outputs": [
    {
     "ename": "TypeError",
     "evalue": "pwskilllist2() takes no arguments",
     "output_type": "error",
     "traceback": [
      "\u001b[1;31m---------------------------------------------------------------------------\u001b[0m",
      "\u001b[1;31mTypeError\u001b[0m                                 Traceback (most recent call last)",
      "Cell \u001b[1;32mIn[32], line 1\u001b[0m\n\u001b[1;32m----> 1\u001b[0m ram\u001b[38;5;241m=\u001b[39m\u001b[43mpwskilllist2\u001b[49m\u001b[43m(\u001b[49m\u001b[38;5;241;43m65365\u001b[39;49m\u001b[43m,\u001b[49m\u001b[38;5;124;43m\"\u001b[39;49m\u001b[38;5;124;43mRohan@gmail.com\u001b[39;49m\u001b[38;5;124;43m\"\u001b[39;49m\u001b[43m,\u001b[49m\u001b[38;5;241;43m44\u001b[39;49m\u001b[43m)\u001b[49m\n",
      "\u001b[1;31mTypeError\u001b[0m: pwskilllist2() takes no arguments"
     ]
    }
   ],
   "source": [
    "ram=pwskilllist2(65365,\"Rohan@gmail.com\",44)"
   ]
  },
  {
   "cell_type": "markdown",
   "id": "81f5e6c9",
   "metadata": {},
   "source": [
    "There are five types of inheritance.Single Inheritance. Multiple Inheritance. Multilevel Inheritance. Hierarchical Inheritance. Hybrid Inheritance.\n",
    "\n",
    "\n",
    " When a derived class inherits the base class, then the derived class can access all the functionality, and the base class's code can be reused in the derived class."
   ]
  }
 ],
 "metadata": {
  "kernelspec": {
   "display_name": "Python 3 (ipykernel)",
   "language": "python",
   "name": "python3"
  },
  "language_info": {
   "codemirror_mode": {
    "name": "ipython",
    "version": 3
   },
   "file_extension": ".py",
   "mimetype": "text/x-python",
   "name": "python",
   "nbconvert_exporter": "python",
   "pygments_lexer": "ipython3",
   "version": "3.11.0"
  }
 },
 "nbformat": 4,
 "nbformat_minor": 5
}
