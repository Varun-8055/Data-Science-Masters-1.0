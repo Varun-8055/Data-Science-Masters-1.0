{
 "cells": [
  {
   "cell_type": "markdown",
   "id": "8d18d2f2-b759-43de-98ea-1c7a7c00f7f7",
   "metadata": {},
   "source": [
    "ASSIGNMENTS"
   ]
  },
  {
   "cell_type": "markdown",
   "id": "068cbca9-c65c-41cd-b75d-c7d6ae50ea37",
   "metadata": {},
   "source": [
    "30-JAN  "
   ]
  },
  {
   "cell_type": "code",
   "execution_count": 1,
   "id": "c868c86a-8d30-47d6-b3a0-38f03a7b30c4",
   "metadata": {},
   "outputs": [
    {
     "name": "stdout",
     "output_type": "stream",
     "text": [
      "       *\n",
      "      ***\n",
      "     *****\n",
      "    *******\n",
      "   *********\n",
      "  ***********\n",
      " *************\n"
     ]
    }
   ],
   "source": [
    " #1) Write a code to draw this pattern\n",
    " #       *\n",
    " #      ***\n",
    " #     *****\n",
    " #    *******\n",
    " #   *********\n",
    " #  ***********\n",
    " # *************\n",
    "n=7\n",
    "for i in range(n):\n",
    "    print(\" \"*(n-i),end=\"\")\n",
    "    for j in range(i*2+1):\n",
    "        print(\"*\",end=\"\")#itertion will be shown in one line(end=\" \")\n",
    "    print(\"\\r\") "
   ]
  },
  {
   "cell_type": "code",
   "execution_count": 2,
   "id": "de86cad5-91d4-42f9-b775-b37ae4d35f31",
   "metadata": {},
   "outputs": [
    {
     "name": "stdout",
     "output_type": "stream",
     "text": [
      "Enter the product price in rupees:  2999\n"
     ]
    },
    {
     "name": "stdout",
     "output_type": "stream",
     "text": [
      "Price of product is:2099.3\n"
     ]
    }
   ],
   "source": [
    "#2) Went a mall\n",
    "#Take as input of the product price\n",
    "#if the product price is >=3000 then 20% off\n",
    "#Print the product price after discount\n",
    "#if the product price is <3000 and >=2000 then 30% off\n",
    "#If the product price is 2999 then you will get a special gift\n",
    "#Print the product price after discount\n",
    "#if the product price is <2000 and >=1000 then 40% off\n",
    "#Print the product price after discount\n",
    "product_price=int(input(\"Enter the product price in rupees: \"))\n",
    "if (product_price>=1000 and product_price<2000):\n",
    "    #print(\"Price of product is:{}\".format(product_price*0.6))   (one way 100-20=80%)\n",
    "    print(\"Price of product is:{}\".format(product_price-product_price*0.4))  #(other way)\n",
    "elif(product_price>=2000 and product_price<3000):\n",
    "    #print(\"Price of product is:{}\".format(product_price*0.7))   (one way 100-30=70%)\n",
    "    print(\"Price of product is:{}\".format(product_price-product_price*0.3))  #(other way)\n",
    "else:\n",
    "    #print(\"Price of product is:{}\".format(product_price*0.8))  (one way 100-40=60%)\n",
    "    print(\"Price of product is:{}\".format(product_price-product_price*0.2))   #(other way)"
   ]
  },
  {
   "cell_type": "markdown",
   "id": "1402a958-2f21-4f8d-b6df-995f8c1e44bb",
   "metadata": {},
   "source": []
  },
  {
   "cell_type": "markdown",
   "id": "a4bf7a03-310b-46ad-b5ea-e1c4dc1b45ab",
   "metadata": {},
   "source": [
    "31 JAN"
   ]
  },
  {
   "cell_type": "code",
   "execution_count": 3,
   "id": "018d3a55-5cec-4325-b0d8-0b0900cb280f",
   "metadata": {},
   "outputs": [
    {
     "data": {
      "text/plain": [
       "'Science'"
      ]
     },
     "execution_count": 3,
     "metadata": {},
     "output_type": "execute_result"
    }
   ],
   "source": [
    "#1) course_name=\"Data Science MasterClass\"\n",
    "#just print science from froward and reverse direction  using slicing\n",
    "course_name=\"Data Science MasterClass\"\n",
    "course_name[5:12]"
   ]
  },
  {
   "cell_type": "code",
   "execution_count": 4,
   "id": "e352c9e4-65ed-4cd4-8a3b-112b6a6a9e9d",
   "metadata": {},
   "outputs": [
    {
     "data": {
      "text/plain": [
       "'ecneicS'"
      ]
     },
     "execution_count": 4,
     "metadata": {},
     "output_type": "execute_result"
    }
   ],
   "source": [
    "course_name[11:4:-1]"
   ]
  },
  {
   "cell_type": "code",
   "execution_count": null,
   "id": "932ac3be-9201-4a8c-b349-786d00ba11f7",
   "metadata": {},
   "outputs": [],
   "source": []
  },
  {
   "cell_type": "markdown",
   "id": "9e0d2144-ab1c-4b7b-a82c-ddf438d1f48e",
   "metadata": {},
   "source": [
    "1 FEB"
   ]
  },
  {
   "cell_type": "code",
   "execution_count": 7,
   "id": "6b922ff0-8ec1-4bde-bb84-5fc33b7a2216",
   "metadata": {},
   "outputs": [
    {
     "name": "stdout",
     "output_type": "stream",
     "text": [
      "8 = D\n",
      "7 = O\n",
      "6 = O\n",
      "5 = G\n",
      "4 =  \n",
      "3 = R\n",
      "2 =  \n",
      "1 = E\n",
      "0 = W\n"
     ]
    }
   ],
   "source": [
    "#1) How to use index to iterate the string in reverse direction\n",
    "str=\"WE R GOOD\"                             #-1 represent in reverse order\n",
    "for i in range(len(str)-1,-1,-1):           #len(str)-1 gives the last index, \n",
    "    print(i,\"=\",str[i])                     #-1 represent the last iterator (till 0)      "
   ]
  },
  {
   "cell_type": "code",
   "execution_count": 8,
   "id": "32c0a38f-ba1a-4027-a696-a116a145cc19",
   "metadata": {},
   "outputs": [
    {
     "name": "stdout",
     "output_type": "stream",
     "text": [
      "s\n",
      "l\n",
      "l\n",
      "i\n",
      "k\n",
      "s\n",
      "w\n",
      "p\n"
     ]
    }
   ],
   "source": [
    "#Another way\n",
    "string=\"pwskills\"\n",
    "ch=len(string)-1\n",
    "while(ch>=0):\n",
    "    print(string[ch])\n",
    "    ch=ch-1"
   ]
  },
  {
   "cell_type": "code",
   "execution_count": 9,
   "id": "46205c78-32d4-4520-8919-9c49e6b3bb13",
   "metadata": {},
   "outputs": [
    {
     "name": "stdout",
     "output_type": "stream",
     "text": [
      "D\n",
      "O\n",
      "O\n",
      "G\n",
      " \n",
      "R\n",
      " \n",
      "E\n",
      "W\n"
     ]
    }
   ],
   "source": [
    "#another way\n",
    "for i in range(len(str)):\n",
    "    print(str[len(str)-(i+1)])"
   ]
  },
  {
   "cell_type": "code",
   "execution_count": 10,
   "id": "08f3aeef-8845-46e6-be89-4a3d007e08a8",
   "metadata": {},
   "outputs": [
    {
     "name": "stdout",
     "output_type": "stream",
     "text": [
      "p this is not a vowel\n",
      "w this is not a vowel\n",
      "s this is not a vowel\n",
      "k this is not a vowel\n",
      "i this is a vowel\n",
      "l this is not a vowel\n",
      "l this is not a vowel\n",
      "s this is not a vowel\n"
     ]
    }
   ],
   "source": [
    "#2) check Whether vowel or not\n",
    "name=\"pwskills\"\n",
    "vowel=\"AaEeIiOoUu\"\n",
    "for ch in name:\n",
    "    if ch in vowel:\n",
    "        print(\"{} this is a vowel\".format(ch))\n",
    "    else :\n",
    "        print(\"{} this is not a vowel\".format(ch))"
   ]
  },
  {
   "cell_type": "code",
   "execution_count": 11,
   "id": "6d3d3ae2-0010-4b4c-a219-08de79517e61",
   "metadata": {},
   "outputs": [
    {
     "data": {
      "text/plain": [
       "[0,\n",
       " 'ODD',\n",
       " 2,\n",
       " 'ODD',\n",
       " 4,\n",
       " 'ODD',\n",
       " 6,\n",
       " 'ODD',\n",
       " 8,\n",
       " 'ODD',\n",
       " 10,\n",
       " 'ODD',\n",
       " 12,\n",
       " 'ODD',\n",
       " 14,\n",
       " 'ODD',\n",
       " 16,\n",
       " 'ODD',\n",
       " 18,\n",
       " 'ODD']"
      ]
     },
     "execution_count": 11,
     "metadata": {},
     "output_type": "execute_result"
    }
   ],
   "source": [
    "#3) how to get even no using list comprehension\n",
    "[i if i%2==0 else \"ODD\" for i in range(20)]   "
   ]
  },
  {
   "cell_type": "code",
   "execution_count": 12,
   "id": "7b11091e-ca77-402d-b0c5-8122f0ea938b",
   "metadata": {},
   "outputs": [
    {
     "name": "stdout",
     "output_type": "stream",
     "text": [
      "20\n",
      "16\n"
     ]
    }
   ],
   "source": [
    "#4) Iterate through a list=[1,2,3,4,5,6,7,8]\n",
    "#and print submission of even variable or submission of odd variable to 2 reference variable\n",
    "list=[1,2,3,4,5,6,7,8]\n",
    "even_sum=0\n",
    "odd_sum=0\n",
    "for i in list:\n",
    "    if i%2==0:\n",
    "        even_sum+=i\n",
    "    else:\n",
    "        odd_sum+=i\n",
    "print(even_sum)\n",
    "print(odd_sum)"
   ]
  },
  {
   "cell_type": "code",
   "execution_count": 13,
   "id": "dd97532f-8e34-4482-a7ff-c4edca495a04",
   "metadata": {},
   "outputs": [
    {
     "data": {
      "text/plain": [
       "20"
      ]
     },
     "execution_count": 13,
     "metadata": {},
     "output_type": "execute_result"
    }
   ],
   "source": [
    "even_sum=sum([num for num in list if num%2==0])\n",
    "even_sum"
   ]
  },
  {
   "cell_type": "code",
   "execution_count": 14,
   "id": "64ff0dee-5d66-417a-9ee1-d181c37eb51f",
   "metadata": {},
   "outputs": [
    {
     "data": {
      "text/plain": [
       "16"
      ]
     },
     "execution_count": 14,
     "metadata": {},
     "output_type": "execute_result"
    }
   ],
   "source": [
    "odd_sum=sum([num for num in list if num%2!=0])  \n",
    "odd_sum"
   ]
  },
  {
   "cell_type": "code",
   "execution_count": 15,
   "id": "6365b4db-6b09-4400-87b4-d2cc8fbd519e",
   "metadata": {},
   "outputs": [
    {
     "data": {
      "text/plain": [
       "[1, 4, 9, 16, 25, 36, 49, 64, 81, 100]"
      ]
     },
     "execution_count": 15,
     "metadata": {},
     "output_type": "execute_result"
    }
   ],
   "source": [
    "#5) lst=[1,2,3,4,5,6,7,8,9,10]\n",
    "#print the square of all number in the form of list comprehension\n",
    "lst=[1,2,3,4,5,6,7,8,9,10]\n",
    "[num**2 for num in lst]   #2 stars is for power"
   ]
  },
  {
   "cell_type": "code",
   "execution_count": 17,
   "id": "08870b63-7b38-4db7-b910-c7ed11b49303",
   "metadata": {},
   "outputs": [
    {
     "data": {
      "text/plain": [
       "[0, 1, 2, 3, 4]"
      ]
     },
     "execution_count": 17,
     "metadata": {},
     "output_type": "execute_result"
    }
   ],
   "source": [
    "#6) Create a list of only the positive numbers from a given list: number=[-2,-1,0,1,2,3,4]\n",
    "number=[-2,-1,0,1,2,3,4]\n",
    "[num for num in number if num>=0]"
   ]
  },
  {
   "cell_type": "code",
   "execution_count": 18,
   "id": "43f7c78e-d2df-442f-9936-6c1b72c02340",
   "metadata": {},
   "outputs": [
    {
     "data": {
      "text/plain": [
       "['a', 'b', 'c', 'd']"
      ]
     },
     "execution_count": 18,
     "metadata": {},
     "output_type": "execute_result"
    }
   ],
   "source": [
    "#7) Create a list of only first letter of words in a list\n",
    "words=[\"apple\",\"banana\",\"cherry\",\"date\"]\n",
    "[word[0] for word in words]   "
   ]
  },
  {
   "cell_type": "code",
   "execution_count": 19,
   "id": "9e422651-f807-4ff9-93d5-cf1d31fe1770",
   "metadata": {},
   "outputs": [
    {
     "data": {
      "text/plain": [
       "[32.0, 50.0, 68.0, 86.0, 104.0, 122.0]"
      ]
     },
     "execution_count": 19,
     "metadata": {},
     "output_type": "execute_result"
    }
   ],
   "source": [
    "#8) convert a temperature celsius into fahrenhite using list comprehension\n",
    "#(9/5)*temp-32\n",
    "celsius_tem=[0,10,20,30,40,50]\n",
    "[(9/5)*temp+32 for temp in celsius_tem]"
   ]
  },
  {
   "cell_type": "code",
   "execution_count": 20,
   "id": "54399af1-4ecb-4ea4-8148-6d91e9b996c9",
   "metadata": {},
   "outputs": [
    {
     "data": {
      "text/plain": [
       "[1, 2, 3, 4, 5, 6, 7, 8, 9]"
      ]
     },
     "execution_count": 20,
     "metadata": {},
     "output_type": "execute_result"
    }
   ],
   "source": [
    "#9) Flatten a list of list into a single list using list comprehension\n",
    "lists=[[1,2,3],[4,5,6],[7,8,9]]\n",
    "[num for sublist in lists for num in sublist] "
   ]
  },
  {
   "cell_type": "code",
   "execution_count": 1,
   "id": "57fade10-096f-4c11-8e3f-e4d3b5a813e6",
   "metadata": {},
   "outputs": [
    {
     "data": {
      "text/plain": [
       "[2, 3, 5, 7]"
      ]
     },
     "execution_count": 1,
     "metadata": {},
     "output_type": "execute_result"
    }
   ],
   "source": [
    "#10) using both code and list comprehension\n",
    "#create a list of only the prime numbers from the list\n",
    "numbers=[0,1,2,3,4,5,6,7,8,9,10]\n",
    "prime_list=[]\n",
    "for i in numbers:\n",
    "    if i==0 or i==1:\n",
    "        continue\n",
    "    for j in range(2,i//2+1):\n",
    "        if i%j==0:\n",
    "            break\n",
    "    else:\n",
    "        prime_list.append(i)\n",
    "prime_list"
   ]
  },
  {
   "cell_type": "code",
   "execution_count": 2,
   "id": "324b1c5e-2c49-473e-ba55-2033b9d6652d",
   "metadata": {},
   "outputs": [
    {
     "data": {
      "text/plain": [
       "[2, 3, 5, 7]"
      ]
     },
     "execution_count": 2,
     "metadata": {},
     "output_type": "execute_result"
    }
   ],
   "source": [
    "[num for num in numbers if num!=0 and num!=1 if all(num%i!=0 for i in range(2,num))]"
   ]
  },
  {
   "cell_type": "code",
   "execution_count": 3,
   "id": "f259375b-b206-48fa-8426-49d52f9100fe",
   "metadata": {},
   "outputs": [
    {
     "name": "stdout",
     "output_type": "stream",
     "text": [
      "[(), (1,), (2,), (3,), (4,), (5,), (1, 2), (1, 3), (1, 4), (1, 5), (2, 3), (2, 4), (2, 5), (3, 4), (3, 5), (4, 5), (1, 2, 3), (1, 2, 4), (1, 2, 5), (1, 3, 4), (1, 3, 5), (1, 4, 5), (2, 3, 4), (2, 3, 5), (2, 4, 5), (3, 4, 5), (1, 2, 3, 4), (1, 2, 3, 5), (1, 2, 4, 5), (1, 3, 4, 5), (2, 3, 4, 5), (1, 2, 3, 4, 5)]\n"
     ]
    }
   ],
   "source": [
    "#11) using both code and list comprehension\n",
    "#Create a list of all the possible combination of 2 elements from a list\n",
    "import itertools\n",
    "\n",
    "numbers=[1,2,3,4,5]\n",
    "\n",
    "combinations = []\n",
    "\n",
    "for r in range(len(numbers)+1):\n",
    "    for combination in itertools.combinations(set(numbers), r):\n",
    "        combinations.append(combination)\n",
    "\n",
    "print(combinations)"
   ]
  }
 ],
 "metadata": {
  "kernelspec": {
   "display_name": "Python 3 (ipykernel)",
   "language": "python",
   "name": "python3"
  },
  "language_info": {
   "codemirror_mode": {
    "name": "ipython",
    "version": 3
   },
   "file_extension": ".py",
   "mimetype": "text/x-python",
   "name": "python",
   "nbconvert_exporter": "python",
   "pygments_lexer": "ipython3",
   "version": "3.10.8"
  }
 },
 "nbformat": 4,
 "nbformat_minor": 5
}
