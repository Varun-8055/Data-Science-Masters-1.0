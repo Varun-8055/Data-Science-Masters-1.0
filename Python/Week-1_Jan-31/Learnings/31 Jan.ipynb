{
 "cells": [
  {
   "cell_type": "code",
   "execution_count": null,
   "id": "707b6ba0",
   "metadata": {},
   "outputs": [],
   "source": [
    "#Logical operator\n",
    "# And\n",
    "# Or\n",
    "# Not`"
   ]
  },
  {
   "cell_type": "code",
   "execution_count": 1,
   "id": "a63586ad",
   "metadata": {},
   "outputs": [
    {
     "data": {
      "text/plain": [
       "True"
      ]
     },
     "execution_count": 1,
     "metadata": {},
     "output_type": "execute_result"
    }
   ],
   "source": [
    "not bool(0)"
   ]
  },
  {
   "cell_type": "code",
   "execution_count": 2,
   "id": "8e3a2571",
   "metadata": {},
   "outputs": [
    {
     "data": {
      "text/plain": [
       "False"
      ]
     },
     "execution_count": 2,
     "metadata": {},
     "output_type": "execute_result"
    }
   ],
   "source": [
    "not bool(1)"
   ]
  },
  {
   "cell_type": "code",
   "execution_count": 4,
   "id": "9ce69c66",
   "metadata": {},
   "outputs": [
    {
     "data": {
      "text/plain": [
       "True"
      ]
     },
     "execution_count": 4,
     "metadata": {},
     "output_type": "execute_result"
    }
   ],
   "source": [
    "not int(bool(0))"
   ]
  },
  {
   "cell_type": "code",
   "execution_count": 5,
   "id": "a62d32ee",
   "metadata": {},
   "outputs": [
    {
     "data": {
      "text/plain": [
       "False"
      ]
     },
     "execution_count": 5,
     "metadata": {},
     "output_type": "execute_result"
    }
   ],
   "source": [
    "not int(bool(1))"
   ]
  },
  {
   "cell_type": "code",
   "execution_count": 6,
   "id": "845a83f4",
   "metadata": {},
   "outputs": [
    {
     "data": {
      "text/plain": [
       "1"
      ]
     },
     "execution_count": 6,
     "metadata": {},
     "output_type": "execute_result"
    }
   ],
   "source": [
    "int(not bool(0))"
   ]
  },
  {
   "cell_type": "code",
   "execution_count": 7,
   "id": "ee445d98",
   "metadata": {},
   "outputs": [
    {
     "data": {
      "text/plain": [
       "1"
      ]
     },
     "execution_count": 7,
     "metadata": {},
     "output_type": "execute_result"
    }
   ],
   "source": [
    "int(not bool(0)) #not is a boolean operation so it give the value in true and false"
   ]
  },
  {
   "cell_type": "code",
   "execution_count": 8,
   "id": "1deffaee",
   "metadata": {},
   "outputs": [
    {
     "data": {
      "text/plain": [
       "False"
      ]
     },
     "execution_count": 8,
     "metadata": {},
     "output_type": "execute_result"
    }
   ],
   "source": [
    "not 2"
   ]
  },
  {
   "cell_type": "code",
   "execution_count": 9,
   "id": "42ccff9a",
   "metadata": {},
   "outputs": [
    {
     "data": {
      "text/plain": [
       "True"
      ]
     },
     "execution_count": 9,
     "metadata": {},
     "output_type": "execute_result"
    }
   ],
   "source": [
    "not 0"
   ]
  },
  {
   "cell_type": "code",
   "execution_count": 10,
   "id": "d4e87ba2",
   "metadata": {},
   "outputs": [
    {
     "data": {
      "text/plain": [
       "False"
      ]
     },
     "execution_count": 10,
     "metadata": {},
     "output_type": "execute_result"
    }
   ],
   "source": [
    "not -1"
   ]
  },
  {
   "cell_type": "code",
   "execution_count": 13,
   "id": "2211c3f8",
   "metadata": {},
   "outputs": [
    {
     "name": "stdout",
     "output_type": "stream",
     "text": [
      "Boolean value of no.0 is False\n",
      "Boolean value of no.1 is True\n",
      "Negative value of no. 0 is True and Negative value of no. 1 is False\n",
      "#------------------------#\n"
     ]
    }
   ],
   "source": [
    "#Exercise\n",
    "zero=0\n",
    "one=1\n",
    "print(f\"Boolean value of no.{zero} is {bool(zero)}\")\n",
    "print(f\"Boolean value of no.{one} is {bool(one)}\")\n",
    "print(f\"Negative value of no. {zero} is {not zero} and Negative value of no. {one} is {not one}\")\n",
    "print(\"#------------------------#\")"
   ]
  },
  {
   "cell_type": "code",
   "execution_count": 16,
   "id": "d4c2c405",
   "metadata": {},
   "outputs": [
    {
     "data": {
      "text/plain": [
       "True"
      ]
     },
     "execution_count": 16,
     "metadata": {},
     "output_type": "execute_result"
    }
   ],
   "source": [
    "not False*False"
   ]
  },
  {
   "cell_type": "code",
   "execution_count": 17,
   "id": "94ea2a4d",
   "metadata": {},
   "outputs": [
    {
     "data": {
      "text/plain": [
       "0"
      ]
     },
     "execution_count": 17,
     "metadata": {},
     "output_type": "execute_result"
    }
   ],
   "source": [
    "(not False)*False"
   ]
  },
  {
   "cell_type": "code",
   "execution_count": 18,
   "id": "9e43dcb8",
   "metadata": {},
   "outputs": [
    {
     "data": {
      "text/plain": [
       "False"
      ]
     },
     "execution_count": 18,
     "metadata": {},
     "output_type": "execute_result"
    }
   ],
   "source": [
    "not True*True"
   ]
  },
  {
   "cell_type": "code",
   "execution_count": 20,
   "id": "92b5eb4e",
   "metadata": {},
   "outputs": [
    {
     "data": {
      "text/plain": [
       "True"
      ]
     },
     "execution_count": 20,
     "metadata": {},
     "output_type": "execute_result"
    }
   ],
   "source": [
    "not (False)*False==True"
   ]
  },
  {
   "cell_type": "code",
   "execution_count": 21,
   "id": "33bd7a9b",
   "metadata": {},
   "outputs": [
    {
     "data": {
      "text/plain": [
       "False"
      ]
     },
     "execution_count": 21,
     "metadata": {},
     "output_type": "execute_result"
    }
   ],
   "source": [
    "(not(False))*False==True"
   ]
  },
  {
   "cell_type": "markdown",
   "id": "2b8a950d",
   "metadata": {},
   "source": [
    "### 4.1.2 Equality Operators\n",
    "\n",
    "Following operations are present in python for equlity check operation-\n",
    "\n",
    "|Operators|Meaning|\n",
    "|-|-|\n",
    "|**is**|***a is b*** returns true if variable/identifiers a and b *points* to the *same object*|\n",
    "|**is not**|***a is not b*** returns true if variable/identifiers a and b *points* to the *different object*|\n",
    "|**==**|***a == b*** returns true if variable/identifiers a and b has same value|\n",
    "|**!=**|***a != b*** returns true if variable/identifiers a and b has different value|"
   ]
  },
  {
   "cell_type": "code",
   "execution_count": 23,
   "id": "63c7e6d2",
   "metadata": {},
   "outputs": [],
   "source": [
    "lst_a=[1,2,3,4]\n",
    "lst_b=[1,2,3,4]"
   ]
  },
  {
   "cell_type": "code",
   "execution_count": 24,
   "id": "e8bd4040",
   "metadata": {},
   "outputs": [
    {
     "data": {
      "text/plain": [
       "2592853740928"
      ]
     },
     "execution_count": 24,
     "metadata": {},
     "output_type": "execute_result"
    }
   ],
   "source": [
    "id(lst_a)  #it gives memory address"
   ]
  },
  {
   "cell_type": "code",
   "execution_count": 25,
   "id": "5cf6e91a",
   "metadata": {},
   "outputs": [
    {
     "data": {
      "text/plain": [
       "2592857623232"
      ]
     },
     "execution_count": 25,
     "metadata": {},
     "output_type": "execute_result"
    }
   ],
   "source": [
    "id(lst_b)   #it gives memory address"
   ]
  },
  {
   "cell_type": "code",
   "execution_count": 26,
   "id": "1b1bd230",
   "metadata": {},
   "outputs": [
    {
     "data": {
      "text/plain": [
       "False"
      ]
     },
     "execution_count": 26,
     "metadata": {},
     "output_type": "execute_result"
    }
   ],
   "source": [
    "lst_a is lst_b #not referencing to same memory address"
   ]
  },
  {
   "cell_type": "code",
   "execution_count": 27,
   "id": "6f80a136",
   "metadata": {},
   "outputs": [
    {
     "data": {
      "text/plain": [
       "True"
      ]
     },
     "execution_count": 27,
     "metadata": {},
     "output_type": "execute_result"
    }
   ],
   "source": [
    "lst_a is not lst_b"
   ]
  },
  {
   "cell_type": "code",
   "execution_count": 28,
   "id": "9efde4f3",
   "metadata": {},
   "outputs": [
    {
     "data": {
      "text/plain": [
       "True"
      ]
     },
     "execution_count": 28,
     "metadata": {},
     "output_type": "execute_result"
    }
   ],
   "source": [
    "lst_a==lst_b   #content are same"
   ]
  },
  {
   "cell_type": "code",
   "execution_count": 29,
   "id": "ec42e24c",
   "metadata": {},
   "outputs": [
    {
     "data": {
      "text/plain": [
       "False"
      ]
     },
     "execution_count": 29,
     "metadata": {},
     "output_type": "execute_result"
    }
   ],
   "source": [
    "lst_a!=lst_b"
   ]
  },
  {
   "cell_type": "code",
   "execution_count": 30,
   "id": "5e268223",
   "metadata": {},
   "outputs": [
    {
     "name": "stdout",
     "output_type": "stream",
     "text": [
      "140734592701256\n",
      "140734592701256\n"
     ]
    }
   ],
   "source": [
    "a=2\n",
    "b=2\n",
    "print(id(a)) #same memory address as it content same content\n",
    "print(id(b))"
   ]
  },
  {
   "cell_type": "code",
   "execution_count": 32,
   "id": "48bd9328",
   "metadata": {},
   "outputs": [
    {
     "name": "stdout",
     "output_type": "stream",
     "text": [
      "2592857869808\n",
      "2592857869808\n"
     ]
    }
   ],
   "source": [
    "str1=\"Deepa\"\n",
    "str2=\"Deepa\"\n",
    "print(id(str1)) #same thing is done with string\n",
    "print(id(str2))"
   ]
  },
  {
   "cell_type": "code",
   "execution_count": 34,
   "id": "afa60dd4",
   "metadata": {},
   "outputs": [
    {
     "data": {
      "text/plain": [
       "[1, 2, 3, 4]"
      ]
     },
     "execution_count": 34,
     "metadata": {},
     "output_type": "execute_result"
    }
   ],
   "source": [
    "lst_a"
   ]
  },
  {
   "cell_type": "code",
   "execution_count": 35,
   "id": "c0022bc8",
   "metadata": {},
   "outputs": [
    {
     "data": {
      "text/plain": [
       "1"
      ]
     },
     "execution_count": 35,
     "metadata": {},
     "output_type": "execute_result"
    }
   ],
   "source": [
    "lst_a[0]"
   ]
  },
  {
   "cell_type": "code",
   "execution_count": 37,
   "id": "fc877144",
   "metadata": {},
   "outputs": [
    {
     "data": {
      "text/plain": [
       "[20, 2, 3, 4]"
      ]
     },
     "execution_count": 37,
     "metadata": {},
     "output_type": "execute_result"
    }
   ],
   "source": [
    "lst_a[0]=20    #List is mutable\n",
    "lst_a  "
   ]
  },
  {
   "cell_type": "code",
   "execution_count": 38,
   "id": "43564963",
   "metadata": {},
   "outputs": [
    {
     "data": {
      "text/plain": [
       "'Deepa'"
      ]
     },
     "execution_count": 38,
     "metadata": {},
     "output_type": "execute_result"
    }
   ],
   "source": [
    "str1"
   ]
  },
  {
   "cell_type": "code",
   "execution_count": 39,
   "id": "8bff84bc",
   "metadata": {},
   "outputs": [
    {
     "data": {
      "text/plain": [
       "'D'"
      ]
     },
     "execution_count": 39,
     "metadata": {},
     "output_type": "execute_result"
    }
   ],
   "source": [
    "str1[0]   #Error:As string is immutable"
   ]
  },
  {
   "cell_type": "code",
   "execution_count": 40,
   "id": "23353353",
   "metadata": {},
   "outputs": [
    {
     "ename": "TypeError",
     "evalue": "'str' object does not support item assignment",
     "output_type": "error",
     "traceback": [
      "\u001b[1;31m---------------------------------------------------------------------------\u001b[0m",
      "\u001b[1;31mTypeError\u001b[0m                                 Traceback (most recent call last)",
      "Cell \u001b[1;32mIn[40], line 1\u001b[0m\n\u001b[1;32m----> 1\u001b[0m \u001b[43mstr1\u001b[49m\u001b[43m[\u001b[49m\u001b[38;5;241;43m0\u001b[39;49m\u001b[43m]\u001b[49m\u001b[38;5;241m=\u001b[39m\u001b[38;5;124m'\u001b[39m\u001b[38;5;124mj\u001b[39m\u001b[38;5;124m'\u001b[39m\n",
      "\u001b[1;31mTypeError\u001b[0m: 'str' object does not support item assignment"
     ]
    }
   ],
   "source": [
    "str1[0]='j'"
   ]
  },
  {
   "cell_type": "markdown",
   "id": "68b46e03",
   "metadata": {},
   "source": [
    "|Operation|Meaning|\n",
    "|:-:|:-:|\n",
    "| **<** |less than|\n",
    "| **<=** |less than or equal to|\n",
    "| **>** |greater than|\n",
    "| **>=** |greater than or equal to|\n"
   ]
  },
  {
   "cell_type": "code",
   "execution_count": 42,
   "id": "0642ed2b",
   "metadata": {},
   "outputs": [
    {
     "name": "stdout",
     "output_type": "stream",
     "text": [
      "The bike has grater speed than car: False\n"
     ]
    }
   ],
   "source": [
    "speed_car=200\n",
    "speed_bike=250\n",
    "print(f\"The bike has grater speed than car: {speed_car>speed_bike}\")"
   ]
  },
  {
   "cell_type": "code",
   "execution_count": 43,
   "id": "a6dd6fef",
   "metadata": {},
   "outputs": [
    {
     "name": "stdout",
     "output_type": "stream",
     "text": [
      "The bike has grater speed than car: True\n"
     ]
    }
   ],
   "source": [
    "speed_car=200\n",
    "speed_bike=250\n",
    "print(f\"The bike has grater speed than car: {speed_car<speed_bike}\")"
   ]
  },
  {
   "cell_type": "code",
   "execution_count": 44,
   "id": "fc4e6cbe",
   "metadata": {},
   "outputs": [
    {
     "name": "stdout",
     "output_type": "stream",
     "text": [
      "The bike has grater speed than car: False\n"
     ]
    }
   ],
   "source": [
    "speed_car=200\n",
    "speed_bike=250\n",
    "print(f\"The bike has grater speed than car: {speed_car>=speed_bike}\")"
   ]
  },
  {
   "cell_type": "code",
   "execution_count": 45,
   "id": "53044db6",
   "metadata": {},
   "outputs": [
    {
     "name": "stdout",
     "output_type": "stream",
     "text": [
      "The bike has grater speed than car: True\n"
     ]
    }
   ],
   "source": [
    "speed_car=200\n",
    "speed_bike=250\n",
    "print(f\"The bike has grater speed than car: {speed_car<=speed_bike}\")"
   ]
  },
  {
   "cell_type": "markdown",
   "id": "a976b493",
   "metadata": {},
   "source": [
    "#Arithmetic operation"
   ]
  },
  {
   "cell_type": "markdown",
   "id": "8d8af342",
   "metadata": {},
   "source": [
    "## Arithmethic Operations\n",
    "|Operation|Meaning|\n",
    "|:-:|:-:|\n",
    "| **+** |addition|\n",
    "| **-** |subtraction|\n",
    "| **\\*** |multiplication|\n",
    "| **/** |true division|\n",
    "| **//** |integer division|\n",
    "| **%** |the modulo operator|"
   ]
  },
  {
   "cell_type": "code",
   "execution_count": 46,
   "id": "76616512",
   "metadata": {},
   "outputs": [
    {
     "data": {
      "text/plain": [
       "76"
      ]
     },
     "execution_count": 46,
     "metadata": {},
     "output_type": "execute_result"
    }
   ],
   "source": [
    "a=56\n",
    "b=20\n",
    "a+b"
   ]
  },
  {
   "cell_type": "code",
   "execution_count": 47,
   "id": "74e04705",
   "metadata": {},
   "outputs": [
    {
     "data": {
      "text/plain": [
       "36"
      ]
     },
     "execution_count": 47,
     "metadata": {},
     "output_type": "execute_result"
    }
   ],
   "source": [
    "a-b"
   ]
  },
  {
   "cell_type": "code",
   "execution_count": 48,
   "id": "75183755",
   "metadata": {},
   "outputs": [
    {
     "data": {
      "text/plain": [
       "1120"
      ]
     },
     "execution_count": 48,
     "metadata": {},
     "output_type": "execute_result"
    }
   ],
   "source": [
    "a*b"
   ]
  },
  {
   "cell_type": "code",
   "execution_count": 49,
   "id": "92c45fca",
   "metadata": {},
   "outputs": [
    {
     "data": {
      "text/plain": [
       "2.8"
      ]
     },
     "execution_count": 49,
     "metadata": {},
     "output_type": "execute_result"
    }
   ],
   "source": [
    "a/b"
   ]
  },
  {
   "cell_type": "code",
   "execution_count": 50,
   "id": "5c46f9e0",
   "metadata": {},
   "outputs": [
    {
     "data": {
      "text/plain": [
       "2"
      ]
     },
     "execution_count": 50,
     "metadata": {},
     "output_type": "execute_result"
    }
   ],
   "source": [
    "a//b   #only interger"
   ]
  },
  {
   "cell_type": "code",
   "execution_count": 51,
   "id": "4dc9656c",
   "metadata": {},
   "outputs": [
    {
     "data": {
      "text/plain": [
       "16"
      ]
     },
     "execution_count": 51,
     "metadata": {},
     "output_type": "execute_result"
    }
   ],
   "source": [
    "a%b    # remainder"
   ]
  },
  {
   "cell_type": "markdown",
   "id": "720c27ea",
   "metadata": {},
   "source": [
    "### Bitwise Operators\n",
    "|Operation|Meaning|\n",
    "|:-:|:-:|\n",
    "| **∼** |bitwise complement (prefix unary operator)|\n",
    "| **&** |bitwise and|\n",
    "| **\\|** |bitwise or|\n",
    "| **^** |bitwise exclusive-or|\n",
    "| **<<** |shift bits left, filling in with zeros|\n",
    "| **>>** |shift bits right, filling in with sign bit|\n"
   ]
  },
  {
   "cell_type": "code",
   "execution_count": 9,
   "id": "7e4c82db",
   "metadata": {},
   "outputs": [
    {
     "data": {
      "text/plain": [
       "'0b1010'"
      ]
     },
     "execution_count": 9,
     "metadata": {},
     "output_type": "execute_result"
    }
   ],
   "source": [
    "var=10\n",
    "bin(var)  #Binary number   #0b is binary format"
   ]
  },
  {
   "cell_type": "code",
   "execution_count": 10,
   "id": "adaa4134",
   "metadata": {},
   "outputs": [
    {
     "data": {
      "text/plain": [
       "-11"
      ]
     },
     "execution_count": 10,
     "metadata": {},
     "output_type": "execute_result"
    }
   ],
   "source": [
    "~var      #complement"
   ]
  },
  {
   "cell_type": "code",
   "execution_count": 15,
   "id": "17f1ed6d",
   "metadata": {},
   "outputs": [
    {
     "data": {
      "text/plain": [
       "True"
      ]
     },
     "execution_count": 15,
     "metadata": {},
     "output_type": "execute_result"
    }
   ],
   "source": [
    "True^False    #bitwise-or"
   ]
  },
  {
   "cell_type": "code",
   "execution_count": 6,
   "id": "6670121a",
   "metadata": {},
   "outputs": [
    {
     "data": {
      "text/plain": [
       "True"
      ]
     },
     "execution_count": 6,
     "metadata": {},
     "output_type": "execute_result"
    }
   ],
   "source": [
    "True|False   #or"
   ]
  },
  {
   "cell_type": "code",
   "execution_count": 7,
   "id": "03f2023d",
   "metadata": {},
   "outputs": [
    {
     "data": {
      "text/plain": [
       "False"
      ]
     },
     "execution_count": 7,
     "metadata": {},
     "output_type": "execute_result"
    }
   ],
   "source": [
    "True&False   #and"
   ]
  },
  {
   "cell_type": "code",
   "execution_count": 12,
   "id": "8033a3d3",
   "metadata": {},
   "outputs": [
    {
     "data": {
      "text/plain": [
       "5"
      ]
     },
     "execution_count": 12,
     "metadata": {},
     "output_type": "execute_result"
    }
   ],
   "source": [
    "var>>1     #10=  1010\n",
    "           #     0101   (1 shifted to right)\n",
    "           #     =5"
   ]
  },
  {
   "cell_type": "code",
   "execution_count": 13,
   "id": "8e802da1",
   "metadata": {},
   "outputs": [
    {
     "data": {
      "text/plain": [
       "20"
      ]
     },
     "execution_count": 13,
     "metadata": {},
     "output_type": "execute_result"
    }
   ],
   "source": [
    "var<<1     #10=  1010\n",
    "           #     1101   (0 shifted to left and become 1)\n",
    "           #     =20"
   ]
  },
  {
   "cell_type": "code",
   "execution_count": null,
   "id": "f7bcf2c0",
   "metadata": {},
   "outputs": [],
   "source": [
    "#String(string is immutable but we can replace the string)\n",
    "#we can iterate through working"
   ]
  },
  {
   "cell_type": "code",
   "execution_count": 17,
   "id": "3a3dfb2f",
   "metadata": {},
   "outputs": [
    {
     "data": {
      "text/plain": [
       "'t'"
      ]
     },
     "execution_count": 17,
     "metadata": {},
     "output_type": "execute_result"
    }
   ],
   "source": [
    "var=\"Deepa try to focus on studies\"\n",
    "var[6]"
   ]
  },
  {
   "cell_type": "code",
   "execution_count": 18,
   "id": "571d8f7d",
   "metadata": {},
   "outputs": [
    {
     "data": {
      "text/plain": [
       "'try to focus on studies'"
      ]
     },
     "execution_count": 18,
     "metadata": {},
     "output_type": "execute_result"
    }
   ],
   "source": [
    "var[6:]      #Slice operation"
   ]
  },
  {
   "cell_type": "code",
   "execution_count": 22,
   "id": "c0adc338",
   "metadata": {},
   "outputs": [
    {
     "data": {
      "text/plain": [
       "'try to focus on stu'"
      ]
     },
     "execution_count": 22,
     "metadata": {},
     "output_type": "execute_result"
    }
   ],
   "source": [
    "var[6:25]     #get the characters in the range from index 6 to 24"
   ]
  },
  {
   "cell_type": "code",
   "execution_count": 23,
   "id": "28d62b76",
   "metadata": {},
   "outputs": [
    {
     "data": {
      "text/plain": [
       "'s'"
      ]
     },
     "execution_count": 23,
     "metadata": {},
     "output_type": "execute_result"
    }
   ],
   "source": [
    "var[-1]    #the last character (or string iteration)"
   ]
  },
  {
   "cell_type": "code",
   "execution_count": 26,
   "id": "f4ee7d7a",
   "metadata": {},
   "outputs": [
    {
     "data": {
      "text/plain": [
       "'s'"
      ]
     },
     "execution_count": 26,
     "metadata": {},
     "output_type": "execute_result"
    }
   ],
   "source": [
    "var[-1:]"
   ]
  },
  {
   "cell_type": "code",
   "execution_count": 27,
   "id": "b2c14f80",
   "metadata": {},
   "outputs": [
    {
     "data": {
      "text/plain": [
       "'ies'"
      ]
     },
     "execution_count": 27,
     "metadata": {},
     "output_type": "execute_result"
    }
   ],
   "source": [
    "var[-3:]"
   ]
  },
  {
   "cell_type": "code",
   "execution_count": 28,
   "id": "610dc4a9",
   "metadata": {},
   "outputs": [
    {
     "data": {
      "text/plain": [
       "'stud'"
      ]
     },
     "execution_count": 28,
     "metadata": {},
     "output_type": "execute_result"
    }
   ],
   "source": [
    "var[-7:-3]   #can iterate from last 7 character to last 3 character"
   ]
  },
  {
   "cell_type": "code",
   "execution_count": 35,
   "id": "75c51fd9",
   "metadata": {},
   "outputs": [
    {
     "data": {
      "text/plain": [
       "'Deepa try to focus on studies'"
      ]
     },
     "execution_count": 35,
     "metadata": {},
     "output_type": "execute_result"
    }
   ],
   "source": [
    "var"
   ]
  },
  {
   "cell_type": "code",
   "execution_count": 34,
   "id": "fca3523d",
   "metadata": {},
   "outputs": [
    {
     "data": {
      "text/plain": [
       "''"
      ]
     },
     "execution_count": 34,
     "metadata": {},
     "output_type": "execute_result"
    }
   ],
   "source": [
    "var[-7:5]   #we can't reach at index 5 by iterating last 7 characters (-7 reach s)"
   ]
  },
  {
   "cell_type": "code",
   "execution_count": 30,
   "id": "b8198394",
   "metadata": {},
   "outputs": [
    {
     "data": {
      "text/plain": [
       "''"
      ]
     },
     "execution_count": 30,
     "metadata": {},
     "output_type": "execute_result"
    }
   ],
   "source": [
    "var[7:5]   #we can't reach at index 5 by iterating first 7 characters"
   ]
  },
  {
   "cell_type": "code",
   "execution_count": 31,
   "id": "c2711969",
   "metadata": {},
   "outputs": [
    {
     "data": {
      "text/plain": [
       "'Deepa try to focus on studie'"
      ]
     },
     "execution_count": 31,
     "metadata": {},
     "output_type": "execute_result"
    }
   ],
   "source": [
    "var[:-1]  #read everything except the last character"
   ]
  },
  {
   "cell_type": "code",
   "execution_count": 32,
   "id": "3731d5a2",
   "metadata": {},
   "outputs": [
    {
     "data": {
      "text/plain": [
       "'Deepa try to focus on studies'"
      ]
     },
     "execution_count": 32,
     "metadata": {},
     "output_type": "execute_result"
    }
   ],
   "source": [
    "var[:]  #Everything will be printed"
   ]
  },
  {
   "cell_type": "code",
   "execution_count": 36,
   "id": "e0cc004a",
   "metadata": {},
   "outputs": [
    {
     "data": {
      "text/plain": [
       "'udies'"
      ]
     },
     "execution_count": 36,
     "metadata": {},
     "output_type": "execute_result"
    }
   ],
   "source": [
    "var[-5:]   #from last character to end"
   ]
  },
  {
   "cell_type": "code",
   "execution_count": 39,
   "id": "71deae42",
   "metadata": {},
   "outputs": [
    {
     "data": {
      "text/plain": [
       "'udie'"
      ]
     },
     "execution_count": 39,
     "metadata": {},
     "output_type": "execute_result"
    }
   ],
   "source": [
    "var[-5:28]   #from last 5 characters to index 27"
   ]
  },
  {
   "cell_type": "code",
   "execution_count": null,
   "id": "dc1f09fa",
   "metadata": {},
   "outputs": [],
   "source": [
    "#To reverse the string"
   ]
  },
  {
   "cell_type": "code",
   "execution_count": 40,
   "id": "5997ca6f",
   "metadata": {},
   "outputs": [
    {
     "data": {
      "text/plain": [
       "'seiduts no sucof ot yrt apeeD'"
      ]
     },
     "execution_count": 40,
     "metadata": {},
     "output_type": "execute_result"
    }
   ],
   "source": [
    "var[::-1]   #-1 is steps to taken"
   ]
  },
  {
   "cell_type": "code",
   "execution_count": 41,
   "id": "02950b05",
   "metadata": {},
   "outputs": [
    {
     "data": {
      "text/plain": [
       "'siusn uo tytaeD'"
      ]
     },
     "execution_count": 41,
     "metadata": {},
     "output_type": "execute_result"
    }
   ],
   "source": [
    "var[::-2]  #skip one charcter"
   ]
  },
  {
   "cell_type": "code",
   "execution_count": 42,
   "id": "a4418ca7",
   "metadata": {},
   "outputs": [
    {
     "data": {
      "text/plain": [
       "'t apeeD'"
      ]
     },
     "execution_count": 42,
     "metadata": {},
     "output_type": "execute_result"
    }
   ],
   "source": [
    "var[6::-1] #from index 6 characters will get printed in reverse direction"
   ]
  },
  {
   "cell_type": "code",
   "execution_count": 43,
   "id": "55037ccb",
   "metadata": {},
   "outputs": [
    {
     "data": {
      "text/plain": [
       "'t ap'"
      ]
     },
     "execution_count": 43,
     "metadata": {},
     "output_type": "execute_result"
    }
   ],
   "source": [
    "var[6:2:-1]  #from index 6 till index 2 characters will get printed in reverse direction\n",
    "     #index 2 not included"
   ]
  },
  {
   "cell_type": "code",
   "execution_count": null,
   "id": "b4a1d75d",
   "metadata": {},
   "outputs": [],
   "source": [
    "#Exercise\n",
    "#course_name=\"Data Science MasterClass\"\n",
    "#just print science from froward and reverse direction  using slicing"
   ]
  },
  {
   "cell_type": "code",
   "execution_count": 45,
   "id": "2360dc81",
   "metadata": {},
   "outputs": [
    {
     "data": {
      "text/plain": [
       "'Science'"
      ]
     },
     "execution_count": 45,
     "metadata": {},
     "output_type": "execute_result"
    }
   ],
   "source": [
    "course_name=\"Data Science MasterClass\"\n",
    "course_name[5:12]"
   ]
  },
  {
   "cell_type": "code",
   "execution_count": 57,
   "id": "59aa73af",
   "metadata": {},
   "outputs": [
    {
     "data": {
      "text/plain": [
       "'ecneicS'"
      ]
     },
     "execution_count": 57,
     "metadata": {},
     "output_type": "execute_result"
    }
   ],
   "source": [
    "course_name[11:4:-1]"
   ]
  },
  {
   "cell_type": "code",
   "execution_count": 59,
   "id": "1c81d654",
   "metadata": {},
   "outputs": [
    {
     "data": {
      "text/plain": [
       "'Data Science MasterClass course'"
      ]
     },
     "execution_count": 59,
     "metadata": {},
     "output_type": "execute_result"
    }
   ],
   "source": [
    "#cancatinition\n",
    "course_name+\" course\""
   ]
  },
  {
   "cell_type": "code",
   "execution_count": 60,
   "id": "3f73ab70",
   "metadata": {},
   "outputs": [
    {
     "data": {
      "text/plain": [
       "'Data Science MasterClassData Science MasterClass'"
      ]
     },
     "execution_count": 60,
     "metadata": {},
     "output_type": "execute_result"
    }
   ],
   "source": [
    "course_name*2"
   ]
  },
  {
   "cell_type": "code",
   "execution_count": 62,
   "id": "6ae4174f",
   "metadata": {},
   "outputs": [
    {
     "data": {
      "text/plain": [
       "'Data Science MasterClass'"
      ]
     },
     "execution_count": 62,
     "metadata": {},
     "output_type": "execute_result"
    }
   ],
   "source": [
    "len(course_name)"
   ]
  },
  {
   "cell_type": "code",
   "execution_count": 63,
   "id": "f93179fb",
   "metadata": {},
   "outputs": [
    {
     "data": {
      "text/plain": [
       "9"
      ]
     },
     "execution_count": 63,
     "metadata": {},
     "output_type": "execute_result"
    }
   ],
   "source": [
    "#find function\n",
    "course_name.find(\"n\")   #it gives the index no, the first n at which index"
   ]
  },
  {
   "cell_type": "code",
   "execution_count": 64,
   "id": "bafe7359",
   "metadata": {},
   "outputs": [
    {
     "data": {
      "text/plain": [
       "1"
      ]
     },
     "execution_count": 64,
     "metadata": {},
     "output_type": "execute_result"
    }
   ],
   "source": [
    "course_name.find(\"a\") #the first a is at index 1"
   ]
  },
  {
   "cell_type": "code",
   "execution_count": 65,
   "id": "acaf1946",
   "metadata": {},
   "outputs": [
    {
     "data": {
      "text/plain": [
       "3"
      ]
     },
     "execution_count": 65,
     "metadata": {},
     "output_type": "execute_result"
    }
   ],
   "source": [
    "course_name.find(\"a\",3,10) #find a from index 3 to index 10 (at 3rd index)"
   ]
  },
  {
   "cell_type": "code",
   "execution_count": 66,
   "id": "51e1f034",
   "metadata": {},
   "outputs": [
    {
     "data": {
      "text/plain": [
       "-1"
      ]
     },
     "execution_count": 66,
     "metadata": {},
     "output_type": "execute_result"
    }
   ],
   "source": [
    "course_name.find(\"z\") #if not present then index will show -1"
   ]
  },
  {
   "cell_type": "code",
   "execution_count": 67,
   "id": "100b58a8",
   "metadata": {},
   "outputs": [
    {
     "data": {
      "text/plain": [
       "1"
      ]
     },
     "execution_count": 67,
     "metadata": {},
     "output_type": "execute_result"
    }
   ],
   "source": [
    "#count function\n",
    "course_name.count(\"n\") #no of n present=1"
   ]
  },
  {
   "cell_type": "code",
   "execution_count": 68,
   "id": "8b98c352",
   "metadata": {},
   "outputs": [
    {
     "data": {
      "text/plain": [
       "4"
      ]
     },
     "execution_count": 68,
     "metadata": {},
     "output_type": "execute_result"
    }
   ],
   "source": [
    "course_name.count(\"a\") # no of a present=4"
   ]
  },
  {
   "cell_type": "code",
   "execution_count": 69,
   "id": "8b991a30",
   "metadata": {},
   "outputs": [
    {
     "data": {
      "text/plain": [
       "2"
      ]
     },
     "execution_count": 69,
     "metadata": {},
     "output_type": "execute_result"
    }
   ],
   "source": [
    "course_name.count(\" \") #no of spaces=2"
   ]
  },
  {
   "cell_type": "code",
   "execution_count": 70,
   "id": "2327e0db",
   "metadata": {},
   "outputs": [
    {
     "data": {
      "text/plain": [
       "25"
      ]
     },
     "execution_count": 70,
     "metadata": {},
     "output_type": "execute_result"
    }
   ],
   "source": [
    "course_name.count(\"\") #count no of characters present in the whole string including spaces"
   ]
  },
  {
   "cell_type": "code",
   "execution_count": null,
   "id": "f66d8edd",
   "metadata": {},
   "outputs": [],
   "source": [
    "#string split function"
   ]
  },
  {
   "cell_type": "code",
   "execution_count": 71,
   "id": "1b56af36",
   "metadata": {},
   "outputs": [
    {
     "data": {
      "text/plain": [
       "['Data', 'Science', 'MasterClass']"
      ]
     },
     "execution_count": 71,
     "metadata": {},
     "output_type": "execute_result"
    }
   ],
   "source": [
    "course_name.split(\" \") #split into a string when a space hits"
   ]
  },
  {
   "cell_type": "code",
   "execution_count": 72,
   "id": "0c9a8c6a",
   "metadata": {},
   "outputs": [
    {
     "data": {
      "text/plain": [
       "['Data S', 'ien', 'e MasterClass']"
      ]
     },
     "execution_count": 72,
     "metadata": {},
     "output_type": "execute_result"
    }
   ],
   "source": [
    "course_name.split(\"c\") #C is a separator here (this is case sensitive)\n",
    "                       #when a 'c' hits it will divide that part into a another string"
   ]
  },
  {
   "cell_type": "code",
   "execution_count": null,
   "id": "faf143c0",
   "metadata": {},
   "outputs": [],
   "source": [
    "#partition function"
   ]
  },
  {
   "cell_type": "code",
   "execution_count": 74,
   "id": "75192983",
   "metadata": {},
   "outputs": [
    {
     "data": {
      "text/plain": [
       "('Data S', 'c', 'ience MasterClass')"
      ]
     },
     "execution_count": 74,
     "metadata": {},
     "output_type": "execute_result"
    }
   ],
   "source": [
    "course_name.partition(\"c\") #C is a separator here (this is case sensitive)\n",
    "                 #when a 'c' hits at very first time it will divide that part into a another string\n",
    "                 #but in partition the separator also forms a string"
   ]
  },
  {
   "cell_type": "code",
   "execution_count": null,
   "id": "0eb84ea6",
   "metadata": {},
   "outputs": [],
   "source": [
    "#String upper and lower case"
   ]
  },
  {
   "cell_type": "code",
   "execution_count": 75,
   "id": "b3569d2b",
   "metadata": {},
   "outputs": [
    {
     "data": {
      "text/plain": [
       "'DATA SCIENCE MASTERCLASS'"
      ]
     },
     "execution_count": 75,
     "metadata": {},
     "output_type": "execute_result"
    }
   ],
   "source": [
    "course_name.upper()"
   ]
  },
  {
   "cell_type": "code",
   "execution_count": 76,
   "id": "2798352e",
   "metadata": {},
   "outputs": [
    {
     "data": {
      "text/plain": [
       "'data science masterclass'"
      ]
     },
     "execution_count": 76,
     "metadata": {},
     "output_type": "execute_result"
    }
   ],
   "source": [
    "course_name.lower()"
   ]
  },
  {
   "cell_type": "code",
   "execution_count": 77,
   "id": "4df05cd9",
   "metadata": {},
   "outputs": [
    {
     "data": {
      "text/plain": [
       "'dATA sCIENCE mASTERcLASS'"
      ]
     },
     "execution_count": 77,
     "metadata": {},
     "output_type": "execute_result"
    }
   ],
   "source": [
    "course_name.swapcase()"
   ]
  },
  {
   "cell_type": "code",
   "execution_count": null,
   "id": "bfd472fd",
   "metadata": {},
   "outputs": [],
   "source": [
    "course_name,title()  #return as every first letter become capital"
   ]
  }
 ],
 "metadata": {
  "kernelspec": {
   "display_name": "Python 3 (ipykernel)",
   "language": "python",
   "name": "python3"
  },
  "language_info": {
   "codemirror_mode": {
    "name": "ipython",
    "version": 3
   },
   "file_extension": ".py",
   "mimetype": "text/x-python",
   "name": "python",
   "nbconvert_exporter": "python",
   "pygments_lexer": "ipython3",
   "version": "3.11.0"
  }
 },
 "nbformat": 4,
 "nbformat_minor": 5
}
