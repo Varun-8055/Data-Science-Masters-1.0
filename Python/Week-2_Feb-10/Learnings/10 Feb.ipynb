{
 "cells": [
  {
   "cell_type": "markdown",
   "id": "bd5d0306",
   "metadata": {},
   "source": [
    "<H4> <b>Decorator"
   ]
  },
  {
   "cell_type": "markdown",
   "id": "1aff56a9",
   "metadata": {},
   "source": [
    "When we have to write some fix lines of code to every function.With the help of decorator we can write  this repeated lines"
   ]
  },
  {
   "cell_type": "code",
   "execution_count": 19,
   "id": "78cd6b55",
   "metadata": {},
   "outputs": [],
   "source": [
    "def test():\n",
    "    print(\"The start of function\")    #we have to write this 2 lines in every function\n",
    "    print(4+5)\n",
    "    print(\"The end of function\")"
   ]
  },
  {
   "cell_type": "code",
   "execution_count": 20,
   "id": "15050168",
   "metadata": {},
   "outputs": [
    {
     "name": "stdout",
     "output_type": "stream",
     "text": [
      "The start of function\n",
      "9\n",
      "The end of function\n"
     ]
    }
   ],
   "source": [
    "test()"
   ]
  },
  {
   "cell_type": "code",
   "execution_count": 26,
   "id": "a8a13264",
   "metadata": {},
   "outputs": [],
   "source": [
    "def deco(func):      #Decorator function \n",
    "    def innerdeco():\n",
    "        print(\"The start of function\")\n",
    "        func()\n",
    "        print(\"The end of function\")\n",
    "    return innerdeco"
   ]
  },
  {
   "cell_type": "code",
   "execution_count": 27,
   "id": "8dfeea10",
   "metadata": {},
   "outputs": [],
   "source": [
    "@deco             #Apply decorator\n",
    "def test():\n",
    "    print(\"deepa gupta\")"
   ]
  },
  {
   "cell_type": "code",
   "execution_count": 28,
   "id": "a8ac5877",
   "metadata": {},
   "outputs": [
    {
     "name": "stdout",
     "output_type": "stream",
     "text": [
      "The start of function\n",
      "deepa gupta\n",
      "The end of function\n"
     ]
    }
   ],
   "source": [
    "test()"
   ]
  },
  {
   "cell_type": "code",
   "execution_count": 49,
   "id": "219b6fe6",
   "metadata": {},
   "outputs": [],
   "source": [
    "#Calculate how much time this function will take to execute(time complexity)"
   ]
  },
  {
   "cell_type": "code",
   "execution_count": 51,
   "id": "395eb297",
   "metadata": {},
   "outputs": [],
   "source": [
    "import time\n",
    "def timer_func(func):\n",
    "    def timer_func_inner():\n",
    "        start=time.time()\n",
    "        func()\n",
    "        end=time.time()\n",
    "        print(end-start)       #total time of execution\n",
    "    return timer_func_inner"
   ]
  },
  {
   "cell_type": "code",
   "execution_count": 59,
   "id": "aafdc6ff",
   "metadata": {},
   "outputs": [],
   "source": [
    "@timer_func\n",
    "def sum1():\n",
    "    print(45+67+58774) "
   ]
  },
  {
   "cell_type": "code",
   "execution_count": 78,
   "id": "e52bb5c2",
   "metadata": {},
   "outputs": [
    {
     "name": "stdout",
     "output_type": "stream",
     "text": [
      "58886\n",
      "0.0\n"
     ]
    }
   ],
   "source": [
    "sum1()"
   ]
  },
  {
   "cell_type": "code",
   "execution_count": 64,
   "id": "e460a4fd",
   "metadata": {},
   "outputs": [],
   "source": [
    "@timer_func\n",
    "def sum2():\n",
    "    for i in range(100000):\n",
    "        pass"
   ]
  },
  {
   "cell_type": "code",
   "execution_count": 67,
   "id": "be6d80e0",
   "metadata": {},
   "outputs": [
    {
     "name": "stdout",
     "output_type": "stream",
     "text": [
      "0.009012222290039062\n"
     ]
    }
   ],
   "source": [
    "sum2()        #Time complexity"
   ]
  },
  {
   "cell_type": "markdown",
   "id": "8e8161cf",
   "metadata": {},
   "source": [
    "<H4>Class Method</H4>:class method is a global method which can pass data to init method.We can also call other function of a class using obj of decorator function.The class method is accesssible by every kind of object.\n",
    "    \n",
    "Difference: The function using the classmethod has create only one instance which is directly related with the class.Wherever a normal function can have multiple instances depend on number of object"
   ]
  },
  {
   "cell_type": "code",
   "execution_count": 81,
   "id": "09667f23",
   "metadata": {},
   "outputs": [],
   "source": [
    "class details:\n",
    "    def __init__(self,name,email):\n",
    "        self.name=name\n",
    "        self.email=email\n",
    "        \n",
    "    def student_details(self):\n",
    "        print(self.name,self.email)"
   ]
  },
  {
   "cell_type": "code",
   "execution_count": 83,
   "id": "dd9f72d0",
   "metadata": {},
   "outputs": [],
   "source": [
    "det=details(\"Deepa Gupta\",\"deepagupta@gmail.com\")"
   ]
  },
  {
   "cell_type": "code",
   "execution_count": 84,
   "id": "85ec9fe7",
   "metadata": {},
   "outputs": [
    {
     "data": {
      "text/plain": [
       "'Deepa Gupta'"
      ]
     },
     "execution_count": 84,
     "metadata": {},
     "output_type": "execute_result"
    }
   ],
   "source": [
    "det.name                 #Accessing variables using object"
   ]
  },
  {
   "cell_type": "code",
   "execution_count": 85,
   "id": "1fc40904",
   "metadata": {},
   "outputs": [
    {
     "data": {
      "text/plain": [
       "'deepagupta@gmail.com'"
      ]
     },
     "execution_count": 85,
     "metadata": {},
     "output_type": "execute_result"
    }
   ],
   "source": [
    "det.email                 #Accessing variables using object"
   ]
  },
  {
   "cell_type": "code",
   "execution_count": 87,
   "id": "09776946",
   "metadata": {},
   "outputs": [
    {
     "name": "stdout",
     "output_type": "stream",
     "text": [
      "Deepa Gupta deepagupta@gmail.com\n"
     ]
    }
   ],
   "source": [
    "det.student_details()      #Accessing methods using object"
   ]
  },
  {
   "cell_type": "code",
   "execution_count": 95,
   "id": "8f4cd863",
   "metadata": {},
   "outputs": [],
   "source": [
    "class details:\n",
    "    def __init__(self,name,email):\n",
    "        self.name=name\n",
    "        self.email=email\n",
    "        \n",
    "    @classmethod              #This is the inbult decorator available for any class in python\n",
    "    def detail(cls,name1,email1):     #self is not used here because self is used in the init method\n",
    "        return cls(name1,email1)     #we can use other keyword other than self\n",
    "        \n",
    "    def student_details(self):\n",
    "        print(self.name,self.email)"
   ]
  },
  {
   "cell_type": "code",
   "execution_count": null,
   "id": "bcc4bb19",
   "metadata": {},
   "outputs": [],
   "source": [
    "#We can directly access the function with decorator using the class name"
   ]
  },
  {
   "cell_type": "code",
   "execution_count": 96,
   "id": "74b5cddd",
   "metadata": {},
   "outputs": [],
   "source": [
    "show=details.detail(\"Deepa Gupta\",\"deepa@gmail.com\")"
   ]
  },
  {
   "cell_type": "code",
   "execution_count": 97,
   "id": "835bb290",
   "metadata": {},
   "outputs": [
    {
     "data": {
      "text/plain": [
       "'Deepa Gupta'"
      ]
     },
     "execution_count": 97,
     "metadata": {},
     "output_type": "execute_result"
    }
   ],
   "source": [
    "show.name     #the name is same as the self.name.Internally classmethod assign the name to the init"
   ]
  },
  {
   "cell_type": "code",
   "execution_count": 98,
   "id": "8e9c669b",
   "metadata": {},
   "outputs": [
    {
     "data": {
      "text/plain": [
       "'deepa@gmail.com'"
      ]
     },
     "execution_count": 98,
     "metadata": {},
     "output_type": "execute_result"
    }
   ],
   "source": [
    "show.email     #the email is same as the self.email.Internally classmethod assign the name to the init"
   ]
  },
  {
   "cell_type": "markdown",
   "id": "4572ae18",
   "metadata": {},
   "source": [
    "This is function overloading.We cannot achieve function overloading directly in python classes but using classmethod decorator we can do so (we are not using init instead using function with cls)\n",
    "Overload init method using classmethod decorator"
   ]
  },
  {
   "cell_type": "code",
   "execution_count": 100,
   "id": "0a86cf12",
   "metadata": {},
   "outputs": [
    {
     "name": "stdout",
     "output_type": "stream",
     "text": [
      "Deepa Gupta deepa@gmail.com\n"
     ]
    }
   ],
   "source": [
    "show.student_details()  \n",
    "#we can also access the other function of class using object of the decorator method"
   ]
  },
  {
   "cell_type": "code",
   "execution_count": 106,
   "id": "b24d73b2",
   "metadata": {},
   "outputs": [],
   "source": [
    "class details2:\n",
    "    mobile_number=387556365\n",
    "    def __init__(self,name,email):\n",
    "        self.name=name\n",
    "        self.email=email\n",
    "        \n",
    "    @classmethod              #This is the inbult decorator available for any class in python\n",
    "    def detail(cls,name1,email1):     #self is not used here because self is used in the init method\n",
    "        return cls(name1,email1)     #we can use other keyword other than self\n",
    "        \n",
    "    def student_details(self):\n",
    "        print(self.name,self.email,details2.mobile_number)"
   ]
  },
  {
   "cell_type": "code",
   "execution_count": null,
   "id": "0e9d1bc2",
   "metadata": {},
   "outputs": [],
   "source": [
    "#How to access the class variable using class method and other function of the class"
   ]
  },
  {
   "cell_type": "code",
   "execution_count": 107,
   "id": "13049010",
   "metadata": {},
   "outputs": [
    {
     "data": {
      "text/plain": [
       "387556365"
      ]
     },
     "execution_count": 107,
     "metadata": {},
     "output_type": "execute_result"
    }
   ],
   "source": [
    "details2.mobile_number    #we can access the class variable using classnaem directly "
   ]
  },
  {
   "cell_type": "code",
   "execution_count": 108,
   "id": "9c32fb56",
   "metadata": {},
   "outputs": [],
   "source": [
    "#We can access the class variable inside function using the class name\n",
    "show=details2.detail(\"Deepa Gupta\",\"deepagupta35678@gmail.com\")"
   ]
  },
  {
   "cell_type": "code",
   "execution_count": 109,
   "id": "38102e90",
   "metadata": {},
   "outputs": [
    {
     "name": "stdout",
     "output_type": "stream",
     "text": [
      "Deepa Gupta deepagupta35678@gmail.com 387556365\n"
     ]
    }
   ],
   "source": [
    "show.student_details()"
   ]
  },
  {
   "cell_type": "code",
   "execution_count": null,
   "id": "ce9b2af2",
   "metadata": {},
   "outputs": [],
   "source": [
    "#we can also access the the normal function by making object of the class itself as shown above"
   ]
  },
  {
   "cell_type": "code",
   "execution_count": 116,
   "id": "360ccb0c",
   "metadata": {},
   "outputs": [],
   "source": [
    "class details2:\n",
    "    mobile_number=387556365\n",
    "    def __init__(self,name,email):\n",
    "        self.name=name\n",
    "        self.email=email\n",
    "        \n",
    "    @classmethod\n",
    "    def changenumber(cls,mobile):\n",
    "        details2.mobile_number=mobile\n",
    "        \n",
    "    @classmethod              #This is the inbult decorator available for any class in python\n",
    "    def detail(cls,name1,email1):     #self is not used here because self is used in the init method\n",
    "        return cls(name1,email1)     #we can use other keyword other than self\n",
    "        \n",
    "    def student_details(self):\n",
    "        print(self.name,self.email,details2.mobile_number)"
   ]
  },
  {
   "cell_type": "code",
   "execution_count": 117,
   "id": "9f5428d8",
   "metadata": {},
   "outputs": [
    {
     "data": {
      "text/plain": [
       "387556365"
      ]
     },
     "execution_count": 117,
     "metadata": {},
     "output_type": "execute_result"
    }
   ],
   "source": [
    "#We will now change the mobile number\n",
    "details2.mobile_number"
   ]
  },
  {
   "cell_type": "code",
   "execution_count": 118,
   "id": "bd70383d",
   "metadata": {},
   "outputs": [],
   "source": [
    "details2.changenumber(83448478)"
   ]
  },
  {
   "cell_type": "code",
   "execution_count": 119,
   "id": "099de6b6",
   "metadata": {},
   "outputs": [
    {
     "data": {
      "text/plain": [
       "83448478"
      ]
     },
     "execution_count": 119,
     "metadata": {},
     "output_type": "execute_result"
    }
   ],
   "source": [
    "details2.mobile_number    #the mobile number has been changed now "
   ]
  },
  {
   "cell_type": "code",
   "execution_count": 120,
   "id": "7db613d0",
   "metadata": {},
   "outputs": [],
   "source": [
    "#Now create the normal obj first \n",
    "det_obj=details2(\"Deepa\",\"deepagupta4645@gmsil.com\")"
   ]
  },
  {
   "cell_type": "code",
   "execution_count": 121,
   "id": "e591ee9b",
   "metadata": {},
   "outputs": [
    {
     "data": {
      "text/plain": [
       "'Deepa'"
      ]
     },
     "execution_count": 121,
     "metadata": {},
     "output_type": "execute_result"
    }
   ],
   "source": [
    "det_obj.name"
   ]
  },
  {
   "cell_type": "code",
   "execution_count": 129,
   "id": "96f61f08",
   "metadata": {},
   "outputs": [
    {
     "data": {
      "text/plain": [
       "<__main__.details2 at 0x20a9ea3e750>"
      ]
     },
     "execution_count": 129,
     "metadata": {},
     "output_type": "execute_result"
    }
   ],
   "source": [
    "#now access the classmethod using the class object\n",
    "det_obj.detail(\"Pankaj\",\"Pankaj@134gmail.com\")"
   ]
  },
  {
   "cell_type": "code",
   "execution_count": 131,
   "id": "21ecd61b",
   "metadata": {},
   "outputs": [
    {
     "data": {
      "text/plain": [
       "'Deepa'"
      ]
     },
     "execution_count": 131,
     "metadata": {},
     "output_type": "execute_result"
    }
   ],
   "source": [
    "#the data is showing for the original class only(the data of the classmethod is not assigned)\n",
    "#the purpose is to show that we can access the classmethod using the object of the class itself\n",
    "det_obj.name   "
   ]
  },
  {
   "cell_type": "code",
   "execution_count": 132,
   "id": "a82915aa",
   "metadata": {},
   "outputs": [],
   "source": [
    "#the values above is not changed for classmethod but we can change the number\n",
    "det_obj.changenumber(76537538)"
   ]
  },
  {
   "cell_type": "code",
   "execution_count": 133,
   "id": "94ba85a5",
   "metadata": {},
   "outputs": [
    {
     "data": {
      "text/plain": [
       "76537538"
      ]
     },
     "execution_count": 133,
     "metadata": {},
     "output_type": "execute_result"
    }
   ],
   "source": [
    "det_obj.mobile_number        #the number gets changed using the class object"
   ]
  },
  {
   "cell_type": "code",
   "execution_count": 136,
   "id": "49bf4a8e",
   "metadata": {},
   "outputs": [],
   "source": [
    "class details3:\n",
    "    mobile_number=387556365\n",
    "    def __init__(self,name,email):\n",
    "        self.name=name\n",
    "        self.email=email\n",
    "        \n",
    "    @classmethod\n",
    "    def changenumber(cls,mobile):\n",
    "        details2.mobile_number=mobile\n",
    "        \n",
    "    @classmethod              #This is the inbult decorator available for any class in python\n",
    "    def detail(cls,name1,email1):     #self is not used here because self is used in the init method\n",
    "        return cls(name1,email1)     #we can use other keyword other than self\n",
    "        \n",
    "    def student_details(self):\n",
    "        print(self.name,self.email,details2.mobile_number)"
   ]
  },
  {
   "cell_type": "code",
   "execution_count": 137,
   "id": "427c6c8c",
   "metadata": {},
   "outputs": [],
   "source": [
    "#now create an external function and then add this funtion to the class above\n",
    "def course_details(cls,course_name):\n",
    "    print(\"Course details:\",course_name)"
   ]
  },
  {
   "cell_type": "code",
   "execution_count": 138,
   "id": "81e08fbf",
   "metadata": {},
   "outputs": [],
   "source": [
    "details3.course_details=classmethod(course_details)"
   ]
  },
  {
   "cell_type": "code",
   "execution_count": 140,
   "id": "35b9c1a2",
   "metadata": {},
   "outputs": [
    {
     "name": "stdout",
     "output_type": "stream",
     "text": [
      "Course details: DataScience\n"
     ]
    }
   ],
   "source": [
    "details3.course_details(\"DataScience\")   #the external method gets added into the class"
   ]
  },
  {
   "cell_type": "code",
   "execution_count": 141,
   "id": "7d9c6e52",
   "metadata": {},
   "outputs": [],
   "source": [
    "#Check whether we can access the newely added function by object or not\n",
    "obj3=details3(\"Deepa\",\"deepagupta475@gmail.com\")"
   ]
  },
  {
   "cell_type": "code",
   "execution_count": 142,
   "id": "ede2541c",
   "metadata": {},
   "outputs": [
    {
     "name": "stdout",
     "output_type": "stream",
     "text": [
      "Course details: DataScience\n"
     ]
    }
   ],
   "source": [
    "obj3.course_details(\"DataScience\")     #yes we can"
   ]
  },
  {
   "cell_type": "code",
   "execution_count": 163,
   "id": "ea0da7c0",
   "metadata": {},
   "outputs": [],
   "source": [
    "#now how to perform delete operation\n",
    "class details4:\n",
    "    mobile_number=387556365\n",
    "    def __init__(self,name,email):\n",
    "        self.name=name\n",
    "        self.email=email\n",
    "        \n",
    "    @classmethod\n",
    "    def changenumber(cls,mobile):\n",
    "        details2.mobile_number=mobile\n",
    "        \n",
    "    @classmethod              #This is the inbult decorator available for any class in python\n",
    "    def detail(cls,name1,email1):     #self is not used here because self is used in the init method\n",
    "        return cls(name1,email1)     #we can use other keyword other than self\n",
    "        \n",
    "    def student_details(self):\n",
    "        print(self.name,self.email,details2.mobile_number)"
   ]
  },
  {
   "cell_type": "code",
   "execution_count": 164,
   "id": "e105fe1b",
   "metadata": {},
   "outputs": [],
   "source": [
    "del details4.changenumber"
   ]
  },
  {
   "cell_type": "code",
   "execution_count": 165,
   "id": "b30c5cbf",
   "metadata": {},
   "outputs": [
    {
     "ename": "AttributeError",
     "evalue": "type object 'details' has no attribute 'changenumber'",
     "output_type": "error",
     "traceback": [
      "\u001b[1;31m---------------------------------------------------------------------------\u001b[0m",
      "\u001b[1;31mAttributeError\u001b[0m                            Traceback (most recent call last)",
      "Cell \u001b[1;32mIn[165], line 1\u001b[0m\n\u001b[1;32m----> 1\u001b[0m \u001b[43mdetails\u001b[49m\u001b[38;5;241;43m.\u001b[39;49m\u001b[43mchangenumber\u001b[49m(\u001b[38;5;241m486583\u001b[39m)\n",
      "\u001b[1;31mAttributeError\u001b[0m: type object 'details' has no attribute 'changenumber'"
     ]
    }
   ],
   "source": [
    "details.changenumber(486583)"
   ]
  },
  {
   "cell_type": "code",
   "execution_count": 166,
   "id": "0079f8bc",
   "metadata": {},
   "outputs": [],
   "source": [
    "#Other way to delete methods\n",
    "delattr(details4,\"student_details\")   #delattr(classname,\" function name\")"
   ]
  },
  {
   "cell_type": "code",
   "execution_count": 167,
   "id": "951f300d",
   "metadata": {},
   "outputs": [
    {
     "ename": "AttributeError",
     "evalue": "type object 'details4' has no attribute 'student_details'",
     "output_type": "error",
     "traceback": [
      "\u001b[1;31m---------------------------------------------------------------------------\u001b[0m",
      "\u001b[1;31mAttributeError\u001b[0m                            Traceback (most recent call last)",
      "Cell \u001b[1;32mIn[167], line 1\u001b[0m\n\u001b[1;32m----> 1\u001b[0m \u001b[43mdetails4\u001b[49m\u001b[38;5;241;43m.\u001b[39;49m\u001b[43mstudent_details\u001b[49m\n",
      "\u001b[1;31mAttributeError\u001b[0m: type object 'details4' has no attribute 'student_details'"
     ]
    }
   ],
   "source": [
    "details4.student_details"
   ]
  },
  {
   "cell_type": "code",
   "execution_count": 168,
   "id": "933e22f0",
   "metadata": {},
   "outputs": [
    {
     "data": {
      "text/plain": [
       "387556365"
      ]
     },
     "execution_count": 168,
     "metadata": {},
     "output_type": "execute_result"
    }
   ],
   "source": [
    "details4.mobile_number"
   ]
  },
  {
   "cell_type": "code",
   "execution_count": 169,
   "id": "79fdb1db",
   "metadata": {},
   "outputs": [],
   "source": [
    "delattr(details4,\"mobile_number\")"
   ]
  },
  {
   "cell_type": "code",
   "execution_count": 170,
   "id": "522d8d44",
   "metadata": {},
   "outputs": [
    {
     "ename": "AttributeError",
     "evalue": "type object 'details4' has no attribute 'mobile_number'",
     "output_type": "error",
     "traceback": [
      "\u001b[1;31m---------------------------------------------------------------------------\u001b[0m",
      "\u001b[1;31mAttributeError\u001b[0m                            Traceback (most recent call last)",
      "Cell \u001b[1;32mIn[170], line 1\u001b[0m\n\u001b[1;32m----> 1\u001b[0m \u001b[43mdetails4\u001b[49m\u001b[38;5;241;43m.\u001b[39;49m\u001b[43mmobile_number\u001b[49m\n",
      "\u001b[1;31mAttributeError\u001b[0m: type object 'details4' has no attribute 'mobile_number'"
     ]
    }
   ],
   "source": [
    "details4.mobile_number"
   ]
  },
  {
   "cell_type": "markdown",
   "id": "273394dc",
   "metadata": {},
   "source": [
    "<h4> Static Method </h4>: Static method is get available to every object of the classes(common)\n",
    "\n",
    "At the time of object creation:object calls static method only once but it call non static method for every instances(objects)"
   ]
  },
  {
   "cell_type": "code",
   "execution_count": 173,
   "id": "3dcdcda8",
   "metadata": {},
   "outputs": [],
   "source": [
    "class pwskills:\n",
    "    def student_details(self,name,course,mobile_number):\n",
    "        print(name,course,mobile_number)"
   ]
  },
  {
   "cell_type": "code",
   "execution_count": 174,
   "id": "077fb55d",
   "metadata": {},
   "outputs": [],
   "source": [
    "pw=pwskills()   #object"
   ]
  },
  {
   "cell_type": "code",
   "execution_count": 175,
   "id": "62a07d5a",
   "metadata": {},
   "outputs": [
    {
     "name": "stdout",
     "output_type": "stream",
     "text": [
      "deepa datascience 3565634\n"
     ]
    }
   ],
   "source": [
    "pw.student_details(\"deepa\",\"datascience\",3565634)"
   ]
  },
  {
   "cell_type": "markdown",
   "id": "d116e946",
   "metadata": {},
   "source": [
    "1).Here whenever we create a object of a class then it call the same function at every call.It use the different memory space at the same time \n",
    "\n",
    "2).Some common thing which is not associated with the object we keep it as static"
   ]
  },
  {
   "cell_type": "code",
   "execution_count": 177,
   "id": "89abe287",
   "metadata": {},
   "outputs": [],
   "source": [
    "class pwskills:\n",
    "    def student_details(self,name,course,mobile_number):\n",
    "        print(name,course,mobile_number)\n",
    "     \n",
    "    @staticmethod\n",
    "    def mentor(list_mentor):\n",
    "        print(list_mentor)"
   ]
  },
  {
   "cell_type": "code",
   "execution_count": null,
   "id": "2fd1a0e1",
   "metadata": {},
   "outputs": [],
   "source": [
    "#We can access the static method with the class name directly or by using the object of the class"
   ]
  },
  {
   "cell_type": "code",
   "execution_count": 178,
   "id": "f6e5d87a",
   "metadata": {},
   "outputs": [
    {
     "name": "stdout",
     "output_type": "stream",
     "text": [
      "['sudh', 'krish']\n"
     ]
    }
   ],
   "source": [
    "pwskills.mentor([\"sudh\",\"krish\"])"
   ]
  },
  {
   "cell_type": "code",
   "execution_count": null,
   "id": "e8327cd0",
   "metadata": {},
   "outputs": [],
   "source": [
    "#Create a instance method\n",
    "class pwskills:\n",
    "    #the student details will be differ object to object \n",
    "    def student_details(self,name,course,mobile_number):\n",
    "        print(name,course,mobile_number)\n",
    "        \n",
    "    #Mentor will be common for every student thatswhy it is  static \n",
    "    @staticmethod\n",
    "    def mentor(list_mentor):\n",
    "        print(list_mentor)\n",
    "        \n",
    "    def mentor(self,list_mentor):\n",
    "        print(list_mentor)"
   ]
  },
  {
   "cell_type": "code",
   "execution_count": 179,
   "id": "5b955ab6",
   "metadata": {},
   "outputs": [],
   "source": [
    "pw=pwskills()"
   ]
  },
  {
   "cell_type": "code",
   "execution_count": 182,
   "id": "66f5ae01",
   "metadata": {},
   "outputs": [
    {
     "name": "stdout",
     "output_type": "stream",
     "text": [
      "['sudh', 'Krish']\n"
     ]
    }
   ],
   "source": [
    "pw.mentor([\"sudh\",\"Krish\"])"
   ]
  },
  {
   "cell_type": "code",
   "execution_count": null,
   "id": "07efb7f8",
   "metadata": {},
   "outputs": [],
   "source": [
    "#Now try to access static method inside instance method\n",
    "#we can access the static methods below its place not above (place static method wisely)"
   ]
  },
  {
   "cell_type": "code",
   "execution_count": 190,
   "id": "b81a515e",
   "metadata": {},
   "outputs": [],
   "source": [
    "#Create a instance method\n",
    "class pwskills:\n",
    "    #the student details will be differ object to object \n",
    "    def student_details(self,name,course,mobile_number):\n",
    "        print(name,course,mobile_number)\n",
    "        self.student_details    #Cant access static method above it \n",
    "        \n",
    "    @staticmethod\n",
    "    def mentor_mail_id(mail_id):\n",
    "        print(mail_id)\n",
    "     \n",
    "    #Mentor will be common for every student thatswhy it is  static \n",
    "    @staticmethod\n",
    "    def mentor(list_mentor):   #no cls or self is used here\n",
    "        print(list_mentor)\n",
    "        pwskills.mentor_mail_id(\"Sudh@235gmail.com\")   #We can access one static into another static\n",
    "        \n",
    "    @classmethod \n",
    "    def class_name(cls,name):   #we can access the static method inside the class method\n",
    "        cls.mentor([\"sudh\",\"krish\"])  \n",
    "        \n",
    "    def mentor1(self,list_mentor):\n",
    "        print(list_mentor)\n",
    "        self.mentor      #We can access the static method below it "
   ]
  },
  {
   "cell_type": "code",
   "execution_count": null,
   "id": "da42266d",
   "metadata": {},
   "outputs": [],
   "source": [
    "#Can we access static method in a classmethod :Yes we can access\n",
    "#Can we access one static method inside another static method: yes we can"
   ]
  },
  {
   "cell_type": "code",
   "execution_count": 191,
   "id": "9bc59c16",
   "metadata": {},
   "outputs": [],
   "source": [
    "pw1=pwskills()"
   ]
  },
  {
   "cell_type": "code",
   "execution_count": 192,
   "id": "63256862",
   "metadata": {},
   "outputs": [
    {
     "name": "stdout",
     "output_type": "stream",
     "text": [
      "sudh@467\n"
     ]
    }
   ],
   "source": [
    "pw1.mentor_mail_id(\"sudh@467\")"
   ]
  },
  {
   "cell_type": "code",
   "execution_count": 193,
   "id": "6c6282ba",
   "metadata": {},
   "outputs": [
    {
     "name": "stdout",
     "output_type": "stream",
     "text": [
      "['sudh', 'krish']\n"
     ]
    }
   ],
   "source": [
    "pw1.mentor1([\"sudh\",\"krish\"])"
   ]
  },
  {
   "cell_type": "code",
   "execution_count": 194,
   "id": "7590cb73",
   "metadata": {},
   "outputs": [
    {
     "name": "stdout",
     "output_type": "stream",
     "text": [
      "['sudh', 'krish']\n",
      "Sudh@235gmail.com\n"
     ]
    }
   ],
   "source": [
    "pw1.class_name(\"dataScience\")"
   ]
  },
  {
   "cell_type": "markdown",
   "id": "12c97378",
   "metadata": {},
   "source": [
    "<h4>Special/Magic/Dunder method"
   ]
  },
  {
   "cell_type": "code",
   "execution_count": 196,
   "id": "9aae1882",
   "metadata": {},
   "outputs": [
    {
     "data": {
      "text/plain": [
       "['__abs__',\n",
       " '__add__',\n",
       " '__and__',\n",
       " '__bool__',\n",
       " '__ceil__',\n",
       " '__class__',\n",
       " '__delattr__',\n",
       " '__dir__',\n",
       " '__divmod__',\n",
       " '__doc__',\n",
       " '__eq__',\n",
       " '__float__',\n",
       " '__floor__',\n",
       " '__floordiv__',\n",
       " '__format__',\n",
       " '__ge__',\n",
       " '__getattribute__',\n",
       " '__getnewargs__',\n",
       " '__getstate__',\n",
       " '__gt__',\n",
       " '__hash__',\n",
       " '__index__',\n",
       " '__init__',\n",
       " '__init_subclass__',\n",
       " '__int__',\n",
       " '__invert__',\n",
       " '__le__',\n",
       " '__lshift__',\n",
       " '__lt__',\n",
       " '__mod__',\n",
       " '__mul__',\n",
       " '__ne__',\n",
       " '__neg__',\n",
       " '__new__',\n",
       " '__or__',\n",
       " '__pos__',\n",
       " '__pow__',\n",
       " '__radd__',\n",
       " '__rand__',\n",
       " '__rdivmod__',\n",
       " '__reduce__',\n",
       " '__reduce_ex__',\n",
       " '__repr__',\n",
       " '__rfloordiv__',\n",
       " '__rlshift__',\n",
       " '__rmod__',\n",
       " '__rmul__',\n",
       " '__ror__',\n",
       " '__round__',\n",
       " '__rpow__',\n",
       " '__rrshift__',\n",
       " '__rshift__',\n",
       " '__rsub__',\n",
       " '__rtruediv__',\n",
       " '__rxor__',\n",
       " '__setattr__',\n",
       " '__sizeof__',\n",
       " '__str__',\n",
       " '__sub__',\n",
       " '__subclasshook__',\n",
       " '__truediv__',\n",
       " '__trunc__',\n",
       " '__xor__',\n",
       " 'as_integer_ratio',\n",
       " 'bit_count',\n",
       " 'bit_length',\n",
       " 'conjugate',\n",
       " 'denominator',\n",
       " 'from_bytes',\n",
       " 'imag',\n",
       " 'numerator',\n",
       " 'real',\n",
       " 'to_bytes']"
      ]
     },
     "execution_count": 196,
     "metadata": {},
     "output_type": "execute_result"
    }
   ],
   "source": [
    "dir(int)   #These are dendor method of int "
   ]
  },
  {
   "cell_type": "code",
   "execution_count": 198,
   "id": "5b0d64fc",
   "metadata": {},
   "outputs": [],
   "source": [
    "#System always calls dendor method(__X__ underscore both side)\n",
    "a=10"
   ]
  },
  {
   "cell_type": "code",
   "execution_count": 199,
   "id": "1745f0db",
   "metadata": {},
   "outputs": [
    {
     "data": {
      "text/plain": [
       "16"
      ]
     },
     "execution_count": 199,
     "metadata": {},
     "output_type": "execute_result"
    }
   ],
   "source": [
    "a.__add__(6)"
   ]
  },
  {
   "cell_type": "code",
   "execution_count": 200,
   "id": "f58940d0",
   "metadata": {},
   "outputs": [
    {
     "data": {
      "text/plain": [
       "['__add__',\n",
       " '__class__',\n",
       " '__contains__',\n",
       " '__delattr__',\n",
       " '__dir__',\n",
       " '__doc__',\n",
       " '__eq__',\n",
       " '__format__',\n",
       " '__ge__',\n",
       " '__getattribute__',\n",
       " '__getitem__',\n",
       " '__getnewargs__',\n",
       " '__getstate__',\n",
       " '__gt__',\n",
       " '__hash__',\n",
       " '__init__',\n",
       " '__init_subclass__',\n",
       " '__iter__',\n",
       " '__le__',\n",
       " '__len__',\n",
       " '__lt__',\n",
       " '__mod__',\n",
       " '__mul__',\n",
       " '__ne__',\n",
       " '__new__',\n",
       " '__reduce__',\n",
       " '__reduce_ex__',\n",
       " '__repr__',\n",
       " '__rmod__',\n",
       " '__rmul__',\n",
       " '__setattr__',\n",
       " '__sizeof__',\n",
       " '__str__',\n",
       " '__subclasshook__',\n",
       " 'capitalize',\n",
       " 'casefold',\n",
       " 'center',\n",
       " 'count',\n",
       " 'encode',\n",
       " 'endswith',\n",
       " 'expandtabs',\n",
       " 'find',\n",
       " 'format',\n",
       " 'format_map',\n",
       " 'index',\n",
       " 'isalnum',\n",
       " 'isalpha',\n",
       " 'isascii',\n",
       " 'isdecimal',\n",
       " 'isdigit',\n",
       " 'isidentifier',\n",
       " 'islower',\n",
       " 'isnumeric',\n",
       " 'isprintable',\n",
       " 'isspace',\n",
       " 'istitle',\n",
       " 'isupper',\n",
       " 'join',\n",
       " 'ljust',\n",
       " 'lower',\n",
       " 'lstrip',\n",
       " 'maketrans',\n",
       " 'partition',\n",
       " 'removeprefix',\n",
       " 'removesuffix',\n",
       " 'replace',\n",
       " 'rfind',\n",
       " 'rindex',\n",
       " 'rjust',\n",
       " 'rpartition',\n",
       " 'rsplit',\n",
       " 'rstrip',\n",
       " 'split',\n",
       " 'splitlines',\n",
       " 'startswith',\n",
       " 'strip',\n",
       " 'swapcase',\n",
       " 'title',\n",
       " 'translate',\n",
       " 'upper',\n",
       " 'zfill']"
      ]
     },
     "execution_count": 200,
     "metadata": {},
     "output_type": "execute_result"
    }
   ],
   "source": [
    "dir(str)   #All methods use in case of string"
   ]
  },
  {
   "cell_type": "code",
   "execution_count": null,
   "id": "d1fa19b4",
   "metadata": {},
   "outputs": [],
   "source": [
    "class data:\n",
    "    def __init__(self):       #init is also a dendor method\n",
    "        print(\"This is inside init\")"
   ]
  },
  {
   "cell_type": "code",
   "execution_count": 201,
   "id": "8ea41f40",
   "metadata": {},
   "outputs": [],
   "source": [
    "#While creating object the new method is internally called before calling of init method\n",
    "class data:\n",
    "    \n",
    "    def __new__(cls):\n",
    "        print(\"This is my new method\")\n",
    "    \n",
    "    def __init__(self):       #init is also a dendor method\n",
    "        print(\"This is inside init\")"
   ]
  },
  {
   "cell_type": "code",
   "execution_count": 202,
   "id": "ab153f7a",
   "metadata": {},
   "outputs": [
    {
     "name": "stdout",
     "output_type": "stream",
     "text": [
      "This is my new method\n"
     ]
    }
   ],
   "source": [
    "obj=data()   #The new method will execute before init method"
   ]
  },
  {
   "cell_type": "code",
   "execution_count": null,
   "id": "e7c8c9c3",
   "metadata": {},
   "outputs": [],
   "source": [
    "class pwskills:\n",
    "    def __init__(self):\n",
    "        self.mobilenumber=874652"
   ]
  },
  {
   "cell_type": "code",
   "execution_count": 203,
   "id": "44791f1d",
   "metadata": {},
   "outputs": [],
   "source": [
    "obj=pwskills()"
   ]
  },
  {
   "cell_type": "code",
   "execution_count": 204,
   "id": "a7ba1c66",
   "metadata": {},
   "outputs": [
    {
     "data": {
      "text/plain": [
       "<__main__.pwskills at 0x20a9f3d75d0>"
      ]
     },
     "execution_count": 204,
     "metadata": {},
     "output_type": "execute_result"
    }
   ],
   "source": [
    "obj   #This is not giving some readable output"
   ]
  },
  {
   "cell_type": "code",
   "execution_count": null,
   "id": "ba51c957",
   "metadata": {},
   "outputs": [],
   "source": [
    "#We use str method in this case to give some understandable code"
   ]
  },
  {
   "cell_type": "code",
   "execution_count": 211,
   "id": "0b9d2b3d",
   "metadata": {},
   "outputs": [],
   "source": [
    "class pwskills:\n",
    "    def __init__(self):\n",
    "        self.mobilenumber=874652\n",
    "        \n",
    "    def __str__(self):\n",
    "        return \"This is a magic method which will print something for object\""
   ]
  },
  {
   "cell_type": "code",
   "execution_count": 212,
   "id": "811fa3c3",
   "metadata": {},
   "outputs": [],
   "source": [
    "obj=pwskills()"
   ]
  },
  {
   "cell_type": "code",
   "execution_count": 213,
   "id": "791e62b7",
   "metadata": {},
   "outputs": [
    {
     "data": {
      "text/plain": [
       "<__main__.pwskills at 0x20a9f498dd0>"
      ]
     },
     "execution_count": 213,
     "metadata": {},
     "output_type": "execute_result"
    }
   ],
   "source": [
    "obj"
   ]
  },
  {
   "cell_type": "code",
   "execution_count": 214,
   "id": "0d2b8eb4",
   "metadata": {},
   "outputs": [
    {
     "name": "stdout",
     "output_type": "stream",
     "text": [
      "This is a magic method which will print something for object\n"
     ]
    }
   ],
   "source": [
    "print(obj)   #We can print some readable code"
   ]
  },
  {
   "cell_type": "code",
   "execution_count": 215,
   "id": "920cfd3d",
   "metadata": {},
   "outputs": [
    {
     "data": {
      "text/plain": [
       "['__add__',\n",
       " '__class__',\n",
       " '__class_getitem__',\n",
       " '__contains__',\n",
       " '__delattr__',\n",
       " '__delitem__',\n",
       " '__dir__',\n",
       " '__doc__',\n",
       " '__eq__',\n",
       " '__format__',\n",
       " '__ge__',\n",
       " '__getattribute__',\n",
       " '__getitem__',\n",
       " '__getstate__',\n",
       " '__gt__',\n",
       " '__hash__',\n",
       " '__iadd__',\n",
       " '__imul__',\n",
       " '__init__',\n",
       " '__init_subclass__',\n",
       " '__iter__',\n",
       " '__le__',\n",
       " '__len__',\n",
       " '__lt__',\n",
       " '__mul__',\n",
       " '__ne__',\n",
       " '__new__',\n",
       " '__reduce__',\n",
       " '__reduce_ex__',\n",
       " '__repr__',\n",
       " '__reversed__',\n",
       " '__rmul__',\n",
       " '__setattr__',\n",
       " '__setitem__',\n",
       " '__sizeof__',\n",
       " '__str__',\n",
       " '__subclasshook__',\n",
       " 'append',\n",
       " 'clear',\n",
       " 'copy',\n",
       " 'count',\n",
       " 'extend',\n",
       " 'index',\n",
       " 'insert',\n",
       " 'pop',\n",
       " 'remove',\n",
       " 'reverse',\n",
       " 'sort']"
      ]
     },
     "execution_count": 215,
     "metadata": {},
     "output_type": "execute_result"
    }
   ],
   "source": [
    "dir(list)"
   ]
  },
  {
   "cell_type": "code",
   "execution_count": 216,
   "id": "e1f497c5",
   "metadata": {},
   "outputs": [
    {
     "data": {
      "text/plain": [
       "['__add__',\n",
       " '__class__',\n",
       " '__class_getitem__',\n",
       " '__contains__',\n",
       " '__delattr__',\n",
       " '__dir__',\n",
       " '__doc__',\n",
       " '__eq__',\n",
       " '__format__',\n",
       " '__ge__',\n",
       " '__getattribute__',\n",
       " '__getitem__',\n",
       " '__getnewargs__',\n",
       " '__getstate__',\n",
       " '__gt__',\n",
       " '__hash__',\n",
       " '__init__',\n",
       " '__init_subclass__',\n",
       " '__iter__',\n",
       " '__le__',\n",
       " '__len__',\n",
       " '__lt__',\n",
       " '__mul__',\n",
       " '__ne__',\n",
       " '__new__',\n",
       " '__reduce__',\n",
       " '__reduce_ex__',\n",
       " '__repr__',\n",
       " '__rmul__',\n",
       " '__setattr__',\n",
       " '__sizeof__',\n",
       " '__str__',\n",
       " '__subclasshook__',\n",
       " 'count',\n",
       " 'index']"
      ]
     },
     "execution_count": 216,
     "metadata": {},
     "output_type": "execute_result"
    }
   ],
   "source": [
    "dir(tuple)"
   ]
  },
  {
   "cell_type": "markdown",
   "id": "4c899e2f",
   "metadata": {},
   "source": [
    "<h4>Property Decorator</h4>: It exposes the properties of the class to the outer world\n",
    "\n",
    "getters      ,          setters,        deletes"
   ]
  },
  {
   "cell_type": "markdown",
   "id": "8e42750e",
   "metadata": {},
   "source": [
    "single underscore means protected\n",
    "\n",
    "double underscore means private\n",
    "\n",
    "no underscore means public"
   ]
  },
  {
   "cell_type": "code",
   "execution_count": 219,
   "id": "8fc8bb04",
   "metadata": {},
   "outputs": [],
   "source": [
    "class pwskills:\n",
    "    def __init__(self,course_price,course_name):\n",
    "        self.__course_price=course_price     #private variable\n",
    "        self.course_name=course_name         #public variable"
   ]
  },
  {
   "cell_type": "code",
   "execution_count": 220,
   "id": "245259d3",
   "metadata": {},
   "outputs": [],
   "source": [
    "obj=pwskills(1200,\"DataScience\")"
   ]
  },
  {
   "cell_type": "code",
   "execution_count": 221,
   "id": "1005d4c8",
   "metadata": {},
   "outputs": [
    {
     "data": {
      "text/plain": [
       "'DataScience'"
      ]
     },
     "execution_count": 221,
     "metadata": {},
     "output_type": "execute_result"
    }
   ],
   "source": [
    "obj.course_name"
   ]
  },
  {
   "cell_type": "code",
   "execution_count": 222,
   "id": "ae82db14",
   "metadata": {},
   "outputs": [
    {
     "ename": "AttributeError",
     "evalue": "'pwskills' object has no attribute 'course_price'",
     "output_type": "error",
     "traceback": [
      "\u001b[1;31m---------------------------------------------------------------------------\u001b[0m",
      "\u001b[1;31mAttributeError\u001b[0m                            Traceback (most recent call last)",
      "Cell \u001b[1;32mIn[222], line 1\u001b[0m\n\u001b[1;32m----> 1\u001b[0m \u001b[43mobj\u001b[49m\u001b[38;5;241;43m.\u001b[39;49m\u001b[43mcourse_price\u001b[49m\n",
      "\u001b[1;31mAttributeError\u001b[0m: 'pwskills' object has no attribute 'course_price'"
     ]
    }
   ],
   "source": [
    "obj.course_price   #can't access like this until we know the name of the class"
   ]
  },
  {
   "cell_type": "code",
   "execution_count": 223,
   "id": "b269de7c",
   "metadata": {},
   "outputs": [
    {
     "data": {
      "text/plain": [
       "1200"
      ]
     },
     "execution_count": 223,
     "metadata": {},
     "output_type": "execute_result"
    }
   ],
   "source": [
    "obj._pwskills__course_price    #only we can access the private using class name"
   ]
  },
  {
   "cell_type": "code",
   "execution_count": null,
   "id": "30ecef56",
   "metadata": {},
   "outputs": [],
   "source": [
    "#How to make private variable accessable to outer world"
   ]
  },
  {
   "cell_type": "code",
   "execution_count": 224,
   "id": "e9fe1e86",
   "metadata": {},
   "outputs": [],
   "source": [
    "class pwskills:\n",
    "    def __init__(self,course_price,course_name):\n",
    "        self.__course_price=course_price     #private variable\n",
    "        self.course_name=course_name         #public variable\n",
    "        \n",
    "    @property    #This property decorator help us to provide access of private variable to outer world\n",
    "    def course_price_access(self):  #Give access to this property they can get the variable\n",
    "        return self.__course_price"
   ]
  },
  {
   "cell_type": "code",
   "execution_count": 225,
   "id": "e07a7213",
   "metadata": {},
   "outputs": [],
   "source": [
    "obj=pwskills(1200,\"DataScience\")"
   ]
  },
  {
   "cell_type": "code",
   "execution_count": 227,
   "id": "bfd1d5cb",
   "metadata": {},
   "outputs": [
    {
     "data": {
      "text/plain": [
       "1200"
      ]
     },
     "execution_count": 227,
     "metadata": {},
     "output_type": "execute_result"
    }
   ],
   "source": [
    "obj.course_price_access"
   ]
  },
  {
   "cell_type": "code",
   "execution_count": null,
   "id": "c6ed73ad",
   "metadata": {},
   "outputs": [],
   "source": [
    "#How to give access to the user to modify the class variables (setter property)\n",
    "#using setter we can allow access to modify private and protectesd variable "
   ]
  },
  {
   "cell_type": "code",
   "execution_count": 244,
   "id": "6adf2086",
   "metadata": {},
   "outputs": [],
   "source": [
    "class pwskills:\n",
    "    def __init__(self,course_price,course_name):\n",
    "        self.__course_price=course_price     #private variable\n",
    "        self.course_name=course_name         #public variable\n",
    "        \n",
    "    @property    #This property decorator help us to provide access of private variable to outer world\n",
    "    def course_price_access(self):  #Give access to this property they can get the variable\n",
    "        return self.__course_price\n",
    "    \n",
    "    @course_price_access.setter\n",
    "    def course_price_set(self,price):\n",
    "        if price<=3500:\n",
    "            pass\n",
    "        else:\n",
    "            self.__course_price=price"
   ]
  },
  {
   "cell_type": "code",
   "execution_count": 245,
   "id": "ca556484",
   "metadata": {},
   "outputs": [],
   "source": [
    "obj=pwskills(3500,\"datascience\")"
   ]
  },
  {
   "cell_type": "code",
   "execution_count": 246,
   "id": "c2dbe3a9",
   "metadata": {},
   "outputs": [],
   "source": [
    "obj.course_price_set=400"
   ]
  },
  {
   "cell_type": "code",
   "execution_count": 247,
   "id": "ae45d160",
   "metadata": {},
   "outputs": [
    {
     "data": {
      "text/plain": [
       "3500"
      ]
     },
     "execution_count": 247,
     "metadata": {},
     "output_type": "execute_result"
    }
   ],
   "source": [
    "obj.course_price_access"
   ]
  },
  {
   "cell_type": "code",
   "execution_count": 248,
   "id": "2112601a",
   "metadata": {},
   "outputs": [],
   "source": [
    "obj.course_price_set=4000"
   ]
  },
  {
   "cell_type": "code",
   "execution_count": 249,
   "id": "686152f1",
   "metadata": {},
   "outputs": [
    {
     "data": {
      "text/plain": [
       "4000"
      ]
     },
     "execution_count": 249,
     "metadata": {},
     "output_type": "execute_result"
    }
   ],
   "source": [
    "obj.course_price_access"
   ]
  },
  {
   "cell_type": "code",
   "execution_count": null,
   "id": "b511ff02",
   "metadata": {},
   "outputs": [],
   "source": [
    "#Now give priviledge to the user to delete the private variable"
   ]
  },
  {
   "cell_type": "code",
   "execution_count": 250,
   "id": "d191ee07",
   "metadata": {},
   "outputs": [],
   "source": [
    "class pwskills:\n",
    "    def __init__(self,course_price,course_name):\n",
    "        self.__course_price=course_price     #private variable\n",
    "        self.course_name=course_name         #public variable\n",
    "        \n",
    "    @property    #This property decorator help us to provide access of private variable to outer world\n",
    "    def course_price_access(self):  #Give access to this property they can get the variable\n",
    "        return self.__course_price\n",
    "    \n",
    "    @course_price_access.setter\n",
    "    def course_price_set(self,price):\n",
    "        if price<=3500:\n",
    "            pass\n",
    "        else:\n",
    "            self.__course_price=price\n",
    "            \n",
    "    @course_price_access.deleter\n",
    "    def delete_private(self):\n",
    "        del self.__course_price"
   ]
  },
  {
   "cell_type": "code",
   "execution_count": 251,
   "id": "66273e70",
   "metadata": {},
   "outputs": [],
   "source": [
    "obj=pwskills(3500,\"DataScience\")"
   ]
  },
  {
   "cell_type": "code",
   "execution_count": 253,
   "id": "18235f60",
   "metadata": {},
   "outputs": [],
   "source": [
    "del obj.delete_private"
   ]
  },
  {
   "cell_type": "code",
   "execution_count": 254,
   "id": "dc303f91",
   "metadata": {},
   "outputs": [
    {
     "ename": "AttributeError",
     "evalue": "'pwskills' object has no attribute '_pwskills__course_price'",
     "output_type": "error",
     "traceback": [
      "\u001b[1;31m---------------------------------------------------------------------------\u001b[0m",
      "\u001b[1;31mAttributeError\u001b[0m                            Traceback (most recent call last)",
      "Cell \u001b[1;32mIn[254], line 1\u001b[0m\n\u001b[1;32m----> 1\u001b[0m \u001b[43mobj\u001b[49m\u001b[38;5;241;43m.\u001b[39;49m\u001b[43mcourse_price_access\u001b[49m\n",
      "Cell \u001b[1;32mIn[250], line 8\u001b[0m, in \u001b[0;36mpwskills.course_price_access\u001b[1;34m(self)\u001b[0m\n\u001b[0;32m      6\u001b[0m \u001b[38;5;129m@property\u001b[39m    \u001b[38;5;66;03m#This property decorator help us to provide access of private variable to outer world\u001b[39;00m\n\u001b[0;32m      7\u001b[0m \u001b[38;5;28;01mdef\u001b[39;00m \u001b[38;5;21mcourse_price_access\u001b[39m(\u001b[38;5;28mself\u001b[39m):  \u001b[38;5;66;03m#Give access to this property they can get the variable\u001b[39;00m\n\u001b[1;32m----> 8\u001b[0m     \u001b[38;5;28;01mreturn\u001b[39;00m \u001b[38;5;28;43mself\u001b[39;49m\u001b[38;5;241;43m.\u001b[39;49m\u001b[43m__course_price\u001b[49m\n",
      "\u001b[1;31mAttributeError\u001b[0m: 'pwskills' object has no attribute '_pwskills__course_price'"
     ]
    }
   ],
   "source": [
    "obj.course_price_access"
   ]
  }
 ],
 "metadata": {
  "kernelspec": {
   "display_name": "Python 3 (ipykernel)",
   "language": "python",
   "name": "python3"
  },
  "language_info": {
   "codemirror_mode": {
    "name": "ipython",
    "version": 3
   },
   "file_extension": ".py",
   "mimetype": "text/x-python",
   "name": "python",
   "nbconvert_exporter": "python",
   "pygments_lexer": "ipython3",
   "version": "3.11.0"
  }
 },
 "nbformat": 4,
 "nbformat_minor": 5
}
