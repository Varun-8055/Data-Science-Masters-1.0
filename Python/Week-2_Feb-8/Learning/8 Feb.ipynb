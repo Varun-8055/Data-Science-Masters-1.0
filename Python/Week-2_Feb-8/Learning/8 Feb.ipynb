{
 "cells": [
  {
   "cell_type": "markdown",
   "id": "8c178035",
   "metadata": {},
   "source": [
    "<H3>OOP Concept of Python"
   ]
  },
  {
   "cell_type": "markdown",
   "id": "58e8616e",
   "metadata": {},
   "source": [
    "1).Polymorphism"
   ]
  },
  {
   "cell_type": "code",
   "execution_count": 1,
   "id": "255730b6",
   "metadata": {},
   "outputs": [],
   "source": [
    "def sum(a,b):\n",
    "    return a+b"
   ]
  },
  {
   "cell_type": "code",
   "execution_count": 2,
   "id": "630e5d44",
   "metadata": {},
   "outputs": [
    {
     "data": {
      "text/plain": [
       "9"
      ]
     },
     "execution_count": 2,
     "metadata": {},
     "output_type": "execute_result"
    }
   ],
   "source": [
    "sum(4,5)    #sum function add integer here"
   ]
  },
  {
   "cell_type": "code",
   "execution_count": 3,
   "id": "da086d80",
   "metadata": {},
   "outputs": [
    {
     "data": {
      "text/plain": [
       "'DeepaGupta'"
      ]
     },
     "execution_count": 3,
     "metadata": {},
     "output_type": "execute_result"
    }
   ],
   "source": [
    "sum(\"Deepa\",\"Gupta\")    # sum function add string here"
   ]
  },
  {
   "cell_type": "code",
   "execution_count": 4,
   "id": "2624a49c",
   "metadata": {},
   "outputs": [
    {
     "data": {
      "text/plain": [
       "[1, 2, 3, 4, 5, 6, 7]"
      ]
     },
     "execution_count": 4,
     "metadata": {},
     "output_type": "execute_result"
    }
   ],
   "source": [
    "sum([1,2,3],[4,5,6,7])    #sum function add 2 list here"
   ]
  },
  {
   "cell_type": "code",
   "execution_count": 8,
   "id": "16ef52f4",
   "metadata": {},
   "outputs": [],
   "source": [
    "class data_science:              #one class\n",
    "    def syllabus(self):\n",
    "        print(\"I'm inside method of data science\")"
   ]
  },
  {
   "cell_type": "code",
   "execution_count": 5,
   "id": "1fef7da7",
   "metadata": {},
   "outputs": [],
   "source": [
    "class web_dev:                     #another class\n",
    "    def syllabus(self):\n",
    "        print(\"I'm inside method of web development\")"
   ]
  },
  {
   "cell_type": "code",
   "execution_count": 6,
   "id": "27240f81",
   "metadata": {},
   "outputs": [],
   "source": [
    "#Outer method  \n",
    "def parse_syllabus(class_obj): #this method will act like polymorphism example as it take diff objects\n",
    "    for i in class_obj:\n",
    "        i.syllabus()"
   ]
  },
  {
   "cell_type": "code",
   "execution_count": 9,
   "id": "286b0bab",
   "metadata": {},
   "outputs": [],
   "source": [
    "#Create object of data_science class\n",
    "Data_obj=data_science()"
   ]
  },
  {
   "cell_type": "code",
   "execution_count": 10,
   "id": "b365c53d",
   "metadata": {},
   "outputs": [],
   "source": [
    "#Create object of web_dev class\n",
    "WebD_obj=web_dev()"
   ]
  },
  {
   "cell_type": "code",
   "execution_count": 11,
   "id": "f8539f61",
   "metadata": {},
   "outputs": [],
   "source": [
    "#Create list of both objects\n",
    "class_obj=[Data_obj,WebD_obj]"
   ]
  },
  {
   "cell_type": "code",
   "execution_count": 12,
   "id": "98346df6",
   "metadata": {},
   "outputs": [
    {
     "name": "stdout",
     "output_type": "stream",
     "text": [
      "I'm inside method of data science\n",
      "I'm inside method of web development\n"
     ]
    }
   ],
   "source": [
    "parse_syllabus(class_obj)      #Iterating over the list containing objects of both classes"
   ]
  },
  {
   "cell_type": "markdown",
   "id": "93e5927b",
   "metadata": {},
   "source": [
    "2).Encapsulation"
   ]
  },
  {
   "cell_type": "code",
   "execution_count": 14,
   "id": "d3df700d",
   "metadata": {},
   "outputs": [],
   "source": [
    "class test: #__init__method is a method which is used to pass data inside a class known as constructor\n",
    "    def __init__(self,a,b):\n",
    "        self.a=a     \n",
    "        self.b=b        #Here all the variables are public (without __X)"
   ]
  },
  {
   "cell_type": "code",
   "execution_count": 15,
   "id": "147dd89b",
   "metadata": {},
   "outputs": [],
   "source": [
    "t=test(45,67)   #t is object of the class test"
   ]
  },
  {
   "cell_type": "code",
   "execution_count": 16,
   "id": "ceaa2192",
   "metadata": {},
   "outputs": [
    {
     "data": {
      "text/plain": [
       "45"
      ]
     },
     "execution_count": 16,
     "metadata": {},
     "output_type": "execute_result"
    }
   ],
   "source": [
    "t.a  #Can access the data of method"
   ]
  },
  {
   "cell_type": "code",
   "execution_count": 17,
   "id": "3ca8b786",
   "metadata": {},
   "outputs": [
    {
     "data": {
      "text/plain": [
       "67"
      ]
     },
     "execution_count": 17,
     "metadata": {},
     "output_type": "execute_result"
    }
   ],
   "source": [
    "t.b   #Can access the data of method"
   ]
  },
  {
   "cell_type": "code",
   "execution_count": 18,
   "id": "c69196b2",
   "metadata": {},
   "outputs": [],
   "source": [
    "t.a=346    # we can also assign new value to the data of the constructor"
   ]
  },
  {
   "cell_type": "code",
   "execution_count": 19,
   "id": "2e870711",
   "metadata": {},
   "outputs": [
    {
     "data": {
      "text/plain": [
       "346"
      ]
     },
     "execution_count": 19,
     "metadata": {},
     "output_type": "execute_result"
    }
   ],
   "source": [
    "t.a    #Althrough this modification of data is dangerous.We need some prevention for this in real life"
   ]
  },
  {
   "cell_type": "code",
   "execution_count": null,
   "id": "fb73a0ec",
   "metadata": {},
   "outputs": [],
   "source": [
    "#Here the term encapsulation comes into picture"
   ]
  },
  {
   "cell_type": "code",
   "execution_count": 20,
   "id": "b3bc3bb3",
   "metadata": {},
   "outputs": [],
   "source": [
    "class car:\n",
    "    def __init__(self,year,make,model,speed):   #constructor\n",
    "        self.__year=year      \n",
    "        self.__make=make           #Here all the variable are private (__X)\n",
    "        self.__model=model\n",
    "        self.__speed=0"
   ]
  },
  {
   "cell_type": "code",
   "execution_count": 36,
   "id": "04d2077f",
   "metadata": {},
   "outputs": [],
   "source": [
    "obj_car=car(2002,\"Farrari\",\"Pickup\",1200)  #object of the class"
   ]
  },
  {
   "cell_type": "code",
   "execution_count": null,
   "id": "bf472ae4",
   "metadata": {},
   "outputs": [],
   "source": [
    "#So those who are unaware about the implementation of the class can't access or modify the variables\n",
    "#They cannot access or modify variable untill they know the exact variable and class name "
   ]
  },
  {
   "cell_type": "code",
   "execution_count": 24,
   "id": "d313454a",
   "metadata": {},
   "outputs": [
    {
     "ename": "AttributeError",
     "evalue": "'car' object has no attribute '__year'",
     "output_type": "error",
     "traceback": [
      "\u001b[1;31m---------------------------------------------------------------------------\u001b[0m",
      "\u001b[1;31mAttributeError\u001b[0m                            Traceback (most recent call last)",
      "Cell \u001b[1;32mIn[24], line 1\u001b[0m\n\u001b[1;32m----> 1\u001b[0m \u001b[43mobj_car\u001b[49m\u001b[38;5;241;43m.\u001b[39;49m\u001b[43m__year\u001b[49m   \n",
      "\u001b[1;31mAttributeError\u001b[0m: 'car' object has no attribute '__year'"
     ]
    }
   ],
   "source": [
    "obj_car.__year   #We cannot access variable of the class because they all are private "
   ]
  },
  {
   "cell_type": "code",
   "execution_count": 27,
   "id": "3149ac11",
   "metadata": {},
   "outputs": [],
   "source": [
    "obj_car.__year=2005   #The variable is stil modifying why? I have a doubt here "
   ]
  },
  {
   "cell_type": "code",
   "execution_count": 28,
   "id": "2083245b",
   "metadata": {},
   "outputs": [
    {
     "data": {
      "text/plain": [
       "2005"
      ]
     },
     "execution_count": 28,
     "metadata": {},
     "output_type": "execute_result"
    }
   ],
   "source": [
    "obj_car.__year"
   ]
  },
  {
   "cell_type": "code",
   "execution_count": 25,
   "id": "8fa8e9cd",
   "metadata": {},
   "outputs": [
    {
     "data": {
      "text/plain": [
       "2002"
      ]
     },
     "execution_count": 25,
     "metadata": {},
     "output_type": "execute_result"
    }
   ],
   "source": [
    "obj_car._car__year  #We can only access the variable using class name"
   ]
  },
  {
   "cell_type": "code",
   "execution_count": 29,
   "id": "395ea027",
   "metadata": {},
   "outputs": [],
   "source": [
    "obj_car._car__year=2005  #The creater of the class can modify the variables "
   ]
  },
  {
   "cell_type": "code",
   "execution_count": 30,
   "id": "b89f8b05",
   "metadata": {},
   "outputs": [
    {
     "data": {
      "text/plain": [
       "2005"
      ]
     },
     "execution_count": 30,
     "metadata": {},
     "output_type": "execute_result"
    }
   ],
   "source": [
    "obj_car._car__year"
   ]
  },
  {
   "cell_type": "code",
   "execution_count": null,
   "id": "8bd44267",
   "metadata": {},
   "outputs": [],
   "source": [
    "# The creater of the class can allow the user to change the variable as well "
   ]
  },
  {
   "cell_type": "code",
   "execution_count": 34,
   "id": "80d16d83",
   "metadata": {},
   "outputs": [],
   "source": [
    "class car:\n",
    "    def __init__(self,year,make,model,speed):   #constructor\n",
    "        self.__year=year      \n",
    "        self.__make=make           #Here all the variable are private (__X)\n",
    "        self.__model=model\n",
    "        self.__speed=0\n",
    "        \n",
    "    def set_speed(self,speed):\n",
    "        self.__speed=0 if speed<0 else speed"
   ]
  },
  {
   "cell_type": "code",
   "execution_count": null,
   "id": "a65a971a",
   "metadata": {},
   "outputs": [],
   "source": [
    "obj_car=car(2002,\"Farrari\",\"Pickup\",1200)   "
   ]
  },
  {
   "cell_type": "code",
   "execution_count": 37,
   "id": "8315e0b6",
   "metadata": {},
   "outputs": [],
   "source": [
    "#Now the user can set speed \n",
    "obj_car.set_speed(-276462)      #The speed will remain same"
   ]
  },
  {
   "cell_type": "code",
   "execution_count": 38,
   "id": "7bde2bba",
   "metadata": {},
   "outputs": [
    {
     "data": {
      "text/plain": [
       "0"
      ]
     },
     "execution_count": 38,
     "metadata": {},
     "output_type": "execute_result"
    }
   ],
   "source": [
    "obj_car._car__speed"
   ]
  },
  {
   "cell_type": "code",
   "execution_count": 40,
   "id": "5e1ad03e",
   "metadata": {},
   "outputs": [],
   "source": [
    "obj_car.set_speed(322)"
   ]
  },
  {
   "cell_type": "code",
   "execution_count": 41,
   "id": "8ab040b7",
   "metadata": {},
   "outputs": [
    {
     "data": {
      "text/plain": [
       "322"
      ]
     },
     "execution_count": 41,
     "metadata": {},
     "output_type": "execute_result"
    }
   ],
   "source": [
    "obj_car._car__speed    #The speed will now update to new value "
   ]
  },
  {
   "cell_type": "code",
   "execution_count": null,
   "id": "3b9e7de9",
   "metadata": {},
   "outputs": [],
   "source": [
    "#So the unknown can only access the speed value using class only\n",
    "#The creater can also provide privilege to user to directly access the variables"
   ]
  },
  {
   "cell_type": "code",
   "execution_count": 42,
   "id": "e5e855bb",
   "metadata": {},
   "outputs": [],
   "source": [
    "class car:\n",
    "    def __init__(self,year,make,model,speed):   #constructor\n",
    "        self.__year=year      \n",
    "        self.__make=make           #Here all the variable are private (__X)\n",
    "        self.__model=model\n",
    "        self.__speed=0\n",
    "        \n",
    "    def set_speed(self,speed):\n",
    "        self.__speed=0 if speed<0 else speed\n",
    "        \n",
    "    def get_speed(self):\n",
    "        return self.__speed"
   ]
  },
  {
   "cell_type": "code",
   "execution_count": 43,
   "id": "731ecd89",
   "metadata": {},
   "outputs": [],
   "source": [
    "obj_car=car(2002,\"Farrari\",\"Pickup\",1200)"
   ]
  },
  {
   "cell_type": "code",
   "execution_count": 45,
   "id": "e71e003d",
   "metadata": {},
   "outputs": [],
   "source": [
    "obj_car.set_speed(120)"
   ]
  },
  {
   "cell_type": "code",
   "execution_count": 46,
   "id": "3cbbdc30",
   "metadata": {},
   "outputs": [
    {
     "data": {
      "text/plain": [
       "120"
      ]
     },
     "execution_count": 46,
     "metadata": {},
     "output_type": "execute_result"
    }
   ],
   "source": [
    "obj_car.get_speed()"
   ]
  },
  {
   "cell_type": "code",
   "execution_count": 54,
   "id": "7719b2b9",
   "metadata": {},
   "outputs": [],
   "source": [
    "#Example of encapsulation\n",
    "class Bank_account:\n",
    "    def __init__(self,balance):\n",
    "        self.__balance=balance\n",
    "        \n",
    "    def deposit(self,amount):\n",
    "        self.__balance=self.__balance+amount\n",
    "        \n",
    "    def withdraw(self,amount):\n",
    "        if self.__balance>=amount:\n",
    "            self.__balance=self.__balance-amount\n",
    "            return True\n",
    "        else:\n",
    "            return False\n",
    "        \n",
    "    def get_balance(self):\n",
    "        return self.__balance"
   ]
  },
  {
   "cell_type": "code",
   "execution_count": 55,
   "id": "b831612c",
   "metadata": {},
   "outputs": [],
   "source": [
    "obj_Bank_Acc=Bank_account(1000)  #object of class"
   ]
  },
  {
   "cell_type": "code",
   "execution_count": 56,
   "id": "4a130a06",
   "metadata": {},
   "outputs": [
    {
     "ename": "AttributeError",
     "evalue": "'Bank_account' object has no attribute '__balance'",
     "output_type": "error",
     "traceback": [
      "\u001b[1;31m---------------------------------------------------------------------------\u001b[0m",
      "\u001b[1;31mAttributeError\u001b[0m                            Traceback (most recent call last)",
      "Cell \u001b[1;32mIn[56], line 1\u001b[0m\n\u001b[1;32m----> 1\u001b[0m \u001b[43mobj_Bank_Acc\u001b[49m\u001b[38;5;241;43m.\u001b[39;49m\u001b[43m__balance\u001b[49m    \u001b[38;5;66;03m#We cannot access the balance directly as this is private\u001b[39;00m\n",
      "\u001b[1;31mAttributeError\u001b[0m: 'Bank_account' object has no attribute '__balance'"
     ]
    }
   ],
   "source": [
    "obj_Bank_Acc.__balance    #We cannot access the balance directly as this is private"
   ]
  },
  {
   "cell_type": "code",
   "execution_count": 57,
   "id": "093b63bd",
   "metadata": {},
   "outputs": [
    {
     "data": {
      "text/plain": [
       "1000"
      ]
     },
     "execution_count": 57,
     "metadata": {},
     "output_type": "execute_result"
    }
   ],
   "source": [
    "obj_Bank_Acc.get_balance()    #We can access all the 3 public function"
   ]
  },
  {
   "cell_type": "code",
   "execution_count": 58,
   "id": "0d4faf21",
   "metadata": {},
   "outputs": [],
   "source": [
    "obj_Bank_Acc.deposit(500)"
   ]
  },
  {
   "cell_type": "code",
   "execution_count": 59,
   "id": "32420dcb",
   "metadata": {},
   "outputs": [
    {
     "data": {
      "text/plain": [
       "1500"
      ]
     },
     "execution_count": 59,
     "metadata": {},
     "output_type": "execute_result"
    }
   ],
   "source": [
    "obj_Bank_Acc.get_balance() "
   ]
  },
  {
   "cell_type": "code",
   "execution_count": 60,
   "id": "444f66e3",
   "metadata": {},
   "outputs": [
    {
     "data": {
      "text/plain": [
       "True"
      ]
     },
     "execution_count": 60,
     "metadata": {},
     "output_type": "execute_result"
    }
   ],
   "source": [
    "obj_Bank_Acc.withdraw(255)"
   ]
  },
  {
   "cell_type": "code",
   "execution_count": 61,
   "id": "ab1cce3a",
   "metadata": {},
   "outputs": [
    {
     "data": {
      "text/plain": [
       "1245"
      ]
     },
     "execution_count": 61,
     "metadata": {},
     "output_type": "execute_result"
    }
   ],
   "source": [
    "obj_Bank_Acc.get_balance() "
   ]
  },
  {
   "cell_type": "markdown",
   "id": "96dbbab5",
   "metadata": {},
   "source": [
    "3).Inheritance"
   ]
  },
  {
   "cell_type": "code",
   "execution_count": 64,
   "id": "dd2c6683",
   "metadata": {},
   "outputs": [],
   "source": [
    "class parent:                  #Parent class\n",
    "    def test_class(self):\n",
    "        print(\"This is method in parent class\")"
   ]
  },
  {
   "cell_type": "code",
   "execution_count": 68,
   "id": "a530ed72",
   "metadata": {},
   "outputs": [],
   "source": [
    "class child(parent):         #child inherit parent class\n",
    "    pass"
   ]
  },
  {
   "cell_type": "code",
   "execution_count": 69,
   "id": "e0dcbf35",
   "metadata": {},
   "outputs": [],
   "source": [
    "obj_child=child()           #object of child class"
   ]
  },
  {
   "cell_type": "code",
   "execution_count": 71,
   "id": "71c1e3f8",
   "metadata": {},
   "outputs": [
    {
     "name": "stdout",
     "output_type": "stream",
     "text": [
      "This is method in parent class\n"
     ]
    }
   ],
   "source": [
    "obj_child.test_class()      # empty body of child class still it can access the method of parent class"
   ]
  },
  {
   "cell_type": "markdown",
   "id": "4f2a8ca8",
   "metadata": {},
   "source": [
    " *Multilevel Inheritance"
   ]
  },
  {
   "cell_type": "code",
   "execution_count": 72,
   "id": "6cbb561c",
   "metadata": {},
   "outputs": [],
   "source": [
    "class class1:                          # level 1\n",
    "    def test1(self):\n",
    "        print(\"This is class1\")"
   ]
  },
  {
   "cell_type": "code",
   "execution_count": 73,
   "id": "cd947b6b",
   "metadata": {},
   "outputs": [],
   "source": [
    "class class2(class1):                  # level 2\n",
    "    def test2(self):\n",
    "        print(\"This is class2\")"
   ]
  },
  {
   "cell_type": "code",
   "execution_count": 74,
   "id": "0f112226",
   "metadata": {},
   "outputs": [],
   "source": [
    "class class3(class2):                  # level 3\n",
    "    def test3(self):\n",
    "        print(\"This is class3\")"
   ]
  },
  {
   "cell_type": "code",
   "execution_count": 77,
   "id": "14c38cbd",
   "metadata": {},
   "outputs": [],
   "source": [
    "obj1=class1()   #Object of class1"
   ]
  },
  {
   "cell_type": "code",
   "execution_count": 78,
   "id": "0b1839fb",
   "metadata": {},
   "outputs": [],
   "source": [
    "obj2=class2()   #Object of class2"
   ]
  },
  {
   "cell_type": "code",
   "execution_count": 79,
   "id": "899e4f8a",
   "metadata": {},
   "outputs": [],
   "source": [
    "obj3=class3()   #Object of class3"
   ]
  },
  {
   "cell_type": "code",
   "execution_count": 80,
   "id": "4edf0691",
   "metadata": {},
   "outputs": [
    {
     "name": "stdout",
     "output_type": "stream",
     "text": [
      "This is class1\n"
     ]
    }
   ],
   "source": [
    "obj1.test1()    #Method of class1 can be accessed by every class "
   ]
  },
  {
   "cell_type": "code",
   "execution_count": 81,
   "id": "0b34c454",
   "metadata": {},
   "outputs": [
    {
     "name": "stdout",
     "output_type": "stream",
     "text": [
      "This is class1\n"
     ]
    }
   ],
   "source": [
    "obj2.test1()    #Method of class1 can be accessed by every class "
   ]
  },
  {
   "cell_type": "code",
   "execution_count": 82,
   "id": "dc3b5774",
   "metadata": {},
   "outputs": [
    {
     "name": "stdout",
     "output_type": "stream",
     "text": [
      "This is class1\n"
     ]
    }
   ],
   "source": [
    "obj3.test1()    #Method of class1 can be accessed by every class "
   ]
  },
  {
   "cell_type": "code",
   "execution_count": 83,
   "id": "7aa0d81d",
   "metadata": {},
   "outputs": [
    {
     "name": "stdout",
     "output_type": "stream",
     "text": [
      "This is class2\n"
     ]
    }
   ],
   "source": [
    "obj2.test2()     #Method of class2 can be accessed by itself and child class "
   ]
  },
  {
   "cell_type": "code",
   "execution_count": 84,
   "id": "32095cda",
   "metadata": {},
   "outputs": [
    {
     "name": "stdout",
     "output_type": "stream",
     "text": [
      "This is class2\n"
     ]
    }
   ],
   "source": [
    "obj3.test2()    #Method of class2 can be accessed by itself and class "
   ]
  },
  {
   "cell_type": "code",
   "execution_count": 85,
   "id": "2324b357",
   "metadata": {},
   "outputs": [
    {
     "name": "stdout",
     "output_type": "stream",
     "text": [
      "This is class3\n"
     ]
    }
   ],
   "source": [
    "obj3.test3()    #Method of class3 can be accessed by itself only (as no child class is there) "
   ]
  },
  {
   "cell_type": "markdown",
   "id": "28424f13",
   "metadata": {},
   "source": [
    "*Multiple Inheritance"
   ]
  },
  {
   "cell_type": "code",
   "execution_count": 88,
   "id": "af930c93",
   "metadata": {},
   "outputs": [],
   "source": [
    "class class1:                        #One class\n",
    "    def test1(self):\n",
    "        print(\"This is class1\")"
   ]
  },
  {
   "cell_type": "code",
   "execution_count": 89,
   "id": "7ca01c7d",
   "metadata": {},
   "outputs": [],
   "source": [
    "class class2:                        #Another class\n",
    "    def test2(self):\n",
    "        print(\"This is class2\")"
   ]
  },
  {
   "cell_type": "code",
   "execution_count": 90,
   "id": "c4c3dee3",
   "metadata": {},
   "outputs": [],
   "source": [
    "class class3(class1,class2):          #Third class inherit both class\n",
    "    pass"
   ]
  },
  {
   "cell_type": "code",
   "execution_count": 91,
   "id": "4469726d",
   "metadata": {},
   "outputs": [],
   "source": [
    "obj1=class1()"
   ]
  },
  {
   "cell_type": "code",
   "execution_count": 92,
   "id": "a5f97046",
   "metadata": {},
   "outputs": [],
   "source": [
    "obj2=class2()"
   ]
  },
  {
   "cell_type": "code",
   "execution_count": 93,
   "id": "9ecd9fe7",
   "metadata": {},
   "outputs": [],
   "source": [
    "obj3=class3()"
   ]
  },
  {
   "cell_type": "code",
   "execution_count": 94,
   "id": "ece77785",
   "metadata": {},
   "outputs": [
    {
     "name": "stdout",
     "output_type": "stream",
     "text": [
      "This is class1\n"
     ]
    }
   ],
   "source": [
    "obj3.test1()   #Can access method of class1"
   ]
  },
  {
   "cell_type": "code",
   "execution_count": 95,
   "id": "197633bf",
   "metadata": {},
   "outputs": [
    {
     "name": "stdout",
     "output_type": "stream",
     "text": [
      "This is class2\n"
     ]
    }
   ],
   "source": [
    "obj3.test2()   #Can access method of class2"
   ]
  },
  {
   "cell_type": "markdown",
   "id": "3e1d7436",
   "metadata": {},
   "source": [
    "4).Abstraction"
   ]
  },
  {
   "cell_type": "code",
   "execution_count": 96,
   "id": "56a4bc79",
   "metadata": {},
   "outputs": [],
   "source": [
    "class pwskills:           #Abstract class is a structure that contain methods with a empty body \n",
    "                          #Who will inherit the class will write body of the every abstract method\n",
    "    def student_reg(self):\n",
    "        pass\n",
    "    \n",
    "    def student_assignment(self):\n",
    "        pass\n",
    "    \n",
    "    def student_marks(self):\n",
    "        pass"
   ]
  },
  {
   "cell_type": "code",
   "execution_count": null,
   "id": "057383b8",
   "metadata": {},
   "outputs": [],
   "source": [
    "#How to convert the above class as a abstract class"
   ]
  },
  {
   "cell_type": "code",
   "execution_count": null,
   "id": "747c8a2e",
   "metadata": {},
   "outputs": [],
   "source": [
    "import abc\n",
    "class pwskills:          \n",
    "     \n",
    "      #If we will make every empty method as abstract class will become abstract method automatically \n",
    "    @abc.abstractmethod\n",
    "    def student_reg(self):      #Common attributes for every class that inherites this class\n",
    "        pass\n",
    "    \n",
    "    @abc.abstractmethod\n",
    "    def student_assignment(self):  #It is just a blueprint\n",
    "        pass\n",
    "    \n",
    "    @abc.abstractmethod\n",
    "    def student_marks(self):\n",
    "        pass\n"
   ]
  },
  {
   "cell_type": "code",
   "execution_count": 99,
   "id": "40668274",
   "metadata": {},
   "outputs": [],
   "source": [
    "class data_science:\n",
    "    def student_reg(self):\n",
    "        return \"Details of datascience batch \"\n",
    "    \n",
    "    def student_marks(self):\n",
    "        return \"Details of datascience Assignments\""
   ]
  },
  {
   "cell_type": "code",
   "execution_count": 100,
   "id": "7bf73d01",
   "metadata": {},
   "outputs": [],
   "source": [
    "class web_dev:\n",
    "    def student_reg(self):\n",
    "        return \"Details of web_dev batch \"\n",
    "    \n",
    "    def student_marks(self):\n",
    "        return \"Details of web_dev Assignments\""
   ]
  },
  {
   "cell_type": "code",
   "execution_count": 101,
   "id": "ceee127a",
   "metadata": {},
   "outputs": [],
   "source": [
    "obj_ds=data_science()"
   ]
  },
  {
   "cell_type": "code",
   "execution_count": 103,
   "id": "658a57fd",
   "metadata": {},
   "outputs": [],
   "source": [
    "obj_wd=web_dev()"
   ]
  },
  {
   "cell_type": "code",
   "execution_count": 105,
   "id": "31021ad6",
   "metadata": {},
   "outputs": [
    {
     "data": {
      "text/plain": [
       "'Details of datascience batch '"
      ]
     },
     "execution_count": 105,
     "metadata": {},
     "output_type": "execute_result"
    }
   ],
   "source": [
    "obj_ds.student_reg()"
   ]
  },
  {
   "cell_type": "code",
   "execution_count": 106,
   "id": "d5e72f77",
   "metadata": {},
   "outputs": [
    {
     "data": {
      "text/plain": [
       "'Details of web_dev batch '"
      ]
     },
     "execution_count": 106,
     "metadata": {},
     "output_type": "execute_result"
    }
   ],
   "source": [
    "obj_wd.student_reg()"
   ]
  }
 ],
 "metadata": {
  "kernelspec": {
   "display_name": "Python 3 (ipykernel)",
   "language": "python",
   "name": "python3"
  },
  "language_info": {
   "codemirror_mode": {
    "name": "ipython",
    "version": 3
   },
   "file_extension": ".py",
   "mimetype": "text/x-python",
   "name": "python",
   "nbconvert_exporter": "python",
   "pygments_lexer": "ipython3",
   "version": "3.11.5"
  }
 },
 "nbformat": 4,
 "nbformat_minor": 5
}
