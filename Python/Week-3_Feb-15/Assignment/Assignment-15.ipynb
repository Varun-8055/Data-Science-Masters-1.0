{
 "cells": [
  {
   "cell_type": "markdown",
   "id": "1fa8c637-ff09-443e-86f0-52f573570b6d",
   "metadata": {},
   "source": [
    "Q1. What is multiprocessing in python? Why is it useful?\n",
    "\n",
    "Ans: Multiprocessing refers to running multiple processes simultaneously, which can be incredibly useful for speeding up your code and handling large datasets and tasks. For example, running an operation in parallel can divide a job into several smaller parts that can be processed simultaneously."
   ]
  },
  {
   "cell_type": "markdown",
   "id": "b76666a6-e50a-4057-93f9-f2022867c7f2",
   "metadata": {},
   "source": [
    "Q2. What are the differences between multiprocessing and multithreading?\n",
    "\n",
    "Ans: \n",
    "\n",
    "multithreading refers to the ability of a processor to execute multiple threads concurrently, where each thread runs a process.  \n",
    "\n",
    "multiprocessing refers to the ability of a system to run multiple processors in parallel, where each processor can run one or more threads."
   ]
  },
  {
   "cell_type": "markdown",
   "id": "67aabae4-a0ca-42dd-a5e6-49baaadc8f2a",
   "metadata": {},
   "source": [
    "Q3. Write a python code to create a process using the multiprocessing module."
   ]
  },
  {
   "cell_type": "code",
   "execution_count": 2,
   "id": "692797c1-76f8-414f-9713-bae9f4c79a26",
   "metadata": {},
   "outputs": [
    {
     "name": "stdout",
     "output_type": "stream",
     "text": [
      "This is my main program\n",
      "This is my multiprocessing program \n"
     ]
    }
   ],
   "source": [
    "import multiprocessing\n",
    "def test1():\n",
    "    print(\"This is my multiprocessing program \")\n",
    "    \n",
    "if __name__=='__main__':\n",
    "    m=multiprocessing.Process(target=test1)\n",
    "    print(\"This is my main program\")\n",
    "    #Run another program inside the main program:This is multiprocessing\n",
    "    #It will split main program into child program\n",
    "    m.start()    #this will start a child process\n",
    "    m.join()     #This will wait for end of the program"
   ]
  },
  {
   "cell_type": "markdown",
   "id": "8a9c2813-3620-4bdb-bba2-cd2465fc5543",
   "metadata": {},
   "source": [
    "Q4. What is a multiprocessing pool in python? Why is it used?\n",
    "\n",
    "Ans:Python multiprocessing Pool can be used for parallel execution of a function across multiple input values, distributing the input data across processes (data parallelism)"
   ]
  },
  {
   "cell_type": "markdown",
   "id": "81ec211a-e1cc-443e-9970-b771d54fe2b6",
   "metadata": {},
   "source": [
    "Q5. How can we create a pool of worker processes in python using the multiprocessing module?"
   ]
  },
  {
   "cell_type": "code",
   "execution_count": 3,
   "id": "f2dad14c-f47d-493f-ab1f-31064201bff1",
   "metadata": {},
   "outputs": [
    {
     "name": "stdout",
     "output_type": "stream",
     "text": [
      "[9, 16, 9, 49, 64, 81, 1, 4, 6400]\n"
     ]
    }
   ],
   "source": [
    "def square(n):   #Outside program\n",
    "    return n**2\n",
    "#run inside multiprocessing\n",
    "if __name__=='__main__':\n",
    "    #Whatever data we will give it to insert it  allocate 5 different processes\n",
    "    #and then parallely executes evey process accumulate the result and return it\n",
    "     with multiprocessing.Pool(processes=2) as pool:\n",
    "        out=pool.map(square,[3,4,3,7,8,9,1,2,80]) #map with function and list and return square of it\n",
    "        print(out)"
   ]
  },
  {
   "cell_type": "markdown",
   "id": "4598a03e-7fa1-42ec-b95e-b9eb35a9d968",
   "metadata": {},
   "source": [
    "Q6. Write a python program to create 4 processes, each process should print a different number using the\n",
    "multiprocessing module in python."
   ]
  },
  {
   "cell_type": "code",
   "execution_count": 6,
   "id": "b0c7285e-2662-4970-909d-24bf503e23aa",
   "metadata": {},
   "outputs": [
    {
     "name": "stdout",
     "output_type": "stream",
     "text": [
      "[1.5, 2.0, 1.5, 3.5, 4.0, 4.5, 0.5, 1.0, 40.0]\n"
     ]
    }
   ],
   "source": [
    "def square(n):   #Outside program\n",
    "    return n/2\n",
    "#run inside multiprocessing\n",
    "if __name__=='__main__':\n",
    "    #Whatever data we will give it to insert it  allocate 5 different processes\n",
    "    #and then parallely executes evey process accumulate the result and return it\n",
    "     with multiprocessing.Pool(processes=4) as pool:\n",
    "        out=pool.map(square,[3,4,3,7,8,9,1,2,80]) #map with function and list and return square of it\n",
    "        print(out)"
   ]
  }
 ],
 "metadata": {
  "kernelspec": {
   "display_name": "Python 3 (ipykernel)",
   "language": "python",
   "name": "python3"
  },
  "language_info": {
   "codemirror_mode": {
    "name": "ipython",
    "version": 3
   },
   "file_extension": ".py",
   "mimetype": "text/x-python",
   "name": "python",
   "nbconvert_exporter": "python",
   "pygments_lexer": "ipython3",
   "version": "3.10.8"
  }
 },
 "nbformat": 4,
 "nbformat_minor": 5
}
