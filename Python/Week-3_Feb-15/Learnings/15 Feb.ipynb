{
 "cells": [
  {
   "cell_type": "markdown",
   "id": "6b06c80a",
   "metadata": {},
   "source": [
    "<H4>Multiprocessing"
   ]
  },
  {
   "cell_type": "markdown",
   "id": "eb5f0a54",
   "metadata": {},
   "source": [
    "Suppose i have quad core sytem (octa core for 8,dual core for 2)\n",
    "In a single core we runs multiple instances of a program (one instance finish then only other instance will run)\n",
    "\n",
    "So either we can let first instance to finish or we will perform context switching(default feature of os)\n",
    "\n",
    "The idea of multiprocessing is we can run 4 different program in 4 different processor simultaneously\n",
    "\n",
    "This multiprocessing reduces latency of the particular program(instances are running on easy way) and if ther is any shared resources between 2 processes we can also utilize it "
   ]
  },
  {
   "cell_type": "code",
   "execution_count": 2,
   "id": "9ba38379",
   "metadata": {},
   "outputs": [],
   "source": [
    "import multiprocessing"
   ]
  },
  {
   "cell_type": "code",
   "execution_count": 2,
   "id": "56624480",
   "metadata": {},
   "outputs": [],
   "source": [
    "def test():\n",
    "    print(\"This is my multiprocessing program \")"
   ]
  },
  {
   "cell_type": "code",
   "execution_count": 3,
   "id": "f5b3e8ad",
   "metadata": {},
   "outputs": [
    {
     "name": "stdout",
     "output_type": "stream",
     "text": [
      "This is my multiprocessing program \n"
     ]
    }
   ],
   "source": [
    "test()   #We can run this program separately"
   ]
  },
  {
   "cell_type": "code",
   "execution_count": null,
   "id": "a3c14840",
   "metadata": {},
   "outputs": [],
   "source": [
    "#But if we have to run this program with some other program .How to do this?\n",
    "#create python main method :This main method is responsible for executing everything in my compiler"
   ]
  },
  {
   "cell_type": "code",
   "execution_count": 4,
   "id": "d8cd1888",
   "metadata": {},
   "outputs": [],
   "source": []
  },
  {
   "cell_type": "code",
   "execution_count": 9,
   "id": "85dae175",
   "metadata": {},
   "outputs": [
    {
     "name": "stdout",
     "output_type": "stream",
     "text": [
      "This is my main program\n"
     ]
    }
   ],
   "source": [
    "def test1():\n",
    "    print(\"This is my multiprocessing program \")\n",
    "    \n",
    "if __name__=='__main__':\n",
    "    m=multiprocessing.Process(target=test1)\n",
    "    print(\"This is my main program\")\n",
    "    #Run another program inside the main program:This is multiprocessing\n",
    "    #It will split main program into child program\n",
    "    m.start()    #this will start a child process\n",
    "    m.join()     #This will wait for end of the program\n",
    "#The child will use some resources in terms of cpu and memory join will wait and then free resources"
   ]
  },
  {
   "cell_type": "code",
   "execution_count": 10,
   "id": "b0d4104a",
   "metadata": {},
   "outputs": [
    {
     "name": "stdout",
     "output_type": "stream",
     "text": [
      "This is my multiprocessing program \n"
     ]
    }
   ],
   "source": [
    "test1()"
   ]
  },
  {
   "cell_type": "code",
   "execution_count": null,
   "id": "c8ea6e5a",
   "metadata": {},
   "outputs": [],
   "source": [
    "def square(n):   #Outside program\n",
    "    return n**2\n",
    "#run inside multiprocessing\n",
    "if __name__=='__main__':\n",
    "    #Whatever data we will give it to insert it  allocate 5 different processes\n",
    "    #and then parallely executes evey process accumulate the result and return it\n",
    "     with multiprocessing.Pool(processes=2) as pool:\n",
    "        out=pool.map(square,[3,4,3,7,8,9,1,2,80]) #map with function and list and return square of it\n",
    "        print(out)"
   ]
  },
  {
   "cell_type": "code",
   "execution_count": null,
   "id": "bc8797ae",
   "metadata": {},
   "outputs": [],
   "source": [
    "#Create two function one for extracting a data and for sending the data"
   ]
  },
  {
   "cell_type": "code",
   "execution_count": 8,
   "id": "b12ccc16",
   "metadata": {},
   "outputs": [],
   "source": [
    "import multiprocessing\n",
    "def producer(q):\n",
    "    for i in [\"Deepa\",\"Gupta\",\"Aman\",\"Sachin\",\"Parkavi\"]:\n",
    "        q.put(i)    #Start putting data into the queue\n",
    "    \n",
    "def consume(q):\n",
    "    while(True):\n",
    "        item=q.get()\n",
    "        if item is None:\n",
    "            break\n",
    "        print(item)\n",
    "        \n",
    "if __name__=='__main__':\n",
    "    queue=multiprocessing.Queue()   #Create queue data structure\n",
    "    m1=multiprocessing.Process(target=producer,args=(queue,))\n",
    "    m2=multiprocessing.Process(target=consume,args=(queue,))  \n",
    "    m1.start()\n",
    "    m2.start()\n",
    "    queue.put(\"xyz\")\n",
    "    m1.join()\n",
    "    m2.join()"
   ]
  },
  {
   "cell_type": "code",
   "execution_count": 7,
   "id": "f6e5577f",
   "metadata": {},
   "outputs": [
    {
     "name": "stdout",
     "output_type": "stream",
     "text": [
      "[2, 3, 4, 2, 4, 5, 6, 7, 8, 8, 6, 5]\n"
     ]
    }
   ],
   "source": [
    "import multiprocessing\n",
    "\n",
    "def square(index,value):\n",
    "    value[index]=value[index]**2\n",
    "    \n",
    "if __name__=='__main__':  #Return a synchronized shared array\n",
    "    arr=multiprocessing.Array('i',[2,3,4,2,4,5,6,7,8,8,6,5])\n",
    "    process=[]\n",
    "    for i in range(10):\n",
    "        m=multiprocessing.Process(target=square,args=(i,arr))\n",
    "        process.append(m)\n",
    "        m.start()\n",
    "    for m in process:\n",
    "        m.join()\n",
    "    print(list(arr))"
   ]
  },
  {
   "cell_type": "code",
   "execution_count": null,
   "id": "793c402a",
   "metadata": {},
   "outputs": [],
   "source": [
    "#Example of pipe\n",
    "#The one way or two way communication is happens using pipe(pipe opens 2 way communication)"
   ]
  },
  {
   "cell_type": "code",
   "execution_count": 10,
   "id": "465db0a8",
   "metadata": {},
   "outputs": [],
   "source": [
    "import multiprocessing\n",
    "def sender(conn,msg):\n",
    "    for i in msg:\n",
    "        conn.send(i)\n",
    "    conn.close()\n",
    "    \n",
    "def receiver(conn):\n",
    "    while(true):\n",
    "        try:\n",
    "            msg=conn.recv()\n",
    "        except Exception as e:\n",
    "            print(e)\n",
    "            break\n",
    "        print(msg)\n",
    "        \n",
    "if __name__=='__main__':\n",
    "    msg=[\"My name is Deepa\",\"This is my message\",\"I'm preparing for placements\",\"Preparing for data scientist job\"]\n",
    "    parent_conn,child_conn=multiprocessing.Pipe()\n",
    "    m1=multiprocessing.Process(target=sender,args=(child_conn,msg)) \n",
    "    m2=multiprocessing.Process(target=receiver,args=(parent_conn,))\n",
    "    m1.start()\n",
    "    m2.start()\n",
    "    m1.join()\n",
    "    child_conn.close()\n",
    "    m2.join()\n",
    "    parent_conn.close()\n",
    "    "
   ]
  }
 ],
 "metadata": {
  "kernelspec": {
   "display_name": "Python 3 (ipykernel)",
   "language": "python",
   "name": "python3"
  },
  "language_info": {
   "codemirror_mode": {
    "name": "ipython",
    "version": 3
   },
   "file_extension": ".py",
   "mimetype": "text/x-python",
   "name": "python",
   "nbconvert_exporter": "python",
   "pygments_lexer": "ipython3",
   "version": "3.11.0"
  }
 },
 "nbformat": 4,
 "nbformat_minor": 5
}
