{
 "cells": [
  {
   "cell_type": "markdown",
   "id": "b4a3fadc",
   "metadata": {},
   "source": [
    "In a quad core computer there are 4 core\n",
    "Suppose we have to run one program multiple times in the same core\n",
    "multithreading comes into picture :we are storing all rsources in particular core an then try to execute it one by one or parallelly"
   ]
  },
  {
   "cell_type": "code",
   "execution_count": 1,
   "id": "f87bfd73",
   "metadata": {},
   "outputs": [],
   "source": [
    "import threading"
   ]
  },
  {
   "cell_type": "code",
   "execution_count": 13,
   "id": "ec3acc86",
   "metadata": {},
   "outputs": [],
   "source": [
    "def test(id):\n",
    "    print(\"This is my test id %d\\n\"%id)"
   ]
  },
  {
   "cell_type": "code",
   "execution_count": 14,
   "id": "76c3293a",
   "metadata": {},
   "outputs": [
    {
     "name": "stdout",
     "output_type": "stream",
     "text": [
      "This is my test id 10\n",
      "\n"
     ]
    }
   ],
   "source": [
    "test(10)"
   ]
  },
  {
   "cell_type": "code",
   "execution_count": 15,
   "id": "9896ec30",
   "metadata": {},
   "outputs": [
    {
     "name": "stdout",
     "output_type": "stream",
     "text": [
      "This is my test id 5\n",
      "\n"
     ]
    }
   ],
   "source": [
    "test(5)"
   ]
  },
  {
   "cell_type": "code",
   "execution_count": 16,
   "id": "b8e9acce",
   "metadata": {},
   "outputs": [
    {
     "name": "stdout",
     "output_type": "stream",
     "text": [
      "This is my test id 6\n",
      "\n"
     ]
    }
   ],
   "source": [
    "test(6)"
   ]
  },
  {
   "cell_type": "code",
   "execution_count": null,
   "id": "a2f14c1d",
   "metadata": {},
   "outputs": [],
   "source": [
    "#we are running 3 program one after another\n",
    "#If we have to run all these 3 program at simultanously .how to do that?"
   ]
  },
  {
   "cell_type": "code",
   "execution_count": 21,
   "id": "8ae9ca92",
   "metadata": {},
   "outputs": [],
   "source": [
    "thred=[threading.Thread(target=test,args=(i,)) for i in [10,1,3]]"
   ]
  },
  {
   "cell_type": "code",
   "execution_count": 22,
   "id": "38bb1df8",
   "metadata": {},
   "outputs": [
    {
     "data": {
      "text/plain": [
       "[<Thread(Thread-11 (test), initial)>,\n",
       " <Thread(Thread-12 (test), initial)>,\n",
       " <Thread(Thread-13 (test), initial)>]"
      ]
     },
     "execution_count": 22,
     "metadata": {},
     "output_type": "execute_result"
    }
   ],
   "source": [
    "thred   #In a single core 3 thread is created"
   ]
  },
  {
   "cell_type": "code",
   "execution_count": 23,
   "id": "4d23c7b1",
   "metadata": {},
   "outputs": [
    {
     "name": "stdout",
     "output_type": "stream",
     "text": [
      "This is my test id 10\n",
      "\n",
      "This is my test id 1\n",
      "\n",
      "This is my test id 3\n",
      "\n"
     ]
    }
   ],
   "source": [
    "for i in thred:   #Thread can only be started once\n",
    "    i.start()"
   ]
  },
  {
   "cell_type": "code",
   "execution_count": null,
   "id": "58640e9a",
   "metadata": {},
   "outputs": [],
   "source": [
    "#Write a program that will fetch the data from 3 links  (3 links contains dataset)\n",
    "#And then store the data inside the file "
   ]
  },
  {
   "cell_type": "code",
   "execution_count": 24,
   "id": "4da247dd",
   "metadata": {},
   "outputs": [],
   "source": [
    "import urllib.request      #it will request the data from the links and then we wil store it "
   ]
  },
  {
   "cell_type": "code",
   "execution_count": 25,
   "id": "cc8ce532",
   "metadata": {},
   "outputs": [],
   "source": [
    "def file_download(url,filename):        #url= from where we get the data, filename=where we store data\n",
    "    urllib.request.urlretrieve(url,filename)"
   ]
  },
  {
   "cell_type": "code",
   "execution_count": 27,
   "id": "3dbe622e",
   "metadata": {},
   "outputs": [],
   "source": [
    "file_download(\"https://raw.githubusercontent.com/itsfoss/text-files/master/agatha.txt\",\"test2.txt\")"
   ]
  },
  {
   "cell_type": "code",
   "execution_count": null,
   "id": "32af4843",
   "metadata": {},
   "outputs": [],
   "source": [
    "#Do this link download 3 times"
   ]
  },
  {
   "cell_type": "code",
   "execution_count": 28,
   "id": "4ef5cd56",
   "metadata": {},
   "outputs": [],
   "source": [
    "url_list=[\"https://raw.githubusercontent.com/itsfoss/text-files/master/agatha.txt\",\"https://raw.githubusercontent.com/itsfoss/text-files/master/sherlock.txt\",\"https://raw.githubusercontent.com/itsfoss/text-files/master/sample_log_file.txt\"]"
   ]
  },
  {
   "cell_type": "code",
   "execution_count": 29,
   "id": "90c4826a",
   "metadata": {},
   "outputs": [
    {
     "data": {
      "text/plain": [
       "['https://raw.githubusercontent.com/itsfoss/text-files/master/agatha.txt',\n",
       " 'https://raw.githubusercontent.com/itsfoss/text-files/master/sherlock.txt',\n",
       " 'https://raw.githubusercontent.com/itsfoss/text-files/master/sample_log_file.txt']"
      ]
     },
     "execution_count": 29,
     "metadata": {},
     "output_type": "execute_result"
    }
   ],
   "source": [
    "url_list      #Url list is ready"
   ]
  },
  {
   "cell_type": "code",
   "execution_count": 30,
   "id": "673932c4",
   "metadata": {},
   "outputs": [],
   "source": [
    "data_file_list=[\"data1.txt\",\"data2.txt\",\"data3.txt\"]"
   ]
  },
  {
   "cell_type": "code",
   "execution_count": 31,
   "id": "155430aa",
   "metadata": {},
   "outputs": [
    {
     "data": {
      "text/plain": [
       "['data1.txt', 'data2.txt', 'data3.txt']"
      ]
     },
     "execution_count": 31,
     "metadata": {},
     "output_type": "execute_result"
    }
   ],
   "source": [
    "data_file_list    #File list is ready"
   ]
  },
  {
   "cell_type": "code",
   "execution_count": 33,
   "id": "1454afe6",
   "metadata": {},
   "outputs": [],
   "source": [
    "thread1=[threading.Thread(target=file_download,args=(url_list[i],data_file_list[i])) for i in range(len(url_list))]"
   ]
  },
  {
   "cell_type": "code",
   "execution_count": 34,
   "id": "4246d781",
   "metadata": {},
   "outputs": [
    {
     "data": {
      "text/plain": [
       "[<Thread(Thread-14 (file_download), initial)>,\n",
       " <Thread(Thread-15 (file_download), initial)>,\n",
       " <Thread(Thread-16 (file_download), initial)>]"
      ]
     },
     "execution_count": 34,
     "metadata": {},
     "output_type": "execute_result"
    }
   ],
   "source": [
    "thread1"
   ]
  },
  {
   "cell_type": "code",
   "execution_count": 35,
   "id": "f1e4ed69",
   "metadata": {},
   "outputs": [],
   "source": [
    "#we are not calling file_download function 3 times we are just creating thread and \n",
    "#it will produce data of 3 different links in 3 different file\n",
    "for i in thread1:  \n",
    "    i.start()  "
   ]
  },
  {
   "cell_type": "code",
   "execution_count": 36,
   "id": "1e9e9dca",
   "metadata": {},
   "outputs": [],
   "source": [
    "#Another Example\n",
    "import time"
   ]
  },
  {
   "cell_type": "code",
   "execution_count": 40,
   "id": "7fbcbf55",
   "metadata": {},
   "outputs": [],
   "source": [
    "def test2(x):\n",
    "    for i in range(10):\n",
    "        print(\"The value of x is %d and the value of i is %d \"%(x,i))\n",
    "        time.sleep(1)   #after every iteration it will sleep for 1 sec"
   ]
  },
  {
   "cell_type": "code",
   "execution_count": 41,
   "id": "4f19e27b",
   "metadata": {},
   "outputs": [
    {
     "name": "stdout",
     "output_type": "stream",
     "text": [
      "The value of x is 5 and the value of i is 0 \n",
      "The value of x is 5 and the value of i is 1 \n",
      "The value of x is 5 and the value of i is 2 \n",
      "The value of x is 5 and the value of i is 3 \n",
      "The value of x is 5 and the value of i is 4 \n",
      "The value of x is 5 and the value of i is 5 \n",
      "The value of x is 5 and the value of i is 6 \n",
      "The value of x is 5 and the value of i is 7 \n",
      "The value of x is 5 and the value of i is 8 \n",
      "The value of x is 5 and the value of i is 9 \n"
     ]
    }
   ],
   "source": [
    "test2(5)"
   ]
  },
  {
   "cell_type": "code",
   "execution_count": null,
   "id": "23bf1cb0",
   "metadata": {},
   "outputs": [],
   "source": [
    "#Print the same function for different different argument "
   ]
  },
  {
   "cell_type": "code",
   "execution_count": 45,
   "id": "e133e0c2",
   "metadata": {},
   "outputs": [],
   "source": [
    "thread2=[threading.Thread(target=test2,args=(i,)) for i in [100,34,53,6]]"
   ]
  },
  {
   "cell_type": "code",
   "execution_count": 46,
   "id": "84a32b35",
   "metadata": {},
   "outputs": [
    {
     "data": {
      "text/plain": [
       "[<Thread(Thread-21 (test2), initial)>,\n",
       " <Thread(Thread-22 (test2), initial)>,\n",
       " <Thread(Thread-23 (test2), initial)>,\n",
       " <Thread(Thread-24 (test2), initial)>]"
      ]
     },
     "execution_count": 46,
     "metadata": {},
     "output_type": "execute_result"
    }
   ],
   "source": [
    "thread2"
   ]
  },
  {
   "cell_type": "code",
   "execution_count": 47,
   "id": "8a76659b",
   "metadata": {},
   "outputs": [
    {
     "name": "stdout",
     "output_type": "stream",
     "text": [
      "The value of x is 100 and the value of i is 0 \n",
      "The value of x is 34 and the value of i is 0 \n",
      "The value of x is 53 and the value of i is 0 \n",
      "The value of x is 6 and the value of i is 0 \n",
      "The value of x is 100 and the value of i is 1 \n",
      "The value of x is 34 and the value of i is 1 \n",
      "The value of x is 53 and the value of i is 1 \n",
      "The value of x is 6 and the value of i is 1 \n",
      "The value of x is 100 and the value of i is 2 \n",
      "The value of x is 34 and the value of i is 2 \n",
      "The value of x is 53 and the value of i is 2 \n",
      "The value of x is 6 and the value of i is 2 \n",
      "The value of x is 100 and the value of i is 3 \n",
      "The value of x is 34 and the value of i is 3 \n",
      "The value of x is 53 and the value of i is 3 \n",
      "The value of x is 6 and the value of i is 3 \n",
      "The value of x is 100 and the value of i is 4 \n",
      "The value of x is 53 and the value of i is 4 \n",
      "The value of x is 34 and the value of i is 4 \n",
      "The value of x is 6 and the value of i is 4 \n",
      "The value of x is 100 and the value of i is 5 \n",
      "The value of x is 34 and the value of i is 5 \n",
      "The value of x is 53 and the value of i is 5 \n",
      "The value of x is 6 and the value of i is 5 \n",
      "The value of x is 100 and the value of i is 6 \n",
      "The value of x is 53 and the value of i is 6 \n",
      "The value of x is 34 and the value of i is 6 \n",
      "The value of x is 6 and the value of i is 6 \n",
      "The value of x is 53 and the value of i is 7 The value of x is 6 and the value of i is 7 \n",
      "The value of x is 100 and the value of i is 7 \n",
      "The value of x is 34 and the value of i is 7 \n",
      "\n",
      "The value of x is 34 and the value of i is 8 The value of x is 100 and the value of i is 8 \n",
      "The value of x is 6 and the value of i is 8 \n",
      "The value of x is 53 and the value of i is 8 \n",
      "\n",
      "The value of x is 100 and the value of i is 9 The value of x is 6 and the value of i is 9 \n",
      "The value of x is 53 and the value of i is 9 \n",
      "The value of x is 34 and the value of i is 9 \n",
      "\n"
     ]
    }
   ],
   "source": [
    "for i in thread2:\n",
    "    i.start()\n",
    "#Here all 4 program is running for first iteration simulataneously (not completing one program first)\n",
    "#and wait for some time so that other can also avail the opportunity (other can occupy the resources)\n",
    "#All resources lie on single core and we have threads\n",
    "#So all 4 threads tries to occupy the resources one by one in a manner\n",
    "\n",
    "#If we don,t add sleep for some time then only process will run at a time when it finishes only after \n",
    "#other process will execute"
   ]
  },
  {
   "cell_type": "code",
   "execution_count": 48,
   "id": "8db2a43c",
   "metadata": {},
   "outputs": [
    {
     "data": {
      "text/plain": [
       "[<Thread(Thread-21 (test2), stopped 23700)>,\n",
       " <Thread(Thread-22 (test2), stopped 17476)>,\n",
       " <Thread(Thread-23 (test2), stopped 24128)>,\n",
       " <Thread(Thread-24 (test2), stopped 16212)>]"
      ]
     },
     "execution_count": 48,
     "metadata": {},
     "output_type": "execute_result"
    }
   ],
   "source": [
    "thread2"
   ]
  },
  {
   "cell_type": "code",
   "execution_count": null,
   "id": "2e5a9afc",
   "metadata": {},
   "outputs": [],
   "source": [
    "#Another Example"
   ]
  },
  {
   "cell_type": "code",
   "execution_count": 49,
   "id": "78360a32",
   "metadata": {},
   "outputs": [],
   "source": [
    "#We will call multiple prograam and we have to update this shared_variable every time\n",
    "shared_variable=0\n",
    "#This lock_var will do lock on the resources(means when one is using resouces no else can use it)\n",
    "lock_variable=threading.Lock()   \n",
    "def test3(x):\n",
    "    global shared_variable    #Make this key global(Every program can update that)\n",
    "    with lock_variable:\n",
    "        shared_variable=shared_variable+1\n",
    "        print(\"The value of x is %d and the value of shared_var is %d\"%(x,shared_variable))\n",
    "        time.sleep(1)"
   ]
  },
  {
   "cell_type": "code",
   "execution_count": null,
   "id": "5cbc5e97",
   "metadata": {},
   "outputs": [],
   "source": [
    "#This function is ready :whenever we call the function it will increase the value of shared variable"
   ]
  },
  {
   "cell_type": "code",
   "execution_count": 51,
   "id": "626d8f2d",
   "metadata": {},
   "outputs": [
    {
     "name": "stdout",
     "output_type": "stream",
     "text": [
      "The value of x is 5 and the value of shared_var is 1\n"
     ]
    }
   ],
   "source": [
    "test3(5)"
   ]
  },
  {
   "cell_type": "code",
   "execution_count": 52,
   "id": "95ec1d9e",
   "metadata": {},
   "outputs": [
    {
     "name": "stdout",
     "output_type": "stream",
     "text": [
      "The value of x is 5 and the value of shared_var is 2\n"
     ]
    }
   ],
   "source": [
    "test3(5)"
   ]
  },
  {
   "cell_type": "code",
   "execution_count": 54,
   "id": "9307644c",
   "metadata": {},
   "outputs": [
    {
     "name": "stdout",
     "output_type": "stream",
     "text": [
      "The value of x is 34 and the value of shared_var is 3\n"
     ]
    }
   ],
   "source": [
    "test3(34)"
   ]
  },
  {
   "cell_type": "code",
   "execution_count": 58,
   "id": "1b196825",
   "metadata": {},
   "outputs": [],
   "source": [
    "#Now call program simultaneously\n",
    "thread4=[threading.Thread(target=test3,args=(i,)) for i in [1,3,4,2,5,3,5]]"
   ]
  },
  {
   "cell_type": "code",
   "execution_count": 59,
   "id": "ca6fc9d5",
   "metadata": {},
   "outputs": [
    {
     "data": {
      "text/plain": [
       "[<Thread(Thread-32 (test3), initial)>,\n",
       " <Thread(Thread-33 (test3), initial)>,\n",
       " <Thread(Thread-34 (test3), initial)>,\n",
       " <Thread(Thread-35 (test3), initial)>,\n",
       " <Thread(Thread-36 (test3), initial)>,\n",
       " <Thread(Thread-37 (test3), initial)>,\n",
       " <Thread(Thread-38 (test3), initial)>]"
      ]
     },
     "execution_count": 59,
     "metadata": {},
     "output_type": "execute_result"
    }
   ],
   "source": [
    "thread4"
   ]
  },
  {
   "cell_type": "code",
   "execution_count": 60,
   "id": "df7865f4",
   "metadata": {},
   "outputs": [
    {
     "name": "stdout",
     "output_type": "stream",
     "text": [
      "The value of x is 1 and the value of shared_var is 4\n",
      "The value of x is 3 and the value of shared_var is 5\n",
      "The value of x is 4 and the value of shared_var is 6\n",
      "The value of x is 2 and the value of shared_var is 7\n",
      "The value of x is 5 and the value of shared_var is 8\n",
      "The value of x is 3 and the value of shared_var is 9\n",
      "The value of x is 5 and the value of shared_var is 10\n"
     ]
    }
   ],
   "source": [
    "for i in thread4:\n",
    "    i.start()"
   ]
  }
 ],
 "metadata": {
  "kernelspec": {
   "display_name": "Python 3 (ipykernel)",
   "language": "python",
   "name": "python3"
  },
  "language_info": {
   "codemirror_mode": {
    "name": "ipython",
    "version": 3
   },
   "file_extension": ".py",
   "mimetype": "text/x-python",
   "name": "python",
   "nbconvert_exporter": "python",
   "pygments_lexer": "ipython3",
   "version": "3.11.0"
  }
 },
 "nbformat": 4,
 "nbformat_minor": 5
}
