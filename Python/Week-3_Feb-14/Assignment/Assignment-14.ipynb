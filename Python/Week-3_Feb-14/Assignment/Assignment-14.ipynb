{
 "cells": [
  {
   "cell_type": "markdown",
   "id": "789daa23-aa8e-4e26-aca6-bdc067aaff88",
   "metadata": {},
   "source": [
    "1). What is multithreading in python? Why is it used? Name the module used to handle threads in python\n",
    "\n",
    "Ans: Multithreading is defined as the ability of a processor to execute multiple threads concurrently. In a simple, single-core CPU, it is achieved using frequent switching between threads. This is termed context switching.\n",
    "\n",
    "Multitasking is a computer's ability to execute two or more concurrent programs. Multithreading makes multitasking possible when it breaks programs into smaller, executable threads. Each thread has the programming elements needed to execute the main program, and the computer executes each thread one at a time.\n",
    "\n",
    "Threading Modules. The threading module is a high-level implementation of multithreading used to deploy an application in Python. To use multithreading, we need to import the threading module in Python Program."
   ]
  },
  {
   "cell_type": "markdown",
   "id": "d0a8d294-9de2-4526-b77f-bcf15f3e2ede",
   "metadata": {},
   "source": [
    "2). Why threading module used? Write the use of the following functions\n",
    "\n",
    " activeCount()\n",
    " \n",
    " currentThread()\n",
    " \n",
    " enumerate()\n",
    " \n",
    " Ans: Threading Modules. The threading module is a high-level implementation of multithreading used to deploy an application in Python.\n",
    " \n",
    " <B>Activecount() </B>:The activeCount() method of thread class is used to return the number of active threads in the current thread's thread group. The value returned is only an estimate because the number of threads may change dynamically while this method traverses internal data structures.\n",
    " \n",
    " <B>CurrentThread()</B>: The currentThread() method of thread class is used to return a reference to the currently executing thread object.\n",
    " \n",
    " <B>Enumerate</B>: The enumerate() method of thread class is used to copy every active thread's thread group and its subgroup into the specified array. "
   ]
  },
  {
   "cell_type": "markdown",
   "id": "3872223a-2251-437d-894b-a5c5bfc2dbb1",
   "metadata": {},
   "source": [
    "3. Explain the following functions\n",
    "\n",
    " run()\n",
    " \n",
    " start()\n",
    " \n",
    " join()\n",
    " \n",
    " isAlive()\n",
    " \n",
    " Ans: <b> run()</b>:run() method executes any target function belonging to a given thread object that is now active. It normally executes in the background after the . start() method is invoked.\n",
    " \n",
    " <b>start()</b>:A start() method is used to initiate the activity of a thread. And it calls only once for each thread so that the execution of the thread can begin. \n",
    " \n",
    " <b>join()</b>:On invoking the join() method, the calling thread gets blocked until the thread object (on which the thread is called) gets terminated.We can also specify a timeout value to the join() method.\n",
    " \n",
    " <b>isAlive()</b>:The . is_alive() method returns True if the thread is still running and False , otherwise."
   ]
  },
  {
   "cell_type": "markdown",
   "id": "33988aef-61ef-4842-97ca-c6c89afa99be",
   "metadata": {},
   "source": [
    "4. Write a python program to create two threads. Thread one must print the list of squares and thread\n",
    "two must print the list of cubes"
   ]
  },
  {
   "cell_type": "code",
   "execution_count": 10,
   "id": "749493be-e8dc-46a5-a898-2c98d756dcd6",
   "metadata": {},
   "outputs": [
    {
     "name": "stdout",
     "output_type": "stream",
     "text": [
      "Square: 100\n",
      "Square: 400\n",
      "Square: 900\n",
      "Square: 25\n",
      "Square: 64\n",
      "Square: 16\n",
      "Square: 4\n",
      "Cube: 1000\n",
      "Cube: 8000\n",
      "Cube: 27000\n",
      "Cube: 125\n",
      "Cube: 512\n",
      "Cube: 64\n",
      "Cube: 8\n",
      "Done!\n"
     ]
    }
   ],
   "source": [
    "# importing the threading module\n",
    "import threading\n",
    "\n",
    "\n",
    "def print_cube(num):\n",
    "\t# function to print cube of given num\n",
    "\tprint(\"Cube: {}\" .format(num * num * num))\n",
    "\n",
    "\n",
    "def print_square(num):\n",
    "\t# function to print square of given num\n",
    "\tprint(\"Square: {}\" .format(num * num))\n",
    "\n",
    "\n",
    "if __name__ ==\"__main__\":\n",
    "\t# creating thread\n",
    "\tt1 = [threading.Thread(target=print_square, args=(i,)) for i in [10,20,30,5,8,4,2]]\n",
    "\tt2 = [threading.Thread(target=print_cube, args=(i,))for i in [10,20,30,5,8,4,2]]\n",
    "\n",
    "\t# starting thread 1\n",
    "for i in t1:\n",
    "    i.start()\n",
    "\t# starting thread 2\n",
    "for i in t2:\n",
    "    i.start()\n",
    "\n",
    "\t# both threads completely executed\n",
    "print(\"Done!\")\n"
   ]
  },
  {
   "cell_type": "markdown",
   "id": "7287b390-fcde-43e6-b81c-cae7d8d0efad",
   "metadata": {},
   "source": [
    "5. State advantages and disadvantages of multithreading\n",
    "\n",
    "Ans:\n",
    "<b><u>Advantages:</u><b/>\n",
    "    \n",
    "1) Enhanced performance by decreased development time\n",
    "\n",
    "2) Simplified and streamlined program coding\n",
    "\n",
    "3) Improvised GUI responsiveness\n",
    "\n",
    "4) Simultaneous and parallelized occurrence of tasks\n",
    "\n",
    "5) Better use of cache storage by utilization of resources\n",
    "\n",
    "6) Decreased cost of maintenance\n",
    "\n",
    "7) Better use of CPU resource\n",
    "\n",
    "<b><u>Disadvantages:</u></b>\n",
    "    \n",
    "1) Complex debugging and testing processes\n",
    "    \n",
    "2) Overhead switching of context\n",
    "    \n",
    "3) Increased potential for deadlock occurrence\n",
    "    \n",
    "4) Increased difficulty level in writing a program\n",
    "    \n",
    "5) Unpredictable results   "
   ]
  },
  {
   "cell_type": "markdown",
   "id": "32a2e464-ff57-438c-b559-09486e461d05",
   "metadata": {},
   "source": [
    "6. Explain deadlocks and race conditions.\n",
    "\n",
    "Ans: A <b><u>race condition</u></b> occurs when two threads use the same variable at a given time.\n",
    "\n",
    "<b><u>Deadlock </u></b>exists when two threads seek one lock simultaneously. This situation will stop both threads from processing or executing the functions."
   ]
  }
 ],
 "metadata": {
  "kernelspec": {
   "display_name": "Python 3 (ipykernel)",
   "language": "python",
   "name": "python3"
  },
  "language_info": {
   "codemirror_mode": {
    "name": "ipython",
    "version": 3
   },
   "file_extension": ".py",
   "mimetype": "text/x-python",
   "name": "python",
   "nbconvert_exporter": "python",
   "pygments_lexer": "ipython3",
   "version": "3.10.8"
  }
 },
 "nbformat": 4,
 "nbformat_minor": 5
}
