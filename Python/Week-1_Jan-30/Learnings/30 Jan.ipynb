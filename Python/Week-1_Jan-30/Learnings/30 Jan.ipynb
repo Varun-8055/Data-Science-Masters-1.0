{
 "cells": [
  {
   "cell_type": "code",
   "execution_count": 1,
   "id": "fcfb051c",
   "metadata": {},
   "outputs": [
    {
     "name": "stdout",
     "output_type": "stream",
     "text": [
      "My age is {age}\n"
     ]
    }
   ],
   "source": [
    "#Formatting\n",
    "age=19\n",
    "print(\"My age is {age}\")"
   ]
  },
  {
   "cell_type": "code",
   "execution_count": 2,
   "id": "b43d2add",
   "metadata": {},
   "outputs": [
    {
     "name": "stdout",
     "output_type": "stream",
     "text": [
      "My age is 19\n"
     ]
    }
   ],
   "source": [
    "print(f\"My age is {age}\") # f here is f-string basically used for formatting purpose\n",
    "                          # When we have to write variable inside a print statement without a comma"
   ]
  },
  {
   "cell_type": "code",
   "execution_count": 3,
   "id": "b7fbbab3",
   "metadata": {},
   "outputs": [
    {
     "name": "stdout",
     "output_type": "stream",
     "text": [
      "My name is Deepa and age is 20\n"
     ]
    }
   ],
   "source": [
    "name=\"Deepa\"\n",
    "age=20\n",
    "print(\"My name is {} and age is {}\".format(name,age))"
   ]
  },
  {
   "cell_type": "code",
   "execution_count": 4,
   "id": "cc5bc1f6",
   "metadata": {},
   "outputs": [
    {
     "name": "stdout",
     "output_type": "stream",
     "text": [
      "My name is 20 and age is Deepa\n"
     ]
    }
   ],
   "source": [
    "print(\"My name is {} and age is {}\".format(age,name)) #getting reverse"
   ]
  },
  {
   "cell_type": "code",
   "execution_count": 5,
   "id": "f5f00c4f",
   "metadata": {},
   "outputs": [
    {
     "name": "stdout",
     "output_type": "stream",
     "text": [
      "My name is Deepa and age is 20\n"
     ]
    }
   ],
   "source": [
    "#When we have to write in correct place in format irrespective of the order\n",
    "print(\"My name is {firstname} and age is {firstage}\".format(firstage=age,firstname=name))"
   ]
  },
  {
   "cell_type": "code",
   "execution_count": 6,
   "id": "98a989f3",
   "metadata": {},
   "outputs": [],
   "source": [
    "#Exercise\n",
    "# name=\"Krish naik\"\n",
    "# age=32\n",
    "# degree=BE\n",
    "# My age is 32 and I have completed:my degree of BE with the name of Krish naik"
   ]
  },
  {
   "cell_type": "code",
   "execution_count": 11,
   "id": "3a05344a",
   "metadata": {},
   "outputs": [
    {
     "name": "stdout",
     "output_type": "stream",
     "text": [
      "My age is 32 and i have completed: my degree of BE with the name of Krish naik\n"
     ]
    }
   ],
   "source": [
    "name=\"Krish naik\"\n",
    "age=32\n",
    "degree=\"BE\"\n",
    "print(\"My age is {firstage} and i have completed: my degree of {degreename} with the name of {firstname}\".format(firstage=age,firstname=name,degreename=degree))"
   ]
  },
  {
   "cell_type": "code",
   "execution_count": 14,
   "id": "b8989687",
   "metadata": {},
   "outputs": [
    {
     "name": "stdout",
     "output_type": "stream",
     "text": [
      "My age is 32 and i have completed: my degree of BE with the name of Krish naik\n"
     ]
    }
   ],
   "source": [
    "name=\"Krish naik\"\n",
    "age=32\n",
    "degree=\"BE\"\n",
    "print(\"My age is {} and i have completed: my degree of {} with the name of {}\".format(age,degree,name))"
   ]
  },
  {
   "cell_type": "code",
   "execution_count": 16,
   "id": "46bf30e7",
   "metadata": {},
   "outputs": [
    {
     "name": "stdout",
     "output_type": "stream",
     "text": [
      "My age is 32 and i have completed: my degree of BE with the name of Krish naik\n"
     ]
    }
   ],
   "source": [
    "name=\"Krish naik\"\n",
    "age=32\n",
    "degree=\"BE\"\n",
    "print(f\"My age is {age} and i have completed: my degree of {degree} with the name of {name}\")"
   ]
  },
  {
   "cell_type": "code",
   "execution_count": null,
   "id": "3ce08898",
   "metadata": {},
   "outputs": [],
   "source": []
  },
  {
   "cell_type": "code",
   "execution_count": null,
   "id": "02ba85a0",
   "metadata": {},
   "outputs": [],
   "source": [
    "#Decision making situation"
   ]
  },
  {
   "cell_type": "code",
   "execution_count": 19,
   "id": "b62e1d48",
   "metadata": {},
   "outputs": [
    {
     "name": "stdout",
     "output_type": "stream",
     "text": [
      "You are eligible to vote.\n"
     ]
    }
   ],
   "source": [
    "#if \n",
    "age=19\n",
    "if age>=18:\n",
    "    print(\"You are eligible to vote.\")"
   ]
  },
  {
   "cell_type": "code",
   "execution_count": 20,
   "id": "0023e7c7",
   "metadata": {},
   "outputs": [
    {
     "name": "stdout",
     "output_type": "stream",
     "text": [
      "Enter your name: Deepa Gupta\n"
     ]
    },
    {
     "data": {
      "text/plain": [
       "'Deepa Gupta'"
      ]
     },
     "execution_count": 20,
     "metadata": {},
     "output_type": "execute_result"
    }
   ],
   "source": [
    "#How to take input from user\n",
    "name=input(\"Enter your name: \")\n",
    "name"
   ]
  },
  {
   "cell_type": "code",
   "execution_count": 22,
   "id": "5641a13c",
   "metadata": {},
   "outputs": [
    {
     "name": "stdout",
     "output_type": "stream",
     "text": [
      "Enter your age: 19\n"
     ]
    },
    {
     "data": {
      "text/plain": [
       "19"
      ]
     },
     "execution_count": 22,
     "metadata": {},
     "output_type": "execute_result"
    }
   ],
   "source": [
    "age=int(input(\"Enter your age: \"))\n",
    "age"
   ]
  },
  {
   "cell_type": "code",
   "execution_count": 26,
   "id": "6c7825f3",
   "metadata": {},
   "outputs": [
    {
     "name": "stdout",
     "output_type": "stream",
     "text": [
      "Enter your age:45\n",
      "You are a young blood\n"
     ]
    }
   ],
   "source": [
    "#Exercise\n",
    "#Take input of a age\n",
    "#Check whether the age is >=18 or <=45\n",
    "#Display a message you are a young blood \n",
    "age=int(input(\"Enter your age:\"))\n",
    "if age>=18 and age<=45:\n",
    "    print(\"You are a young blood\")\n"
   ]
  },
  {
   "cell_type": "code",
   "execution_count": 28,
   "id": "2d54cfca",
   "metadata": {},
   "outputs": [
    {
     "name": "stdout",
     "output_type": "stream",
     "text": [
      "Enter your age:56\n",
      "Thank you. We'll let you know\n"
     ]
    }
   ],
   "source": [
    "#if-else\n",
    "age=int(input(\"Enter your age:\"))\n",
    "if age>=18 and age<=45:\n",
    "    print(\"You are a young blood\")\n",
    "else:\n",
    "    print(\"Thank you. We'll let you know\")"
   ]
  },
  {
   "cell_type": "code",
   "execution_count": 44,
   "id": "51d84346",
   "metadata": {},
   "outputs": [
    {
     "name": "stdout",
     "output_type": "stream",
     "text": [
      "Enter the product price in rupees: 2000\n",
      "Price of product is:1600.0\n"
     ]
    }
   ],
   "source": [
    "#Exercise\n",
    "#Went a mall\n",
    "#Take as input of the product price\n",
    "#if the product price is <1000 then 30% off\n",
    "#Print the product price after discount\n",
    "#if the product price is >=1000 then 20% off\n",
    "#Print the product price after discount\n",
    "product_price=int(input(\"Enter the product price in rupees: \"))\n",
    "if (product_price<1000):\n",
    "    #print(\"Price of product is:{}\".format(product_price*0.7))   (one way 100-20=80%)\n",
    "    print(\"Price of product is:{}\".format(product_price-product_price*0.3))  #(other way)\n",
    "else:\n",
    "    #print(\"Price of product is:{}\".format(product_price*0.8))  (one way 100-30=70%)\n",
    "    print(\"Price of product is:{}\".format(product_price-product_price*0.2))   #(other way)"
   ]
  },
  {
   "cell_type": "code",
   "execution_count": 56,
   "id": "04aa60df",
   "metadata": {},
   "outputs": [
    {
     "name": "stdout",
     "output_type": "stream",
     "text": [
      "Enter the product price in rupees: 2999\n",
      "You got  a suit case.\n"
     ]
    }
   ],
   "source": [
    "#Went a mall\n",
    "#Take as input of the product price\n",
    "#if the product price is >=3000 then 20% off\n",
    "#Print the product price after discount\n",
    "#if the product price is <3000 and >=2000 then 30% off\n",
    "#If the product price is 2999 then you will get a special gift\n",
    "#Print the product price after discount\n",
    "#if the product price is <2000 and >=1000 then 40% off\n",
    "#Print the product price after discount\n",
    "product_price=int(input(\"Enter the product price in rupees: \"))\n",
    "if (product_price>=1000 and product_price<2000):\n",
    "    #print(\"Price of product is:{}\".format(product_price*0.6))   (one way 100-20=80%)\n",
    "    print(\"Price of product is:{}\".format(product_price-product_price*0.4))  #(other way)\n",
    "elif(product_price>=2000 and product_price<3000):\n",
    "    #print(\"Price of product is:{}\".format(product_price*0.7))   (one way 100-30=70%)\n",
    "    print(\"Price of product is:{}\".format(product_price-product_price*0.3))  #(other way)\n",
    "else:\n",
    "    #print(\"Price of product is:{}\".format(product_price*0.8))  (one way 100-40=60%)\n",
    "    print(\"Price of product is:{}\".format(product_price-product_price*0.2))   #(other way)"
   ]
  },
  {
   "cell_type": "code",
   "execution_count": 55,
   "id": "22b88157",
   "metadata": {},
   "outputs": [
    {
     "data": {
      "text/plain": [
       "600.0"
      ]
     },
     "execution_count": 55,
     "metadata": {},
     "output_type": "execute_result"
    }
   ],
   "source": [
    "(40/100)*1500"
   ]
  },
  {
   "cell_type": "code",
   "execution_count": 57,
   "id": "a091c639",
   "metadata": {},
   "outputs": [
    {
     "name": "stdout",
     "output_type": "stream",
     "text": [
      "Enter the product price in rupees: 2999\n",
      "Congratulations,you got a suit case.\n",
      "Price of product is:2099.3\n"
     ]
    }
   ],
   "source": [
    "#Nested if\n",
    "product_price=int(input(\"Enter the product price in rupees: \"))\n",
    "if (product_price>=1000 and product_price<2000):\n",
    "    #print(\"Price of product is:{}\".format(product_price*0.6))   (one way 100-20=80%)\n",
    "    print(\"Price of product is:{}\".format(product_price-product_price*0.4))  #(other way)\n",
    "elif(product_price>=2000 and product_price<3000):\n",
    "    if(product_price==2999):\n",
    "        print(\"Congratulations,you got a suit case.\")\n",
    "    #print(\"Price of product is:{}\".format(product_price*0.7))   (one way 100-30=70%)\n",
    "    print(\"Price of product is:{}\".format(product_price-product_price*0.3))  #(other way)\n",
    "else:\n",
    "    #print(\"Price of product is:{}\".format(product_price*0.8))  (one way 100-40=60%)\n",
    "    print(\"Price of product is:{}\".format(product_price-product_price*0.2))   #(other way)\n"
   ]
  },
  {
   "cell_type": "code",
   "execution_count": null,
   "id": "062508d9",
   "metadata": {},
   "outputs": [],
   "source": [
    "#Single statement suits\n",
    "if(product_price==1000):print(\"We can also this if code in one line\")\n",
    "else:\n",
    "    (\"Unlucky\")"
   ]
  },
  {
   "cell_type": "code",
   "execution_count": null,
   "id": "c763b8fb",
   "metadata": {},
   "outputs": [],
   "source": [
    "#Loop statement \n",
    "#while loop\n",
    "#for loop\n",
    "#Do-while loop\n",
    "#nested loop\n",
    "#loop control(break,continue,pass)"
   ]
  },
  {
   "cell_type": "code",
   "execution_count": 59,
   "id": "2b3c836b",
   "metadata": {},
   "outputs": [
    {
     "name": "stdout",
     "output_type": "stream",
     "text": [
      "Current working year 25\n",
      "Current working year 26\n",
      "Current working year 27\n",
      "Current working year 28\n",
      "Current working year 29\n",
      "Current working year 30\n",
      "Current working year 31\n",
      "Current working year 32\n",
      "Current working year 33\n",
      "Current working year 34\n",
      "Current working year 35\n",
      "Current working year 36\n",
      "Current working year 37\n",
      "Current working year 38\n",
      "Current working year 39\n",
      "Current working year 40\n",
      "Current working year 41\n",
      "Current working year 42\n",
      "Current working year 43\n",
      "Current working year 44\n",
      "Current working year 45\n",
      "Current working year 46\n",
      "Current working year 47\n",
      "Current working year 48\n",
      "Current working year 49\n",
      "Current working year 50\n",
      "Current working year 51\n",
      "Current working year 52\n",
      "Current working year 53\n",
      "Current working year 54\n",
      "Current working year 55\n",
      "Current working year 56\n",
      "Current working year 57\n",
      "Current working year 58\n",
      "Current working year 59\n",
      "Current working year 60\n"
     ]
    }
   ],
   "source": [
    "#While loop and while-else\n",
    "joining_age=25\n",
    "while(joining_age<=60):\n",
    "    print(f\"Current working year {joining_age}\")\n",
    "    joining_age=joining_age+1"
   ]
  },
  {
   "cell_type": "code",
   "execution_count": 60,
   "id": "83928763",
   "metadata": {},
   "outputs": [
    {
     "name": "stdout",
     "output_type": "stream",
     "text": [
      "Current working year 25\n",
      "Current working year 26\n",
      "Current working year 27\n",
      "Current working year 28\n",
      "Current working year 29\n",
      "Current working year 30\n",
      "Current working year 31\n",
      "Current working year 32\n",
      "Current working year 33\n",
      "Current working year 34\n",
      "Current working year 35\n",
      "Current working year 36\n",
      "Current working year 37\n",
      "Current working year 38\n",
      "Current working year 39\n",
      "Current working year 40\n",
      "Current working year 41\n",
      "Current working year 42\n",
      "Current working year 43\n",
      "Current working year 44\n",
      "Current working year 45\n",
      "Current working year 46\n",
      "Current working year 47\n",
      "Current working year 48\n",
      "Current working year 49\n",
      "Current working year 50\n",
      "Current working year 51\n",
      "Current working year 52\n",
      "Current working year 53\n",
      "Current working year 54\n",
      "Current working year 55\n",
      "Current working year 56\n",
      "Current working year 57\n",
      "Current working year 58\n",
      "Current working year 59\n",
      "Current working year 60\n",
      "Its Time to retire\n"
     ]
    }
   ],
   "source": [
    "joining_age=25\n",
    "while(joining_age<=60):\n",
    "    print(f\"Current working year {joining_age}\")\n",
    "    joining_age=joining_age+1\n",
    "else:\n",
    "    print(\"Its Time to retire\")"
   ]
  },
  {
   "cell_type": "code",
   "execution_count": 62,
   "id": "0d0c1b33",
   "metadata": {},
   "outputs": [
    {
     "name": "stdout",
     "output_type": "stream",
     "text": [
      "1000\n",
      "900\n",
      "800\n",
      "700\n",
      "600\n",
      "500\n",
      "400\n",
      "300\n",
      "200\n",
      "100\n",
      "Add amount in your bank account\n"
     ]
    }
   ],
   "source": [
    "bankaccount=1000\n",
    "while(bankaccount!=0):\n",
    "    print(bankaccount)\n",
    "    bankaccount=bankaccount-100\n",
    "else:\n",
    "    print(\"Add amount in your bank account\")"
   ]
  },
  {
   "cell_type": "code",
   "execution_count": 63,
   "id": "91fa723e",
   "metadata": {},
   "outputs": [
    {
     "name": "stdout",
     "output_type": "stream",
     "text": [
      "Deepa\n",
      "1\n",
      "2\n",
      "3\n",
      "4\n",
      "Apple\n",
      "Banana\n"
     ]
    }
   ],
   "source": [
    "#for loop\n",
    "lst=[\"Deepa\",1,2,3,4,\"Apple\",\"Banana\"]\n",
    "for x in lst:\n",
    "    print(x)"
   ]
  },
  {
   "cell_type": "code",
   "execution_count": 64,
   "id": "e5bd1d99",
   "metadata": {},
   "outputs": [
    {
     "name": "stdout",
     "output_type": "stream",
     "text": [
      "apple\n",
      "banana\n",
      "grapes\n",
      "Its is juicy and tiny fruit\n",
      "guava\n",
      "pineapple\n"
     ]
    }
   ],
   "source": [
    "fruit_basket=[\"apple\",\"banana\",\"grapes\",\"guava\",\"pineapple\"]\n",
    "for a in fruit_basket:\n",
    "    print(a)\n",
    "    if(a==\"grapes\"):  #loop will execute the inner code also in a sequence\n",
    "        print(\"Its is juicy and tiny fruit\")"
   ]
  },
  {
   "cell_type": "code",
   "execution_count": 65,
   "id": "4a5b15a3",
   "metadata": {},
   "outputs": [
    {
     "name": "stdout",
     "output_type": "stream",
     "text": [
      "g\n",
      "u\n",
      "a\n",
      "v\n",
      "a\n"
     ]
    }
   ],
   "source": [
    "fruit=\"guava\"\n",
    "for i in fruit:\n",
    "    print(i)   #String is also a collection of objects"
   ]
  },
  {
   "cell_type": "code",
   "execution_count": 66,
   "id": "e2a354dc",
   "metadata": {},
   "outputs": [
    {
     "name": "stdout",
     "output_type": "stream",
     "text": [
      "g u a v a "
     ]
    }
   ],
   "source": [
    "fruit=\"guava\"\n",
    "for i in fruit:\n",
    "    print(i ,end=\" \")  #the iteration will be shown in one line"
   ]
  },
  {
   "cell_type": "code",
   "execution_count": 68,
   "id": "bbbbb135",
   "metadata": {},
   "outputs": [
    {
     "name": "stdout",
     "output_type": "stream",
     "text": [
      "1\n",
      "2\n",
      "3\n",
      "4\n",
      "5\n"
     ]
    }
   ],
   "source": [
    "for i in range(1,6):\n",
    "    print(i)"
   ]
  },
  {
   "cell_type": "code",
   "execution_count": 69,
   "id": "c660edb4",
   "metadata": {},
   "outputs": [
    {
     "name": "stdout",
     "output_type": "stream",
     "text": [
      "1\n",
      "3\n",
      "5\n"
     ]
    }
   ],
   "source": [
    "for i in range(1,6,2):\n",
    "    print(i)"
   ]
  },
  {
   "cell_type": "code",
   "execution_count": 2,
   "id": "8ff9ad8a",
   "metadata": {},
   "outputs": [
    {
     "name": "stdout",
     "output_type": "stream",
     "text": [
      "* \r\n",
      "* * \r\n",
      "* * * \r\n",
      "* * * * \r\n",
      "* * * * * \r\n",
      "* * * * * * \r\n",
      "* * * * * * * \r\n"
     ]
    }
   ],
   "source": [
    "#Nested-loop\n",
    "n=7\n",
    "for i in range(0,n):\n",
    "    for j in range(0,i+1):\n",
    "        print(\"*\",end=\" \")   #itertion will be shown in one line(end=\" \")\n",
    "    print(\"\\r\")   #\\r goes to the next line and move to the left most side"
   ]
  },
  {
   "cell_type": "code",
   "execution_count": 19,
   "id": "5f992d5a",
   "metadata": {},
   "outputs": [
    {
     "name": "stdout",
     "output_type": "stream",
     "text": [
      "       *\r\n",
      "      ***\r\n",
      "     *****\r\n",
      "    *******\r\n",
      "   *********\r\n",
      "  ***********\r\n",
      " *************\r\n"
     ]
    }
   ],
   "source": [
    "#Assignment\n",
    "n=7\n",
    "for i in range(n):\n",
    "    print(\" \"*(n-i),end=\"\")\n",
    "    for j in range(i*2+1):\n",
    "        print(\"*\",end=\"\")#itertion will be shown in one line(end=\" \")\n",
    "    print(\"\\r\") "
   ]
  },
  {
   "cell_type": "code",
   "execution_count": null,
   "id": "5d19de15",
   "metadata": {},
   "outputs": [],
   "source": [
    "#Loop control\n",
    "fruit=\"guava\"\n",
    "for i in fruit:\n",
    "    print(i)"
   ]
  },
  {
   "cell_type": "code",
   "execution_count": 3,
   "id": "5aa4a94b",
   "metadata": {},
   "outputs": [
    {
     "name": "stdout",
     "output_type": "stream",
     "text": [
      "apple\n",
      "banana\n",
      "grapes\n",
      "The fruit is guava\n"
     ]
    }
   ],
   "source": [
    "fruit_basket=[\"apple\",\"banana\",\"grapes\",\"guava\",\"pineapple\"]\n",
    "for a in fruit_basket:\n",
    "    if(a==\"guava\"):\n",
    "        print(\"The fruit is guava\")\n",
    "        break   #exit from the entire loop\n",
    "    print(a)"
   ]
  },
  {
   "cell_type": "code",
   "execution_count": 5,
   "id": "882ec042",
   "metadata": {},
   "outputs": [
    {
     "name": "stdout",
     "output_type": "stream",
     "text": [
      "apple\n",
      "banana\n",
      "grapes\n",
      "The fruit is guava\n",
      "guava\n",
      "pineapple\n"
     ]
    }
   ],
   "source": [
    "fruit_basket=[\"apple\",\"banana\",\"grapes\",\"guava\",\"pineapple\"]\n",
    "for a in fruit_basket:\n",
    "    if(a==\"guava\"):\n",
    "        print(\"The fruit is guava\")\n",
    "        pass    # do nothing just pass the loop further\n",
    "    print(a)"
   ]
  },
  {
   "cell_type": "code",
   "execution_count": 6,
   "id": "7765ba9e",
   "metadata": {},
   "outputs": [
    {
     "name": "stdout",
     "output_type": "stream",
     "text": [
      "apple\n",
      "banana\n",
      "grapes\n",
      "The fruit is guava\n",
      "pineapple\n"
     ]
    }
   ],
   "source": [
    "fruit_basket=[\"apple\",\"banana\",\"grapes\",\"guava\",\"pineapple\"]\n",
    "for a in fruit_basket:\n",
    "    if(a==\"guava\"):\n",
    "        print(\"The fruit is guava\")\n",
    "        continue  #skips one loop in between\n",
    "    print(a)"
   ]
  }
 ],
 "metadata": {
  "kernelspec": {
   "display_name": "Python 3 (ipykernel)",
   "language": "python",
   "name": "python3"
  },
  "language_info": {
   "codemirror_mode": {
    "name": "ipython",
    "version": 3
   },
   "file_extension": ".py",
   "mimetype": "text/x-python",
   "name": "python",
   "nbconvert_exporter": "python",
   "pygments_lexer": "ipython3",
   "version": "3.11.0"
  }
 },
 "nbformat": 4,
 "nbformat_minor": 5
}
