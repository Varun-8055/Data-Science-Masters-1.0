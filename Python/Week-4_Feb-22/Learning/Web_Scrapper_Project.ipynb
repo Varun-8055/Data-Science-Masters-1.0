{
 "cells": [
  {
   "cell_type": "markdown",
   "id": "8d62eebf-10ac-4b9d-a10a-10f9cc97205a",
   "metadata": {},
   "source": [
    "we are going to make a web scrapper (sentimate analizer) that will take all the revies from the flipkart website and then make the decisions out of it \n",
    "\n",
    "The result outcomes we will seen in the machine learning in this lecture we will first learn to how we can acquire data "
   ]
  },
  {
   "cell_type": "code",
   "execution_count": 2,
   "id": "3fb2fe77-18df-4da5-9e71-120ec23daca1",
   "metadata": {},
   "outputs": [],
   "source": [
    "import requests\n",
    "from bs4 import BeautifulSoup as bs\n",
    "from urllib.request import urlopen\n",
    "import logging"
   ]
  },
  {
   "cell_type": "code",
   "execution_count": 3,
   "id": "38ff38e7-05ac-42e5-9406-ed45ee3ee751",
   "metadata": {},
   "outputs": [],
   "source": [
    "#Now firstly we have to reach till the flipkart website\n",
    "flipkart_url=\"https://www.flipkart.com/search?q=\"+\"iphone12\""
   ]
  },
  {
   "cell_type": "code",
   "execution_count": 4,
   "id": "ed91d6d4-025e-43a2-9f85-6b361d4d000e",
   "metadata": {},
   "outputs": [
    {
     "data": {
      "text/plain": [
       "'https://www.flipkart.com/search?q=iphone12'"
      ]
     },
     "execution_count": 4,
     "metadata": {},
     "output_type": "execute_result"
    }
   ],
   "source": [
    "flipkart_url   #It directly opens the iphone12 search "
   ]
  },
  {
   "cell_type": "code",
   "execution_count": 5,
   "id": "cfba77ac-fbd7-48d1-b13c-21efbe71bb8a",
   "metadata": {},
   "outputs": [],
   "source": [
    "flipkart_url=\"https://www.flipkart.com/search?q=\"+\"tv\""
   ]
  },
  {
   "cell_type": "code",
   "execution_count": 6,
   "id": "80a48d66-e656-46cc-9bed-6abcc85a27d5",
   "metadata": {},
   "outputs": [
    {
     "data": {
      "text/plain": [
       "'https://www.flipkart.com/search?q=tv'"
      ]
     },
     "execution_count": 6,
     "metadata": {},
     "output_type": "execute_result"
    }
   ],
   "source": [
    "flipkart_url        #The url to reach to website will same we only change the product to search"
   ]
  },
  {
   "cell_type": "code",
   "execution_count": 7,
   "id": "b10a4481-9898-42dd-8b42-cd3fa4d5147c",
   "metadata": {},
   "outputs": [],
   "source": [
    "#How to click this url using my python code\n",
    "# urlopen module will help us to open the particular url\n",
    "urlclient=urlopen(flipkart_url)"
   ]
  },
  {
   "cell_type": "code",
   "execution_count": 8,
   "id": "3d433643-1951-4343-a3c0-e1522d805f02",
   "metadata": {},
   "outputs": [],
   "source": [
    "flipcart_page=urlclient.read()   #It will read the entire html page "
   ]
  },
  {
   "cell_type": "code",
   "execution_count": 9,
   "id": "990ac63b-091c-48ff-94bf-3c5eaf7e72c8",
   "metadata": {},
   "outputs": [],
   "source": [
    "#the flipcart_page is not looking in human readable format.for making it for human readable we use beautifulsoup module\n",
    "flipcart_html=bs(flipcart_page,'html.parser')"
   ]
  },
  {
   "cell_type": "code",
   "execution_count": null,
   "id": "19d2632c-19ce-4fe1-aceb-ea24c5704746",
   "metadata": {},
   "outputs": [],
   "source": [
    "#we dont want this instead  we have to fetch the url of the products one by one \n",
    "#now if we go and inspect the flipcart_page we will every image,products ,menu bar are placed in separate separate boxes\n",
    "#So our task is to fetch the boxes of the product url only \n",
    "#when we go into these boxes we will see hyperlink is there which is use to land into the details of a particular product\n",
    "#So our main requirement is to get these links in a automated way"
   ]
  },
  {
   "cell_type": "code",
   "execution_count": 10,
   "id": "087b7a48-7317-4112-a9eb-e40e41e333ce",
   "metadata": {},
   "outputs": [
    {
     "data": {
      "text/plain": [
       "'https://www.flipkart.com/samsung-frame-138-cm-55-inch-qled-ultra-hd-4k-smart-tizen-tv-matte-display/p/itm12119185c681f?pid=TVSGE3FUGTZY4DVB&lid=LSTTVSGE3FUGTZY4DVBQJOV3C&marketplace=FLIPKART&q=tv&store=ckf%2Fczl&srno=s_1_1&otracker=search&fm=organic&iid=en_V2g9TXfvvtS5YaeDxA9j3W6pjL9ujpvkigIRnbuOvIrBP6QpL4UO5F5F3sXDWuhcm8a5J9w4TgsLkWtDAqRkKA%3D%3D&ppt=None&ppn=None&ssid=98bs4urv740000001688842669409&qH=c9a1fdac6e082dd8'"
      ]
     },
     "execution_count": 10,
     "metadata": {},
     "output_type": "execute_result"
    }
   ],
   "source": [
    "#This is the link of a product inside that box :this link redirect us directly to the product details \n",
    "#We have to go inside every product url to fetch the product details\n",
    "#Flipcart main url + url from that box\n",
    "\"https://www.flipkart.com\"+\"/samsung-frame-138-cm-55-inch-qled-ultra-hd-4k-smart-tizen-tv-matte-display/p/itm12119185c681f?pid=TVSGE3FUGTZY4DVB&lid=LSTTVSGE3FUGTZY4DVBQJOV3C&marketplace=FLIPKART&q=tv&store=ckf%2Fczl&srno=s_1_1&otracker=search&fm=organic&iid=en_V2g9TXfvvtS5YaeDxA9j3W6pjL9ujpvkigIRnbuOvIrBP6QpL4UO5F5F3sXDWuhcm8a5J9w4TgsLkWtDAqRkKA%3D%3D&ppt=None&ppn=None&ssid=98bs4urv740000001688842669409&qH=c9a1fdac6e082dd8\""
   ]
  },
  {
   "cell_type": "code",
   "execution_count": 11,
   "id": "373e9008-85c3-4fee-9033-131ddf2e5c28",
   "metadata": {},
   "outputs": [],
   "source": [
    "#This all product are inside the div classes.fetch all product\n",
    "bigbox=flipcart_html.find_all(\"div\",{\"class\":\"_1AtVbE col-12-12\"})  #fetch all the divs (they all have same class name)"
   ]
  },
  {
   "cell_type": "code",
   "execution_count": 12,
   "id": "de9a7928-07d2-408c-9e08-2854d3deee99",
   "metadata": {},
   "outputs": [
    {
     "data": {
      "text/plain": [
       "30"
      ]
     },
     "execution_count": 12,
     "metadata": {},
     "output_type": "execute_result"
    }
   ],
   "source": [
    "len(bigbox)   #There are 30 product on the above url"
   ]
  },
  {
   "cell_type": "code",
   "execution_count": 13,
   "id": "64e556c9-60d4-4a33-bc39-8732aaed5d4d",
   "metadata": {},
   "outputs": [],
   "source": [
    "#The first 3 div boxes also have the same class and they are menu ,header like box so delete these\n",
    "del bigbox[0:3]   #delete 0,1,2 index"
   ]
  },
  {
   "cell_type": "code",
   "execution_count": 14,
   "id": "c3bb9754-21bd-4445-9949-0e28b7eae8c7",
   "metadata": {},
   "outputs": [
    {
     "data": {
      "text/plain": [
       "27"
      ]
     },
     "execution_count": 14,
     "metadata": {},
     "output_type": "execute_result"
    }
   ],
   "source": [
    "len(bigbox)   #actual products"
   ]
  },
  {
   "cell_type": "code",
   "execution_count": 16,
   "id": "59561608-6c35-46a0-999f-d6166eba3495",
   "metadata": {},
   "outputs": [
    {
     "data": {
      "text/plain": [
       "'/beethosol-80-cm-32-inch-hd-ready-led-tv/p/itmbc44ca58989cf?pid=TVSGG79MDS8CXWGD&lid=LSTTVSGG79MDS8CXWGD8P6NUB&marketplace=FLIPKART&q=tv&store=ckf%2Fczl&srno=s_1_2&otracker=search&fm=organic&iid=en_174Xdf8vGV4z6JO0VrDLvcDPg5KMTgYntefTZtQ_yyYbaabPzBSGg04C9noRYrFl-dAyQe3UgnKx-sF0qvJ6Zw%3D%3D&ppt=None&ppn=None&ssid=giop8dd1vk0000001688845138284&qH=c9a1fdac6e082dd8'"
      ]
     },
     "execution_count": 16,
     "metadata": {},
     "output_type": "execute_result"
    }
   ],
   "source": [
    "#Now from all these bigboxes we have to get the href url\n",
    "# url is in the 3 div then inside a \n",
    "bigbox[0].div.div.div.a['href']                #search in the top box first :We get the url for top product"
   ]
  },
  {
   "cell_type": "code",
   "execution_count": 19,
   "id": "e2bad85d-878b-4fce-a49b-1d9bee5b8b1a",
   "metadata": {},
   "outputs": [],
   "source": [
    "#If we add it with flipcart base then we can reach to the top product\n",
    "first_product=\"https://www.flipkart.com\"+\"/beethosol-80-cm-32-inch-hd-ready-led-tv/p/itmbc44ca58989cf?pid=TVSGG79MDS8CXWGD&lid=LSTTVSGG79MDS8CXWGD8P6NUB&marketplace=FLIPKART&q=tv&store=ckf%2Fczl&srno=s_1_2&otracker=search&fm=organic&iid=en_174Xdf8vGV4z6JO0VrDLvcDPg5KMTgYntefTZtQ_yyYbaabPzBSGg04C9noRYrFl-dAyQe3UgnKx-sF0qvJ6Zw%3D%3D&ppt=None&ppn=None&ssid=giop8dd1vk0000001688845138284&qH=c9a1fdac6e082dd8\""
   ]
  },
  {
   "cell_type": "code",
   "execution_count": 24,
   "id": "bd2919a0-d603-4a28-9567-a5add118bb18",
   "metadata": {},
   "outputs": [
    {
     "data": {
      "text/plain": [
       "'https://www.flipkart.com/beethosol-80-cm-32-inch-hd-ready-led-tv/p/itmbc44ca58989cf?pid=TVSGG79MDS8CXWGD&lid=LSTTVSGG79MDS8CXWGD8P6NUB&marketplace=FLIPKART&q=tv&store=ckf%2Fczl&srno=s_1_2&otracker=search&fm=organic&iid=en_174Xdf8vGV4z6JO0VrDLvcDPg5KMTgYntefTZtQ_yyYbaabPzBSGg04C9noRYrFl-dAyQe3UgnKx-sF0qvJ6Zw%3D%3D&ppt=None&ppn=None&ssid=giop8dd1vk0000001688845138284&qH=c9a1fdac6e082dd8'"
      ]
     },
     "execution_count": 24,
     "metadata": {},
     "output_type": "execute_result"
    }
   ],
   "source": [
    "first_product"
   ]
  },
  {
   "cell_type": "code",
   "execution_count": 18,
   "id": "0db66755-f4fe-4225-9d1d-dae30a95eb33",
   "metadata": {},
   "outputs": [
    {
     "name": "stdout",
     "output_type": "stream",
     "text": [
      "/beethosol-80-cm-32-inch-hd-ready-led-tv/p/itmbc44ca58989cf?pid=TVSGG79MDS8CXWGD&lid=LSTTVSGG79MDS8CXWGD8P6NUB&marketplace=FLIPKART&q=tv&store=ckf%2Fczl&srno=s_1_2&otracker=search&fm=organic&iid=en_174Xdf8vGV4z6JO0VrDLvcDPg5KMTgYntefTZtQ_yyYbaabPzBSGg04C9noRYrFl-dAyQe3UgnKx-sF0qvJ6Zw%3D%3D&ppt=None&ppn=None&ssid=giop8dd1vk0000001688845138284&qH=c9a1fdac6e082dd8\n",
      "/mi-5a-80-cm-32-inch-hd-ready-led-smart-android-tv-dolby-audio-2022-model/p/itm98501ffa297ba?pid=TVSGD5CS2SDUUZGN&lid=LSTTVSGD5CS2SDUUZGNPVJDFV&marketplace=FLIPKART&q=tv&store=ckf%2Fczl&spotlightTagId=BestsellerId_ckf%2Fczl&srno=s_1_3&otracker=search&fm=organic&iid=014ada2d-630b-413c-9093-68b97be4efe2.TVSGD5CS2SDUUZGN.SEARCH&ppt=None&ppn=None&ssid=giop8dd1vk0000001688845138284&qH=c9a1fdac6e082dd8\n",
      "/lg-80-cm-32-inch-hd-ready-led-smart-webos-tv/p/itm6207e6d122567?pid=TVSFTW4CSRW8PGDQ&lid=LSTTVSFTW4CSRW8PGDQSZQIO6&marketplace=FLIPKART&q=tv&store=ckf%2Fczl&spotlightTagId=FkPickId_ckf%2Fczl&srno=s_1_4&otracker=search&fm=organic&iid=014ada2d-630b-413c-9093-68b97be4efe2.TVSFTW4CSRW8PGDQ.SEARCH&ppt=None&ppn=None&ssid=giop8dd1vk0000001688845138284&qH=c9a1fdac6e082dd8\n",
      "/infinix-y1-80-cm-32-inch-hd-ready-led-smart-linux-tv-wall-mount/p/itme5476ca89d1b0?pid=TVSGFGF34GMTB9KF&lid=LSTTVSGFGF34GMTB9KFNOEUDG&marketplace=FLIPKART&q=tv&store=ckf%2Fczl&spotlightTagId=BestsellerId_ckf%2Fczl&srno=s_1_5&otracker=search&fm=organic&iid=014ada2d-630b-413c-9093-68b97be4efe2.TVSGFGF34GMTB9KF.SEARCH&ppt=None&ppn=None&ssid=giop8dd1vk0000001688845138284&qH=c9a1fdac6e082dd8\n",
      "/thomson-alpha-80-cm-32-inch-hd-ready-led-smart-linux-tv-30-w-sound-output-bezel-less-design/p/itm0e90bcdadb9c9?pid=TVSGEMQV7R4CMTGA&lid=LSTTVSGEMQV7R4CMTGAODWDFI&marketplace=FLIPKART&q=tv&store=ckf%2Fczl&srno=s_1_6&otracker=search&fm=organic&iid=014ada2d-630b-413c-9093-68b97be4efe2.TVSGEMQV7R4CMTGA.SEARCH&ppt=None&ppn=None&ssid=giop8dd1vk0000001688845138284&qH=c9a1fdac6e082dd8\n",
      "/realme-80-cm-32-inch-hd-ready-led-smart-android-tv/p/itm56d1cf16da75b?pid=TVSFRTJQTZVKTF6Y&lid=LSTTVSFRTJQTZVKTF6YTYQNP6&marketplace=FLIPKART&q=tv&store=ckf%2Fczl&srno=s_1_7&otracker=search&fm=organic&iid=014ada2d-630b-413c-9093-68b97be4efe2.TVSFRTJQTZVKTF6Y.SEARCH&ppt=None&ppn=None&ssid=giop8dd1vk0000001688845138284&qH=c9a1fdac6e082dd8\n",
      "/beethosol-60-cm-24-inch-hd-ready-led-tv/p/itm90f7facf698f4?pid=TVSGG79MWCZAYABV&lid=LSTTVSGG79MWCZAYABVBIZVS1&marketplace=FLIPKART&q=tv&store=ckf%2Fczl&srno=s_1_8&otracker=search&fm=organic&iid=en_174Xdf8vGV4z6JO0VrDLvcDPg5KMTgYntefTZtQ_yyZLlqVeaVaEjjMpXQ2UwkVt9nGeo14xUPXtASfLHJnxfA%3D%3D&ppt=None&ppn=None&ssid=giop8dd1vk0000001688845138284&qH=c9a1fdac6e082dd8\n",
      "/iffalcon-tcl-80-04-cm-32-inch-hd-ready-led-smart-android-tv-bezel-less-design-24w-speaker/p/itm82d22461c3761?pid=TVSGKNZGHCZRNEDW&lid=LSTTVSGKNZGHCZRNEDWPKDF2X&marketplace=FLIPKART&q=tv&store=ckf%2Fczl&srno=s_1_9&otracker=search&fm=organic&iid=014ada2d-630b-413c-9093-68b97be4efe2.TVSGKNZGHCZRNEDW.SEARCH&ppt=None&ppn=None&ssid=giop8dd1vk0000001688845138284&qH=c9a1fdac6e082dd8\n",
      "/mi-5a-100-cm-40-inch-full-hd-led-smart-android-tv-dolby-audio-2022-model/p/itm6be60be56f52d?pid=TVSGD5CS4N7NWFZD&lid=LSTTVSGD5CS4N7NWFZDCMWLRV&marketplace=FLIPKART&q=tv&store=ckf%2Fczl&srno=s_1_10&otracker=search&fm=organic&iid=014ada2d-630b-413c-9093-68b97be4efe2.TVSGD5CS4N7NWFZD.SEARCH&ppt=None&ppn=None&ssid=giop8dd1vk0000001688845138284&qH=c9a1fdac6e082dd8\n",
      "/samsung-crystal-4k-ismart-series-108-cm-43-inch-ultra-hd-4k-led-smart-tizen-tv-black-2023-model/p/itm81838563cf20a?pid=TVSGZF57QGYKHGNS&lid=LSTTVSGZF57QGYKHGNSWCWTOY&marketplace=FLIPKART&q=tv&store=ckf%2Fczl&srno=s_1_11&otracker=search&fm=organic&iid=en_174Xdf8vGV4z6JO0VrDLvcDPg5KMTgYntefTZtQ_yyb4R1hUt9LuGDuFqJ-ONRHG-pMaW6WA5IUoYCFss2LC6A%3D%3D&ppt=None&ppn=None&ssid=giop8dd1vk0000001688845138284&qH=c9a1fdac6e082dd8\n",
      "/mi-x-series-108-cm-43-inch-ultra-hd-4k-led-smart-android-tv-dolby-vision-30w-audio-2022-model/p/itm39b39b602f81a?pid=TVSGHEQVGZVTSEBT&lid=LSTTVSGHEQVGZVTSEBT6BSNVA&marketplace=FLIPKART&q=tv&store=ckf%2Fczl&srno=s_1_12&otracker=search&fm=organic&iid=en_174Xdf8vGV4z6JO0VrDLvcDPg5KMTgYntefTZtQ_yyYzGdUCAkPyZfZ14PJYPgXEFdZ5ROXx9dZDdn4vhBFOoA%3D%3D&ppt=None&ppn=None&ssid=giop8dd1vk0000001688845138284&qH=c9a1fdac6e082dd8\n",
      "/oneplus-y1s-80-cm-32-inch-hd-ready-led-smart-android-tv-11-bezel-less-frame/p/itm0a39edd7df236?pid=TVSGAXEVXNG9YBUM&lid=LSTTVSGAXEVXNG9YBUMNFXTWO&marketplace=FLIPKART&q=tv&store=ckf%2Fczl&srno=s_1_13&otracker=search&fm=organic&iid=014ada2d-630b-413c-9093-68b97be4efe2.TVSGAXEVXNG9YBUM.SEARCH&ppt=None&ppn=None&ssid=giop8dd1vk0000001688845138284&qH=c9a1fdac6e082dd8\n",
      "/infinix-x3in-80-cm-32-cm-hd-ready-led-smart-android-tv/p/itmc3e5d996d0aa3?pid=TVSGZZY4MHBSP9VD&lid=LSTTVSGZZY4MHBSP9VDVQ1L7Z&marketplace=FLIPKART&q=tv&store=ckf%2Fczl&srno=s_1_14&otracker=search&fm=organic&iid=014ada2d-630b-413c-9093-68b97be4efe2.TVSGZZY4MHBSP9VD.SEARCH&ppt=None&ppn=None&ssid=giop8dd1vk0000001688845138284&qH=c9a1fdac6e082dd8\n",
      "/oneplus-y1s-108-cm-43-inch-full-hd-led-smart-android-tv-11-bezel-less-frame/p/itm178846d2e1567?pid=TVSGAXEVSNT3HBQA&lid=LSTTVSGAXEVSNT3HBQADHUARX&marketplace=FLIPKART&q=tv&store=ckf%2Fczl&srno=s_1_15&otracker=search&fm=organic&iid=014ada2d-630b-413c-9093-68b97be4efe2.TVSGAXEVSNT3HBQA.SEARCH&ppt=None&ppn=None&ssid=giop8dd1vk0000001688845138284&qH=c9a1fdac6e082dd8\n",
      "/coocaa-80-cm-32-inch-hd-ready-led-smart-coolita-tv-dolby-audio-eye-care-technology/p/itm1d67beddce98f?pid=TVSG4VHWKAP6KYP4&lid=LSTTVSG4VHWKAP6KYP4QBLASU&marketplace=FLIPKART&q=tv&store=ckf%2Fczl&srno=s_1_16&otracker=search&fm=organic&iid=014ada2d-630b-413c-9093-68b97be4efe2.TVSG4VHWKAP6KYP4.SEARCH&ppt=None&ppn=None&ssid=giop8dd1vk0000001688845138284&qH=c9a1fdac6e082dd8\n",
      "/dyanora-60-cm-24-inch-hd-ready-led-smart-android-based-tv-noise-reduction-9-0-powerful-audio-box-speakers/p/itm87c4cdcec7909?pid=TVSGFBDG37NBZQTA&lid=LSTTVSGFBDG37NBZQTABPFAWI&marketplace=FLIPKART&q=tv&store=ckf%2Fczl&srno=s_1_17&otracker=search&fm=organic&iid=en_174Xdf8vGV4z6JO0VrDLvcDPg5KMTgYntefTZtQ_yybS57XRNhu-qibkUr8v4AJG43Kj-hFMXoVrFYYBu4esqw%3D%3D&ppt=None&ppn=None&ssid=giop8dd1vk0000001688845138284&qH=c9a1fdac6e082dd8\n",
      "/samsung-crystal-4k-108-cm-43-inch-ultra-hd-4k-led-smart-tizen-tv/p/itm7dcfb3cc69fbb?pid=TVSG2CG7F2Y9YUJ3&lid=LSTTVSG2CG7F2Y9YUJ38041NS&marketplace=FLIPKART&q=tv&store=ckf%2Fczl&srno=s_1_18&otracker=search&fm=organic&iid=en_174Xdf8vGV4z6JO0VrDLvcDPg5KMTgYntefTZtQ_yyZmy2AOn_njEXwbkx9xG5F_G1ZHx-V4pfa8kDetfgN_pQ%3D%3D&ppt=None&ppn=None&ssid=giop8dd1vk0000001688845138284&qH=c9a1fdac6e082dd8\n",
      "/acer-series-80-cm-32-inch-hd-ready-led-smart-android-tv-11-1-5gb-ram-2022-model/p/itm5767c4e3d5359?pid=TVSGEYD98YRZGSRU&lid=LSTTVSGEYD98YRZGSRUPETPT6&marketplace=FLIPKART&q=tv&store=ckf%2Fczl&srno=s_1_19&otracker=search&fm=organic&iid=014ada2d-630b-413c-9093-68b97be4efe2.TVSGEYD98YRZGSRU.SEARCH&ppt=None&ppn=None&ssid=giop8dd1vk0000001688845138284&qH=c9a1fdac6e082dd8\n",
      "/mi-5a-108-cm-43-inch-full-hd-led-smart-android-tv-dolby-audio-2022-model/p/itm2d5967449cb9b?pid=TVSGD5CS3CXNF2DF&lid=LSTTVSGD5CS3CXNF2DFVCD74U&marketplace=FLIPKART&q=tv&store=ckf%2Fczl&srno=s_1_20&otracker=search&fm=organic&iid=014ada2d-630b-413c-9093-68b97be4efe2.TVSGD5CS3CXNF2DF.SEARCH&ppt=None&ppn=None&ssid=giop8dd1vk0000001688845138284&qH=c9a1fdac6e082dd8\n",
      "/dyanora-60-cm-24-inch-hd-ready-led-tv-noise-reduction-cinema-zoom-powerful-audio-box-speakers/p/itmbb88d38107ee7?pid=TVSG4YVQY4ZYQZWY&lid=LSTTVSG4YVQY4ZYQZWYTZLXFE&marketplace=FLIPKART&q=tv&store=ckf%2Fczl&srno=s_1_21&otracker=search&fm=organic&iid=en_174Xdf8vGV4z6JO0VrDLvcDPg5KMTgYntefTZtQ_yybCF7H74UJ2EqeJwpCAsWzP9kZx_0y1W83vAq9kE9bmxw%3D%3D&ppt=None&ppn=None&ssid=giop8dd1vk0000001688845138284&qH=c9a1fdac6e082dd8\n",
      "/sens-80-cm-32-inch-hd-ready-led-smart-android-tv-dolby-audio-google-assistant/p/itm9340589d4f56d?pid=TVSGHY2BHWNJ7JHG&lid=LSTTVSGHY2BHWNJ7JHGV04LJU&marketplace=FLIPKART&q=tv&store=ckf%2Fczl&srno=s_1_22&otracker=search&fm=organic&iid=en_174Xdf8vGV4z6JO0VrDLvcDPg5KMTgYntefTZtQ_yyZe48T5LRImLl1L0EwnFi9pBIGIxM3f5r_humf1TCKJNg%3D%3D&ppt=None&ppn=None&ssid=giop8dd1vk0000001688845138284&qH=c9a1fdac6e082dd8\n",
      "/iffalcon-tcl-u62-108-cm-43-inch-ultra-hd-4k-led-smart-google-tv-bezel-less-design-dolby-audio/p/itm09fd15fcb7ee8?pid=TVSGGJTQPTRDFDGX&lid=LSTTVSGGJTQPTRDFDGXEORYEG&marketplace=FLIPKART&q=tv&store=ckf%2Fczl&srno=s_1_23&otracker=search&fm=organic&iid=014ada2d-630b-413c-9093-68b97be4efe2.TVSGGJTQPTRDFDGX.SEARCH&ppt=None&ppn=None&ssid=giop8dd1vk0000001688845138284&qH=c9a1fdac6e082dd8\n",
      "/realme-108-cm-43-inch-full-hd-led-smart-android-tv-11-2022-model/p/itmef2cbebb563ff?pid=TVSGDC5CFDS55XDC&lid=LSTTVSGDC5CFDS55XDCP0DMJQ&marketplace=FLIPKART&q=tv&store=ckf%2Fczl&srno=s_1_24&otracker=search&fm=organic&iid=014ada2d-630b-413c-9093-68b97be4efe2.TVSGDC5CFDS55XDC.SEARCH&ppt=None&ppn=None&ssid=giop8dd1vk0000001688845138284&qH=c9a1fdac6e082dd8\n"
     ]
    },
    {
     "ename": "AttributeError",
     "evalue": "'NoneType' object has no attribute 'a'",
     "output_type": "error",
     "traceback": [
      "\u001b[0;31m---------------------------------------------------------------------------\u001b[0m",
      "\u001b[0;31mAttributeError\u001b[0m                            Traceback (most recent call last)",
      "Cell \u001b[0;32mIn[18], line 2\u001b[0m\n\u001b[1;32m      1\u001b[0m \u001b[38;5;28;01mfor\u001b[39;00m  i \u001b[38;5;129;01min\u001b[39;00m bigbox:\n\u001b[0;32m----> 2\u001b[0m     \u001b[38;5;28mprint\u001b[39m(\u001b[43mi\u001b[49m\u001b[38;5;241;43m.\u001b[39;49m\u001b[43mdiv\u001b[49m\u001b[38;5;241;43m.\u001b[39;49m\u001b[43mdiv\u001b[49m\u001b[38;5;241;43m.\u001b[39;49m\u001b[43mdiv\u001b[49m\u001b[38;5;241;43m.\u001b[39;49m\u001b[43ma\u001b[49m[\u001b[38;5;124m'\u001b[39m\u001b[38;5;124mhref\u001b[39m\u001b[38;5;124m'\u001b[39m]) \n",
      "\u001b[0;31mAttributeError\u001b[0m: 'NoneType' object has no attribute 'a'"
     ]
    }
   ],
   "source": [
    "for  i in bigbox:\n",
    "    print(i.div.div.div.a['href']) "
   ]
  },
  {
   "cell_type": "code",
   "execution_count": null,
   "id": "85765f6b-3258-45cb-bb35-1452419e8c97",
   "metadata": {},
   "outputs": [],
   "source": [
    "#We have extract reviews, coustomer name ,likes and everything from single product"
   ]
  },
  {
   "cell_type": "code",
   "execution_count": 21,
   "id": "9db028c0-755e-4bb7-adf9-f65f9a42d784",
   "metadata": {},
   "outputs": [],
   "source": [
    "product_req=requests.get(first_product)     #Extract the information of the whole product"
   ]
  },
  {
   "cell_type": "code",
   "execution_count": 23,
   "id": "53af85cb-4aee-4abc-8d5b-ae8dc5540c36",
   "metadata": {},
   "outputs": [],
   "source": [
    "product_html=bs(product_req.text,'html.parser')      #again we got the dump so beautify it little bit"
   ]
  },
  {
   "cell_type": "code",
   "execution_count": 26,
   "id": "855f49d7-1670-4d44-a6c1-79d995a0edd0",
   "metadata": {},
   "outputs": [],
   "source": [
    "#from this html extract all the reviews\n",
    "comment_box=product_html.find_all(\"div\",{\"class\":\"_16PBlm\"})"
   ]
  },
  {
   "cell_type": "code",
   "execution_count": 27,
   "id": "72173199-df06-400a-b55a-78f5da0c11cf",
   "metadata": {},
   "outputs": [
    {
     "data": {
      "text/plain": [
       "11"
      ]
     },
     "execution_count": 27,
     "metadata": {},
     "output_type": "execute_result"
    }
   ],
   "source": [
    "len(comment_box)"
   ]
  },
  {
   "cell_type": "code",
   "execution_count": 31,
   "id": "e8d35207-edf5-46c6-b037-a5ce5662f66a",
   "metadata": {},
   "outputs": [
    {
     "data": {
      "text/plain": [
       "[<p class=\"_2sc7ZR _2V5EHH\">Manoj Kumar</p>]"
      ]
     },
     "execution_count": 31,
     "metadata": {},
     "output_type": "execute_result"
    }
   ],
   "source": [
    "#Extract the person name who has given the comments  : 4 div then inside p\n",
    "comment_box[0].div.div.find_all(\"p\",{\"class\":\"_2sc7ZR _2V5EHH\"})"
   ]
  },
  {
   "cell_type": "code",
   "execution_count": 32,
   "id": "b914e2a1-0d2a-4b98-827a-82c9d79dcb7f",
   "metadata": {},
   "outputs": [
    {
     "data": {
      "text/plain": [
       "<p class=\"_2sc7ZR _2V5EHH\">Manoj Kumar</p>"
      ]
     },
     "execution_count": 32,
     "metadata": {},
     "output_type": "execute_result"
    }
   ],
   "source": [
    "comment_box[0].div.div.find_all(\"p\",{\"class\":\"_2sc7ZR _2V5EHH\"})[0]    #Previous output was list "
   ]
  },
  {
   "cell_type": "code",
   "execution_count": 33,
   "id": "b89de958-a790-42fe-a7bf-d0c1d867cf75",
   "metadata": {},
   "outputs": [
    {
     "data": {
      "text/plain": [
       "'Manoj Kumar'"
      ]
     },
     "execution_count": 33,
     "metadata": {},
     "output_type": "execute_result"
    }
   ],
   "source": [
    "comment_box[0].div.div.find_all(\"p\",{\"class\":\"_2sc7ZR _2V5EHH\"})[0].text   #Printinng only name"
   ]
  },
  {
   "cell_type": "code",
   "execution_count": 34,
   "id": "7be61c9f-d451-4cb7-9dd6-066f71e128fa",
   "metadata": {},
   "outputs": [
    {
     "name": "stdout",
     "output_type": "stream",
     "text": [
      "Manoj Kumar\n",
      "RAJESH HEGDE\n",
      "JAYAN  NAIR\n",
      "Krishnakant Chaupal\n",
      "Flipkart Customer\n",
      "SHIVAM CHAUHAN\n",
      "Vinay  Mistri\n",
      "Anand vashisth\n",
      "Sathish Sathish\n",
      "Flipkart Customer\n"
     ]
    },
    {
     "ename": "AttributeError",
     "evalue": "'NoneType' object has no attribute 'div'",
     "output_type": "error",
     "traceback": [
      "\u001b[0;31m---------------------------------------------------------------------------\u001b[0m",
      "\u001b[0;31mAttributeError\u001b[0m                            Traceback (most recent call last)",
      "Cell \u001b[0;32mIn[34], line 3\u001b[0m\n\u001b[1;32m      1\u001b[0m \u001b[38;5;66;03m#This was the person for one comment box .now get persons of all comment box\u001b[39;00m\n\u001b[1;32m      2\u001b[0m \u001b[38;5;28;01mfor\u001b[39;00m i \u001b[38;5;129;01min\u001b[39;00m comment_box:\n\u001b[0;32m----> 3\u001b[0m     \u001b[38;5;28mprint\u001b[39m(\u001b[43mi\u001b[49m\u001b[38;5;241;43m.\u001b[39;49m\u001b[43mdiv\u001b[49m\u001b[38;5;241;43m.\u001b[39;49m\u001b[43mdiv\u001b[49m\u001b[38;5;241m.\u001b[39mfind_all(\u001b[38;5;124m\"\u001b[39m\u001b[38;5;124mp\u001b[39m\u001b[38;5;124m\"\u001b[39m,{\u001b[38;5;124m\"\u001b[39m\u001b[38;5;124mclass\u001b[39m\u001b[38;5;124m\"\u001b[39m:\u001b[38;5;124m\"\u001b[39m\u001b[38;5;124m_2sc7ZR _2V5EHH\u001b[39m\u001b[38;5;124m\"\u001b[39m})[\u001b[38;5;241m0\u001b[39m]\u001b[38;5;241m.\u001b[39mtext)\n",
      "\u001b[0;31mAttributeError\u001b[0m: 'NoneType' object has no attribute 'div'"
     ]
    }
   ],
   "source": [
    "#This was the person for one comment box .now get persons of all comment box\n",
    "for i in comment_box:\n",
    "    print(i.div.div.find_all(\"p\",{\"class\":\"_2sc7ZR _2V5EHH\"})[0].text)"
   ]
  },
  {
   "cell_type": "code",
   "execution_count": 35,
   "id": "df84846e-c26f-441a-aba7-bb6337e449de",
   "metadata": {},
   "outputs": [
    {
     "data": {
      "text/plain": [
       "'5'"
      ]
     },
     "execution_count": 35,
     "metadata": {},
     "output_type": "execute_result"
    }
   ],
   "source": [
    "#Now fetch the ratings\n",
    "comment_box[0].div.div.div.div.text   #rating of first comment"
   ]
  },
  {
   "cell_type": "code",
   "execution_count": 36,
   "id": "81302187-c4aa-4ff5-bbec-f8a3c76654a7",
   "metadata": {},
   "outputs": [
    {
     "name": "stdout",
     "output_type": "stream",
     "text": [
      "5\n",
      "4\n",
      "5\n",
      "5\n",
      "4\n",
      "4\n",
      "4\n",
      "4\n",
      "5\n",
      "5\n"
     ]
    },
    {
     "ename": "AttributeError",
     "evalue": "'NoneType' object has no attribute 'div'",
     "output_type": "error",
     "traceback": [
      "\u001b[0;31m---------------------------------------------------------------------------\u001b[0m",
      "\u001b[0;31mAttributeError\u001b[0m                            Traceback (most recent call last)",
      "Cell \u001b[0;32mIn[36], line 3\u001b[0m\n\u001b[1;32m      1\u001b[0m \u001b[38;5;66;03m#Print all ratings\u001b[39;00m\n\u001b[1;32m      2\u001b[0m \u001b[38;5;28;01mfor\u001b[39;00m i \u001b[38;5;129;01min\u001b[39;00m comment_box:\n\u001b[0;32m----> 3\u001b[0m     \u001b[38;5;28mprint\u001b[39m(\u001b[43mi\u001b[49m\u001b[38;5;241;43m.\u001b[39;49m\u001b[43mdiv\u001b[49m\u001b[38;5;241;43m.\u001b[39;49m\u001b[43mdiv\u001b[49m\u001b[38;5;241m.\u001b[39mdiv\u001b[38;5;241m.\u001b[39mdiv\u001b[38;5;241m.\u001b[39mtext)\n",
      "\u001b[0;31mAttributeError\u001b[0m: 'NoneType' object has no attribute 'div'"
     ]
    }
   ],
   "source": [
    "#Print all ratings\n",
    "for i in comment_box:\n",
    "    print(i.div.div.div.div.text)"
   ]
  },
  {
   "cell_type": "code",
   "execution_count": 38,
   "id": "8ec360ec-d490-46cc-a9bb-569fbf6164fa",
   "metadata": {},
   "outputs": [
    {
     "data": {
      "text/plain": [
       "'Must buy!'"
      ]
     },
     "execution_count": 38,
     "metadata": {},
     "output_type": "execute_result"
    }
   ],
   "source": [
    "comment_box[0].div.div.div.p.text          #reviews of the customers"
   ]
  },
  {
   "cell_type": "code",
   "execution_count": 40,
   "id": "4f127c93-5a89-4dba-8387-2dc11ab5aa33",
   "metadata": {},
   "outputs": [
    {
     "name": "stdout",
     "output_type": "stream",
     "text": [
      "Must buy!\n",
      "Very Good\n",
      "Great product\n",
      "Classy product\n",
      "Good quality product\n",
      "Excellent\n",
      "Value-for-money\n",
      "Worth the money\n",
      "Simply awesome\n",
      "Must buy!\n"
     ]
    },
    {
     "ename": "AttributeError",
     "evalue": "'NoneType' object has no attribute 'div'",
     "output_type": "error",
     "traceback": [
      "\u001b[0;31m---------------------------------------------------------------------------\u001b[0m",
      "\u001b[0;31mAttributeError\u001b[0m                            Traceback (most recent call last)",
      "Cell \u001b[0;32mIn[40], line 2\u001b[0m\n\u001b[1;32m      1\u001b[0m \u001b[38;5;28;01mfor\u001b[39;00m i \u001b[38;5;129;01min\u001b[39;00m comment_box:\n\u001b[0;32m----> 2\u001b[0m     \u001b[38;5;28mprint\u001b[39m(\u001b[43mi\u001b[49m\u001b[38;5;241;43m.\u001b[39;49m\u001b[43mdiv\u001b[49m\u001b[38;5;241;43m.\u001b[39;49m\u001b[43mdiv\u001b[49m\u001b[38;5;241m.\u001b[39mdiv\u001b[38;5;241m.\u001b[39mp\u001b[38;5;241m.\u001b[39mtext )\n",
      "\u001b[0;31mAttributeError\u001b[0m: 'NoneType' object has no attribute 'div'"
     ]
    }
   ],
   "source": [
    "for i in comment_box:\n",
    "    print(i.div.div.div.p.text )"
   ]
  },
  {
   "cell_type": "code",
   "execution_count": 41,
   "id": "47849cc9-f7b2-420f-87aa-4a30b2407727",
   "metadata": {},
   "outputs": [
    {
     "data": {
      "text/plain": [
       "\"Absolutely brilliant performance and wonderful installation services. Installed in 1 hour after delivery. Picture is awesome and it's really great buying experience!READ MORE\""
      ]
     },
     "execution_count": 41,
     "metadata": {},
     "output_type": "execute_result"
    }
   ],
   "source": [
    "#print the actaul comments\n",
    "comment_box[0].div.div.find_all(\"div\",{\"class\":\"\"})[0].text"
   ]
  },
  {
   "cell_type": "code",
   "execution_count": 43,
   "id": "4105a58c-0240-4f9b-b8ee-33f81e2d997e",
   "metadata": {},
   "outputs": [
    {
     "name": "stdout",
     "output_type": "stream",
     "text": [
      "Absolutely brilliant performance and wonderful installation services. Installed in 1 hour after delivery. Picture is awesome and it's really great buying experience!READ MORE\n",
      " \n",
      "\n",
      "Awesome Led Tv for this Price . Who are  want to buy just simple tv for watching Tv Channels or watching movies from pendrive or for Using as  computer screen  just Go for it.Mainly IPS LED SCREEN in this Tv . Thats the big plus point.Every thing worked great as of now . Delivery  installation aslo done same day itself. Really appreciated. Sound quality is Decent.Best picture settings:Contrast: 60Brightness: 35Colour: 50Sharpness: 20   ( Recommended ) Simply Superb Tv for thi...READ MORE\n",
      " \n",
      "\n",
      "Wow Awesome Led tv.  Superb picture and nice sounds.  I'm 100% satisfied with TV and installation.  Thanks to flipcart..  I'm highly recommend to this Led  tv.  Just Go aheardREAD MORE\n",
      " \n",
      "\n",
      "Good Picture Quality and Sound is AwesomeREAD MORE\n",
      " \n",
      "\n",
      "Nice Led tv..READ MORE\n",
      " \n",
      "\n",
      "GoodREAD MORE\n",
      " \n",
      "\n",
      "Picture quality is the bestSound average and value for money product.Over all ok.READ MORE\n",
      " \n",
      "\n",
      "Sound is great but picture quality is ok ok But its value for moneyLowest 32 inch TV so go for itREAD MORE\n",
      " \n",
      "\n",
      "Best of tv money worth 💓READ MORE\n",
      " \n",
      "\n",
      "Nice lcdREAD MORE\n",
      " \n",
      "\n"
     ]
    },
    {
     "ename": "AttributeError",
     "evalue": "'NoneType' object has no attribute 'div'",
     "output_type": "error",
     "traceback": [
      "\u001b[0;31m---------------------------------------------------------------------------\u001b[0m",
      "\u001b[0;31mAttributeError\u001b[0m                            Traceback (most recent call last)",
      "Cell \u001b[0;32mIn[43], line 2\u001b[0m\n\u001b[1;32m      1\u001b[0m \u001b[38;5;28;01mfor\u001b[39;00m i \u001b[38;5;129;01min\u001b[39;00m comment_box:\n\u001b[0;32m----> 2\u001b[0m     \u001b[38;5;28mprint\u001b[39m(\u001b[43mi\u001b[49m\u001b[38;5;241;43m.\u001b[39;49m\u001b[43mdiv\u001b[49m\u001b[38;5;241;43m.\u001b[39;49m\u001b[43mdiv\u001b[49m\u001b[38;5;241m.\u001b[39mfind_all(\u001b[38;5;124m\"\u001b[39m\u001b[38;5;124mdiv\u001b[39m\u001b[38;5;124m\"\u001b[39m,{\u001b[38;5;124m\"\u001b[39m\u001b[38;5;124mclass\u001b[39m\u001b[38;5;124m\"\u001b[39m:\u001b[38;5;124m\"\u001b[39m\u001b[38;5;124m\"\u001b[39m})[\u001b[38;5;241m0\u001b[39m]\u001b[38;5;241m.\u001b[39mtext)\n\u001b[1;32m      3\u001b[0m     \u001b[38;5;28mprint\u001b[39m(\u001b[38;5;124m\"\u001b[39m\u001b[38;5;124m \u001b[39m\u001b[38;5;130;01m\\n\u001b[39;00m\u001b[38;5;124m\"\u001b[39m)\n",
      "\u001b[0;31mAttributeError\u001b[0m: 'NoneType' object has no attribute 'div'"
     ]
    }
   ],
   "source": [
    "for i in comment_box:\n",
    "    print(i.div.div.find_all(\"div\",{\"class\":\"\"})[0].text)\n",
    "    print(\" \\n\")"
   ]
  },
  {
   "cell_type": "code",
   "execution_count": null,
   "id": "8ed1da37-597e-4928-aec3-523c689e0866",
   "metadata": {},
   "outputs": [],
   "source": []
  },
  {
   "cell_type": "code",
   "execution_count": null,
   "id": "92937dd8-7a6b-45c7-9e10-f7ef4ff47340",
   "metadata": {},
   "outputs": [],
   "source": []
  }
 ],
 "metadata": {
  "kernelspec": {
   "display_name": "Python 3 (ipykernel)",
   "language": "python",
   "name": "python3"
  },
  "language_info": {
   "codemirror_mode": {
    "name": "ipython",
    "version": 3
   },
   "file_extension": ".py",
   "mimetype": "text/x-python",
   "name": "python",
   "nbconvert_exporter": "python",
   "pygments_lexer": "ipython3",
   "version": "3.10.8"
  }
 },
 "nbformat": 4,
 "nbformat_minor": 5
}
