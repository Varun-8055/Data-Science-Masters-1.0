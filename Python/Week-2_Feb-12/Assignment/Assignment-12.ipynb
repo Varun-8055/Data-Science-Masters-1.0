{
 "cells": [
  {
   "cell_type": "markdown",
   "id": "c166fae9-3840-40fb-832b-bc257f92394b",
   "metadata": {},
   "source": [
    "Q1. What is an Exception in pthon? Write the difference between Exceptions and syntax errors?\n",
    "\n",
    "Ans: An Exception is an event that occurs during the program execution and disrupts the normal flow of the program's execution. Errors mostly happen at compile-time like syntax error; however it can happen at runtime as well. Whereas an Exception occurs at runtime (checked exceptions can be detected at compile time)."
   ]
  },
  {
   "cell_type": "markdown",
   "id": "e0ee29cd-6777-4a49-88c3-3bc2b30ee345",
   "metadata": {},
   "source": [
    "Q2. What happens when an exception is not handled? Explain with an example?\n",
    "\n",
    "Ans:If an exception is not caught (with a catch block), the runtime system will abort the program (i.e. crash) and an exception message will print to the console. The message typically includes: name of exception type. short description."
   ]
  },
  {
   "cell_type": "markdown",
   "id": "3dd404ea-83e9-440a-a29b-d31daa262559",
   "metadata": {},
   "source": [
    "Q3. Which Python statements are used to catch and handle exceptions? Explain with an example.\n",
    "\n",
    "Ans: The try and except block in Python is used to catch and handle exceptions. Python executes code following the try statement as a “normal” part of the program. The code that follows the except statement is the program's response to any exceptions in the preceding try clause."
   ]
  },
  {
   "cell_type": "code",
   "execution_count": 2,
   "id": "b59a0771-de25-4ef4-9649-8b7924d6813f",
   "metadata": {},
   "outputs": [
    {
     "name": "stdout",
     "output_type": "stream",
     "text": [
      "Error: Denominator cannot be 0.\n"
     ]
    }
   ],
   "source": [
    "try:\n",
    "    numerator = 10\n",
    "    denominator = 0\n",
    "\n",
    "    result = numerator/denominator\n",
    "\n",
    "    print(result)\n",
    "except:\n",
    "    print(\"Error: Denominator cannot be 0.\")"
   ]
  },
  {
   "cell_type": "markdown",
   "id": "d8bbb2ab-4aec-4d9c-88bb-df2e0a08c026",
   "metadata": {},
   "source": [
    "Q4. Explain with an example:\n",
    "\n",
    "1)Try and else\n",
    "\n",
    "2)finally\n",
    "\n",
    "3)raise"
   ]
  },
  {
   "cell_type": "code",
   "execution_count": 3,
   "id": "0c190766-2225-4eb4-b06f-9a270d101889",
   "metadata": {},
   "outputs": [],
   "source": [
    "try:\n",
    "    f=open(\"text.txt\",'w')    \n",
    "    f.write(\"This is my msg\")\n",
    "except Exception as e:\n",
    "    print(\"The file may be not present in the directory\",e)\n",
    "else:\n",
    "    #else block will execute once try will execute itself without an exception otherwise else will never execute\n",
    "    f.close() "
   ]
  },
  {
   "cell_type": "code",
   "execution_count": 4,
   "id": "f7a81a9e-0676-48b2-a280-b015eef7f702",
   "metadata": {},
   "outputs": [
    {
     "name": "stdout",
     "output_type": "stream",
     "text": [
      "The file may be not present in the directory [Errno 2] No such file or directory: 'text1.txt'\n",
      "The finally block is always executing\n"
     ]
    }
   ],
   "source": [
    "try:\n",
    "    f=open(\"text1.txt\",'r')   \n",
    "    print(f.read)\n",
    "except Exception as e:\n",
    "    print(\"The file may be not present in the directory\",e)\n",
    "else:\n",
    "    f.close()    \n",
    "finally:\n",
    "    print(\"The finally block is always executing\")"
   ]
  },
  {
   "cell_type": "code",
   "execution_count": 8,
   "id": "913108a8-8349-456e-b1f3-5a4b7369a850",
   "metadata": {},
   "outputs": [
    {
     "name": "stdin",
     "output_type": "stream",
     "text": [
      "Enter a number between positive integer:  -3\n"
     ]
    },
    {
     "name": "stdout",
     "output_type": "stream",
     "text": [
      "You provided -3. Please provide positive integer values only\n"
     ]
    }
   ],
   "source": [
    "class NegativeError(Exception):\n",
    "   def __init__(self, data):\n",
    "       self.data = data\n",
    "\n",
    "try:\n",
    "   x = int(input(\"Enter a number between positive integer: \"))\n",
    "   if x < 0:\n",
    "       raise NegativeError(x)\n",
    "except NegativeError as e:\n",
    "   print(\"You provided {}. Please provide positive integer values only\".format(e))"
   ]
  },
  {
   "cell_type": "markdown",
   "id": "038ad571-57c5-4ac6-8021-fb1b4feb7043",
   "metadata": {},
   "source": [
    "Q5. What are Custom Exceptions in python? Why do we need Custom Exceptions? Explain with an example.\n",
    "\n",
    "Ans:Sometimes based on project requirement, a programmer needs to create his own exceptions and raise explicitly for corresponding scenarios. Such types of exceptions are called customized Exceptions or Programmatic Exceptions. We can raise a custom exception by using the keyword 'raise'."
   ]
  },
  {
   "cell_type": "code",
   "execution_count": 9,
   "id": "da96f314-2572-4d39-8038-b2753023a3b1",
   "metadata": {},
   "outputs": [],
   "source": [
    "class valid_age(Exception):   #Inherites exception class\n",
    "    def __init__(self,msg):   #Constructor\n",
    "        self.msg=msg"
   ]
  },
  {
   "cell_type": "code",
   "execution_count": 10,
   "id": "064a1407-b49e-499d-95ce-46b769dd8cdf",
   "metadata": {},
   "outputs": [],
   "source": [
    "def valid_age2(age):\n",
    "    if age<0:\n",
    "        raise valid_age(\"Age should not be negative\")          #Raise calls the custom class\n",
    "    elif age>=200:\n",
    "        raise valid_age(\"The age is too high\")\n",
    "    else: \n",
    "        print(\"Age is valid\")"
   ]
  },
  {
   "cell_type": "code",
   "execution_count": 11,
   "id": "58a2f0f4-d93c-46fd-b9c0-079aa00d639e",
   "metadata": {},
   "outputs": [
    {
     "name": "stdin",
     "output_type": "stream",
     "text": [
      "Enter your age:  56\n"
     ]
    },
    {
     "name": "stdout",
     "output_type": "stream",
     "text": [
      "Age is valid\n"
     ]
    }
   ],
   "source": [
    "try:\n",
    "    age=int(input(\"Enter your age: \"))\n",
    "    valid_age2(age)\n",
    "    \n",
    "except valid_age as e:\n",
    "    print(e)"
   ]
  },
  {
   "cell_type": "markdown",
   "id": "bb7cafe9-b082-41c0-a7bc-405e9300b229",
   "metadata": {},
   "source": [
    "Q6. Create custom exception class. Use this class to handle an exception."
   ]
  },
  {
   "cell_type": "code",
   "execution_count": 26,
   "id": "08206f76-da3b-497d-abc4-02b55627aecc",
   "metadata": {},
   "outputs": [
    {
     "name": "stdout",
     "output_type": "stream",
     "text": [
      "A New Exception occurred:  6\n"
     ]
    }
   ],
   "source": [
    "# A python program to create user-defined exception\n",
    "# class MyError is derived from super class Exception\n",
    "class MyError(Exception):\n",
    "\n",
    "\t# Constructor or Initializer\n",
    "\tdef __init__(self, value):\n",
    "\t\tself.value = value\n",
    "\n",
    "\t# __str__ is to print() the value\n",
    "\tdef __str__(self):\n",
    "\t\treturn(repr(self.value))\n",
    "\n",
    "\n",
    "try:\n",
    "\traise(MyError(3*2))\n",
    "\n",
    "# Value of Exception is stored in error\n",
    "except MyError as error:\n",
    "\tprint('A New Exception occurred: ', error.value)\n"
   ]
  }
 ],
 "metadata": {
  "kernelspec": {
   "display_name": "Python 3 (ipykernel)",
   "language": "python",
   "name": "python3"
  },
  "language_info": {
   "codemirror_mode": {
    "name": "ipython",
    "version": 3
   },
   "file_extension": ".py",
   "mimetype": "text/x-python",
   "name": "python",
   "nbconvert_exporter": "python",
   "pygments_lexer": "ipython3",
   "version": "3.10.8"
  }
 },
 "nbformat": 4,
 "nbformat_minor": 5
}
