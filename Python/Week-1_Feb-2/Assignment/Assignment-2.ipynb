{
 "cells": [
  {
   "cell_type": "markdown",
   "id": "42fb31c8-639b-4b47-8762-6b83052c160c",
   "metadata": {},
   "source": [
    "Que 1.What are the characteristics of the tuples?Is tuple mutable?\n",
    "ans. Characteristics of Tuples\n",
    "1.They are indexed.\n",
    "2.Tuples are ordered.\n",
    "3.These are immutable.\n",
    "4.They can contain duplicate items.\n",
    "\n",
    "Tuples are immutable, meaning that once a tuple has been created, the items in it can't change."
   ]
  },
  {
   "cell_type": "code",
   "execution_count": 1,
   "id": "86143ad3-3b74-4c88-b01c-0a97dfcb49ed",
   "metadata": {},
   "outputs": [],
   "source": [
    "t=(1,2,6,7,\"Deepa\")"
   ]
  },
  {
   "cell_type": "code",
   "execution_count": 5,
   "id": "29734159-6a86-47a2-ae98-ebbb159d3a60",
   "metadata": {},
   "outputs": [
    {
     "data": {
      "text/plain": [
       "3"
      ]
     },
     "execution_count": 5,
     "metadata": {},
     "output_type": "execute_result"
    }
   ],
   "source": [
    "t.index(7)    #indexed"
   ]
  },
  {
   "cell_type": "code",
   "execution_count": 6,
   "id": "6ad8ce79-0dad-424c-9b86-61b785070a7f",
   "metadata": {},
   "outputs": [
    {
     "name": "stdout",
     "output_type": "stream",
     "text": [
      "1\n",
      "2\n",
      "6\n",
      "7\n",
      "Deepa\n"
     ]
    }
   ],
   "source": [
    "for i in t:    #ordered\n",
    "    print(i)   "
   ]
  },
  {
   "cell_type": "code",
   "execution_count": 7,
   "id": "703d254c-72ec-4fc6-a7be-19ce56f03624",
   "metadata": {},
   "outputs": [
    {
     "ename": "TypeError",
     "evalue": "'tuple' object does not support item assignment",
     "output_type": "error",
     "traceback": [
      "\u001b[0;31m---------------------------------------------------------------------------\u001b[0m",
      "\u001b[0;31mTypeError\u001b[0m                                 Traceback (most recent call last)",
      "Cell \u001b[0;32mIn[7], line 1\u001b[0m\n\u001b[0;32m----> 1\u001b[0m \u001b[43mt\u001b[49m\u001b[43m[\u001b[49m\u001b[38;5;241;43m3\u001b[39;49m\u001b[43m]\u001b[49m\u001b[38;5;241m=\u001b[39m\u001b[38;5;241m27\u001b[39m\n",
      "\u001b[0;31mTypeError\u001b[0m: 'tuple' object does not support item assignment"
     ]
    }
   ],
   "source": [
    "t[3]=27    #Immutable"
   ]
  },
  {
   "cell_type": "code",
   "execution_count": 8,
   "id": "753899ae-e312-4b0f-9c9d-fb4ee1cfa182",
   "metadata": {},
   "outputs": [],
   "source": [
    "t1=(1,2,3,1,2,3,\"abc\",\"ABC\")"
   ]
  },
  {
   "cell_type": "code",
   "execution_count": 9,
   "id": "c47512f5-3359-4ac1-890b-e6f3e7701e17",
   "metadata": {},
   "outputs": [
    {
     "data": {
      "text/plain": [
       "(1, 2, 3, 1, 2, 3, 'abc', 'ABC')"
      ]
     },
     "execution_count": 9,
     "metadata": {},
     "output_type": "execute_result"
    }
   ],
   "source": [
    "t1          #duplicate items"
   ]
  },
  {
   "cell_type": "code",
   "execution_count": null,
   "id": "20f1c495-33b5-4c05-80da-07484c9f7b7b",
   "metadata": {},
   "outputs": [],
   "source": []
  },
  {
   "cell_type": "markdown",
   "id": "45dc7401-8f03-44f1-a5d3-37b26644c984",
   "metadata": {},
   "source": [
    "Que 2.What are the two tuple methods in python? Give an example of each method .Give an example of each method.Give a reason why tuples have only two in-built methods as compared to lists.\n",
    "\n",
    "Ans. Python Tuple Methods.\n",
    "\n",
    "\n",
    "count():Returns the number of times a specified value occurs in a tuple\n",
    "\n",
    "index():Searches the tuple for a specified value and returns the position of where it was found\n",
    "\n",
    "Tuples have only 2 in-built function because of immutablility.\n",
    "In a tuple, changes and errors don't usually occur because of immutability"
   ]
  },
  {
   "cell_type": "code",
   "execution_count": 10,
   "id": "6b11c830-9e2a-4a5d-8aab-12f685d6edef",
   "metadata": {},
   "outputs": [
    {
     "data": {
      "text/plain": [
       "(1, 2, 34, 56.67, 'Deepa', True, 4.0)"
      ]
     },
     "execution_count": 10,
     "metadata": {},
     "output_type": "execute_result"
    }
   ],
   "source": [
    "t=(1,2,34,56.67,\"Deepa\",True,4.0)\n",
    "t"
   ]
  },
  {
   "cell_type": "code",
   "execution_count": 11,
   "id": "67d2556d-6cab-421b-abc6-c86ebba6ecf8",
   "metadata": {},
   "outputs": [
    {
     "data": {
      "text/plain": [
       "2"
      ]
     },
     "execution_count": 11,
     "metadata": {},
     "output_type": "execute_result"
    }
   ],
   "source": [
    "t.count(1)"
   ]
  },
  {
   "cell_type": "code",
   "execution_count": 12,
   "id": "15a6f271-8a59-4970-ad51-243193c15361",
   "metadata": {},
   "outputs": [
    {
     "data": {
      "text/plain": [
       "3"
      ]
     },
     "execution_count": 12,
     "metadata": {},
     "output_type": "execute_result"
    }
   ],
   "source": [
    "t.index(56.67)"
   ]
  },
  {
   "cell_type": "markdown",
   "id": "a968bbc2-13b8-4ff3-aff0-91aab19a042a",
   "metadata": {},
   "source": [
    "Que 3.Which collection datatypes in python do not allow duplicate items?Write a code using a set to remove duplicate from the given list.\n",
    "\n",
    "list=[1,1,1,2,1,3,1,4,2,1,2,2,2,3,2,4,3,1,3,2,3,3,3,4,4,1,4,2,4,3,4\n",
    "\n",
    "Ans. Set is a collection which is unordered and unindexed. No duplicate members.\n"
   ]
  },
  {
   "cell_type": "code",
   "execution_count": 13,
   "id": "dcce1185-f6b6-458a-8c8f-28c4f65921e8",
   "metadata": {},
   "outputs": [],
   "source": [
    "list=[1,1,1,2,1,3,1,4,2,1,2,2,2,3,2,4,3,1,3,2,3,3,3,4,4,1,4,2,4,3,4,4]"
   ]
  },
  {
   "cell_type": "code",
   "execution_count": 14,
   "id": "70562ff0-61c1-4dcc-aca0-cbe7587dc682",
   "metadata": {},
   "outputs": [
    {
     "data": {
      "text/plain": [
       "{1, 2, 3, 4}"
      ]
     },
     "execution_count": 14,
     "metadata": {},
     "output_type": "execute_result"
    }
   ],
   "source": [
    "set(list)    #typecasting in set"
   ]
  },
  {
   "cell_type": "code",
   "execution_count": null,
   "id": "08e106b8-b5e3-4f66-b221-42fe70ea536d",
   "metadata": {},
   "outputs": [],
   "source": []
  },
  {
   "cell_type": "markdown",
   "id": "18220df3-09b5-43d4-9a53-f780f43f9414",
   "metadata": {},
   "source": [
    "Que 4. Explain the difference between the union() and update() methods for a set.Give an example of each method.\n",
    "\n",
    "Ans. update() adds all missing elements to the set on which it is called\n",
    "    \n",
    "     set. union() creates a new set. "
   ]
  },
  {
   "cell_type": "code",
   "execution_count": 16,
   "id": "cc088578-b3ee-49cb-b888-76d60d3d8d72",
   "metadata": {},
   "outputs": [],
   "source": [
    "set1={1,2,3,5,\"Tom\",\"Mary\"}"
   ]
  },
  {
   "cell_type": "code",
   "execution_count": 17,
   "id": "2fc6021b-126e-42b2-b6a2-f4e2bdc47170",
   "metadata": {},
   "outputs": [],
   "source": [
    "set2={5,6,7,8,9,\"Harry\",\"Misty\"}"
   ]
  },
  {
   "cell_type": "code",
   "execution_count": 18,
   "id": "2dc0d596-ae16-45d2-85b1-2f7201f10ebd",
   "metadata": {},
   "outputs": [],
   "source": [
    "set1.update(set2)"
   ]
  },
  {
   "cell_type": "code",
   "execution_count": 19,
   "id": "c457b594-45ae-4abc-a946-c66ef32390e9",
   "metadata": {},
   "outputs": [
    {
     "data": {
      "text/plain": [
       "{1, 2, 3, 5, 6, 7, 8, 9, 'Harry', 'Mary', 'Misty', 'Tom'}"
      ]
     },
     "execution_count": 19,
     "metadata": {},
     "output_type": "execute_result"
    }
   ],
   "source": [
    "set1"
   ]
  },
  {
   "cell_type": "code",
   "execution_count": 20,
   "id": "f5efbd49-6dce-42b4-b7dd-fc30638998ad",
   "metadata": {},
   "outputs": [
    {
     "data": {
      "text/plain": [
       "{1, 2, 3, 5, 6, 7, 8, 9, 'Harry', 'Mary', 'Misty', 'Tom'}"
      ]
     },
     "execution_count": 20,
     "metadata": {},
     "output_type": "execute_result"
    }
   ],
   "source": [
    "set1.union(set2)"
   ]
  },
  {
   "cell_type": "code",
   "execution_count": null,
   "id": "0ee570c2-6345-4064-b595-1052bba6d72d",
   "metadata": {},
   "outputs": [],
   "source": []
  },
  {
   "cell_type": "markdown",
   "id": "a51d4ff3-d2c6-4ecb-abbc-daf0e0f8ff97",
   "metadata": {},
   "source": [
    "Que 5. What is a dictionery?Give an example.Also, state whether a dictionery is ordered and unordered?\n",
    "\n",
    "Ans. A dictionary is a kind of data structure that stores items in key-value pairs. A key is a unique identifier for an item, and a value is the data associated with that key.Dictionaries are mutable in Python, which means they can be changed after they are created. They are also unordered, indicating the items in a dictionary are not stored in any particular order."
   ]
  },
  {
   "cell_type": "code",
   "execution_count": 22,
   "id": "0ce531db-fb09-4dac-9e84-aea90d4e7054",
   "metadata": {},
   "outputs": [
    {
     "data": {
      "text/plain": [
       "{'Name': 'Deepa', 'Course': 'CEDS'}"
      ]
     },
     "execution_count": 22,
     "metadata": {},
     "output_type": "execute_result"
    }
   ],
   "source": [
    "Dict={\"Name\":\"Deepa\",\"Course\":\"CEDS\"}\n",
    "Dict"
   ]
  },
  {
   "cell_type": "code",
   "execution_count": null,
   "id": "2e924b8c-f7ea-4253-bd82-66665cb2cc0b",
   "metadata": {},
   "outputs": [],
   "source": []
  },
  {
   "cell_type": "markdown",
   "id": "a8071b34-f051-4a3f-9926-7d68ae7f4b72",
   "metadata": {},
   "source": [
    "Que 6. Can we create a nested dictionery?If so,please give an example by creating a simple one-level nested dictionery.\n",
    "\n",
    "Ans. Yes,we can create a nested dictionery."
   ]
  },
  {
   "cell_type": "code",
   "execution_count": 25,
   "id": "89b02462-1f64-473e-88f2-57d9e2d956ff",
   "metadata": {},
   "outputs": [],
   "source": [
    "dict1={\"Name\":\"Deepa\",\"Course\":{\"pw skill course\":\"Data Scienc Master\",\"Duration\":2}}"
   ]
  },
  {
   "cell_type": "code",
   "execution_count": 26,
   "id": "c848e1df-0a7d-4776-ae81-704d64a05413",
   "metadata": {},
   "outputs": [
    {
     "data": {
      "text/plain": [
       "{'Name': 'Deepa',\n",
       " 'Course': {'pw skill course': 'Data Scienc Master', 'Duration': 2}}"
      ]
     },
     "execution_count": 26,
     "metadata": {},
     "output_type": "execute_result"
    }
   ],
   "source": [
    "dict1"
   ]
  },
  {
   "cell_type": "code",
   "execution_count": null,
   "id": "cb6e192d-becd-4e98-bc47-ed3630c3d899",
   "metadata": {},
   "outputs": [],
   "source": []
  },
  {
   "cell_type": "markdown",
   "id": "ca21ad01-1440-4863-ad5c-6a2b01fc55ba",
   "metadata": {},
   "source": [
    "Que 7.Using SetDefault()method,create key named topics in the given dictionary and also add the value of the key as this list['python','machine learning','Deep learning']\n",
    "\n",
    "dict1={'language':'python','course':'datasciencemasters'}\n",
    "\n",
    "Ans. Python Dictionary setdefault() returns the value of a key (if the key is in dictionary). Else, it inserts a key with the default value to the dictionary."
   ]
  },
  {
   "cell_type": "code",
   "execution_count": 27,
   "id": "ce5772ee-d358-48eb-908b-d8ed0863055c",
   "metadata": {},
   "outputs": [
    {
     "name": "stdout",
     "output_type": "stream",
     "text": [
      "{'a': 97, 'b': 98, 'c': 99, 'd': 100, 'topics': ['python', 'machine learning', 'Deep learning']}\n"
     ]
    }
   ],
   "source": [
    "d = {'a': 97, 'b': 98, 'c': 99, 'd': 100}\n",
    "d.setdefault('topics', ['python','machine learning','Deep learning'])\n",
    "print(d)"
   ]
  },
  {
   "cell_type": "code",
   "execution_count": null,
   "id": "1ef25907-e032-4ca5-adf4-a3b1ffdbe8b2",
   "metadata": {},
   "outputs": [],
   "source": []
  },
  {
   "cell_type": "markdown",
   "id": "b5d5e6f2-4743-460f-b64e-b7a8ed092a9d",
   "metadata": {},
   "source": [
    "Que 8.What are the three view objects in dictionaries?Use the three-in-built methods in python to display these 3 view objects for the given dictionery.\n",
    "\n",
    "dict1=['sport':'cricket','teams':['India','Australia','England','South Africa','Sri Lanka','New Zealand']]\n",
    "\n",
    "Ans.The main view objects of dictionary in python are keys, values and items. They provide a non-constant view of the dictionary’s entries.\n",
    "\n",
    "keys:\n",
    "The view object keys represent all the keys in a dictionary. You can retrieve the contents of this object using the keys() method.\n",
    "\n",
    "Values:\n",
    "values() is an built in method of Python programming language which returns a view object. That view object contains the value of the dictionary as a list\n",
    "\n",
    "Items\n",
    "The items() method returns a new view of the dictionary’s items ((key, value) pairs) as a list with all dictionary keys with values"
   ]
  },
  {
   "cell_type": "code",
   "execution_count": 31,
   "id": "6cd51eb8-c04d-4d1a-8a73-c9faba2b30d1",
   "metadata": {},
   "outputs": [
    {
     "name": "stdout",
     "output_type": "stream",
     "text": [
      "dict_keys(['sport', 'teams'])\n"
     ]
    }
   ],
   "source": [
    "dict1={'sport':'cricket','teams':{'India','Australia','England','South Africa','Sri Lanka','New Zealand'}}\n",
    "k = dict1.keys()\n",
    "print(k)"
   ]
  },
  {
   "cell_type": "code",
   "execution_count": 32,
   "id": "e5ed8376-7019-4135-aa9c-66ca6f39e0ac",
   "metadata": {},
   "outputs": [
    {
     "name": "stdout",
     "output_type": "stream",
     "text": [
      "dict_values(['cricket', {'England', 'India', 'Australia', 'New Zealand', 'Sri Lanka', 'South Africa'}])\n"
     ]
    }
   ],
   "source": [
    "dict1={'sport':'cricket','teams':{'India','Australia','England','South Africa','Sri Lanka','New Zealand'}}\n",
    "v = dict1.values()\n",
    "print(v)"
   ]
  },
  {
   "cell_type": "code",
   "execution_count": 33,
   "id": "54a61c20-8eb6-4d54-ae80-18bc5aff9605",
   "metadata": {},
   "outputs": [
    {
     "name": "stdout",
     "output_type": "stream",
     "text": [
      "dict_items([('sport', 'cricket'), ('teams', {'England', 'India', 'Australia', 'New Zealand', 'Sri Lanka', 'South Africa'})])\n"
     ]
    }
   ],
   "source": [
    "dict1={'sport':'cricket','teams':{'India','Australia','England','South Africa','Sri Lanka','New Zealand'}}\n",
    "i = dict1.items()\n",
    "print(i)"
   ]
  }
 ],
 "metadata": {
  "kernelspec": {
   "display_name": "Python 3 (ipykernel)",
   "language": "python",
   "name": "python3"
  },
  "language_info": {
   "codemirror_mode": {
    "name": "ipython",
    "version": 3
   },
   "file_extension": ".py",
   "mimetype": "text/x-python",
   "name": "python",
   "nbconvert_exporter": "python",
   "pygments_lexer": "ipython3",
   "version": "3.10.8"
  }
 },
 "nbformat": 4,
 "nbformat_minor": 5
}
