{
 "cells": [
  {
   "cell_type": "markdown",
   "id": "9f23dc0f-f48d-4096-9181-61cd6d07ec8c",
   "metadata": {},
   "source": [
    "## F Test with python"
   ]
  },
  {
   "cell_type": "markdown",
   "id": "283358ea-f283-47de-ace9-40a24d59464c",
   "metadata": {},
   "source": [
    "#### Evidence to say that the population variance is not equal\n",
    "\n",
    "check the conclusion whether one worker is better than the  other worker"
   ]
  },
  {
   "cell_type": "code",
   "execution_count": 1,
   "id": "1b8e8465-9d59-4e8b-ab37-1b3cbe977ec9",
   "metadata": {},
   "outputs": [],
   "source": [
    "worker1=[18,19,22,25,27,28,41,45,51,55]\n",
    "worker2=[14,15,15,17,18,22,25,25,27,34]"
   ]
  },
  {
   "cell_type": "code",
   "execution_count": 2,
   "id": "d547955d-34dc-44ee-b61a-a126555374f0",
   "metadata": {},
   "outputs": [],
   "source": [
    "#Calculate teh f test statistics\n",
    "import numpy as np\n",
    "# divide the var of one sample with the variance of another sample \n",
    "f_test= np.var(worker1)/np.var(worker2)"
   ]
  },
  {
   "cell_type": "code",
   "execution_count": 3,
   "id": "5c011c38-acd9-416b-ace3-a0895195185b",
   "metadata": {},
   "outputs": [
    {
     "data": {
      "text/plain": [
       "4.387122002085506"
      ]
     },
     "execution_count": 3,
     "metadata": {},
     "output_type": "execute_result"
    }
   ],
   "source": [
    "f_test"
   ]
  },
  {
   "cell_type": "code",
   "execution_count": 4,
   "id": "d954ee20-3ce8-475d-99b7-661e2ad4fa52",
   "metadata": {},
   "outputs": [],
   "source": [
    "# degree of freedom\n",
    "df1=len(worker1)-1\n",
    "df2=len(worker2)-1\n",
    "significance=0.05"
   ]
  },
  {
   "cell_type": "code",
   "execution_count": 5,
   "id": "99081b41-a269-4381-89e7-58364824c736",
   "metadata": {},
   "outputs": [],
   "source": [
    "import scipy.stats as stat "
   ]
  },
  {
   "cell_type": "code",
   "execution_count": 6,
   "id": "eab79981-0a65-422c-81bc-c9f28089e924",
   "metadata": {},
   "outputs": [],
   "source": [
    "critical_value=stat.f.ppf(q=1-significance,dfn=df1,dfd=df2)"
   ]
  },
  {
   "cell_type": "code",
   "execution_count": 7,
   "id": "f80b15f2-5e10-4682-8c27-8b878c891858",
   "metadata": {},
   "outputs": [
    {
     "data": {
      "text/plain": [
       "3.178893104458269"
      ]
     },
     "execution_count": 7,
     "metadata": {},
     "output_type": "execute_result"
    }
   ],
   "source": [
    "critical_value"
   ]
  },
  {
   "cell_type": "code",
   "execution_count": 8,
   "id": "7d026dad-0235-4a73-98e6-740961c013c6",
   "metadata": {},
   "outputs": [
    {
     "name": "stdout",
     "output_type": "stream",
     "text": [
      "The null is rejected\n"
     ]
    }
   ],
   "source": [
    "if f_test>critical_value:\n",
    "    print(\"The null is rejected\")\n",
    "else:\n",
    "    print(\"We fail to reject the null value\")"
   ]
  },
  {
   "cell_type": "code",
   "execution_count": 9,
   "id": "80401359-8c37-4791-9555-ff68d11f3705",
   "metadata": {},
   "outputs": [],
   "source": [
    "#Conclution: Atleast one worker is better from the another worker(There is an variance)"
   ]
  }
 ],
 "metadata": {
  "kernelspec": {
   "display_name": "Python 3 (ipykernel)",
   "language": "python",
   "name": "python3"
  },
  "language_info": {
   "codemirror_mode": {
    "name": "ipython",
    "version": 3
   },
   "file_extension": ".py",
   "mimetype": "text/x-python",
   "name": "python",
   "nbconvert_exporter": "python",
   "pygments_lexer": "ipython3",
   "version": "3.10.8"
  }
 },
 "nbformat": 4,
 "nbformat_minor": 5
}
