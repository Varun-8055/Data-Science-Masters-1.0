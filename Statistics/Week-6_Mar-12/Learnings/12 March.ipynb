{
 "cells": [
  {
   "cell_type": "markdown",
   "id": "0b9ae92e-6a7c-480d-a85b-2ba1c7db8f24",
   "metadata": {},
   "source": [
    "## Chi Square with python"
   ]
  },
  {
   "cell_type": "code",
   "execution_count": 1,
   "id": "fd7af074-29b7-4a21-822c-4d1787fc0f53",
   "metadata": {},
   "outputs": [],
   "source": [
    "import scipy.stats as stat\n",
    "import numpy as np"
   ]
  },
  {
   "cell_type": "markdown",
   "id": "8537b2d5-52ae-4c22-8418-9d07fa1e8188",
   "metadata": {},
   "source": [
    "##### Que: No of Hours student studies daily on a weekly basis.Check whether the both data is equal or not "
   ]
  },
  {
   "cell_type": "code",
   "execution_count": 3,
   "id": "b85f06c7-403e-40e4-949c-b4e0ec8792b1",
   "metadata": {},
   "outputs": [],
   "source": [
    "#Weekly wise data \n",
    "Expected_data=[8,6,7,9,6,9,7]   #data giveen by the wardon "
   ]
  },
  {
   "cell_type": "code",
   "execution_count": 4,
   "id": "f10c7fe5-1ff6-43b7-93ac-8b731c0cf37a",
   "metadata": {},
   "outputs": [],
   "source": [
    "Observed_data=[7,8,6,9,9,6,7]    #Data we collect from a survey or taking sample "
   ]
  },
  {
   "cell_type": "code",
   "execution_count": null,
   "id": "7e02daff-6fe7-485d-a33e-41357ac17280",
   "metadata": {},
   "outputs": [],
   "source": [
    "#Condition : The submission of both the data should be equal"
   ]
  },
  {
   "cell_type": "code",
   "execution_count": 5,
   "id": "8a71c3f1-198b-49d3-9e58-0c01e2b74ce3",
   "metadata": {},
   "outputs": [
    {
     "data": {
      "text/plain": [
       "(52, 52)"
      ]
     },
     "execution_count": 5,
     "metadata": {},
     "output_type": "execute_result"
    }
   ],
   "source": [
    "sum(Expected_data),sum(Observed_data)"
   ]
  },
  {
   "cell_type": "code",
   "execution_count": null,
   "id": "e76ed08f-06fc-4a58-a17c-c0c8b0b0a379",
   "metadata": {},
   "outputs": [],
   "source": [
    "# Now we can apply the chi square test"
   ]
  },
  {
   "cell_type": "code",
   "execution_count": 6,
   "id": "a9b8b441-f950-48d6-8815-008064fd1291",
   "metadata": {},
   "outputs": [],
   "source": [
    "chisquare_value,p_value=stat.chisquare(Expected_data,Observed_data)"
   ]
  },
  {
   "cell_type": "code",
   "execution_count": 7,
   "id": "aa07d453-6b9f-47a5-aaf4-a453dc49b489",
   "metadata": {},
   "outputs": [
    {
     "name": "stdout",
     "output_type": "stream",
     "text": [
      "3.3095238095238093\n",
      "0.769114675518927\n"
     ]
    },
    {
     "data": {
      "text/plain": [
       "(None, None)"
      ]
     },
     "execution_count": 7,
     "metadata": {},
     "output_type": "execute_result"
    }
   ],
   "source": [
    "print(chisquare_value),print(p_value)"
   ]
  },
  {
   "cell_type": "code",
   "execution_count": null,
   "id": "555832d2-a529-4e28-9b15-f1dd3c5df6b6",
   "metadata": {},
   "outputs": [],
   "source": [
    "# Find the critical value using significance value "
   ]
  },
  {
   "cell_type": "code",
   "execution_count": 9,
   "id": "9d1f5017-efdc-42de-87e9-236cc3732fee",
   "metadata": {},
   "outputs": [],
   "source": [
    "significance=0.05\n",
    "dof=len(Expected_data)-1\n",
    "critical_value=stat.chi2.ppf(1-significance,dof)   #This will give the critical value (parameter is confidence interval,dof)"
   ]
  },
  {
   "cell_type": "code",
   "execution_count": 10,
   "id": "6858ff1a-cd51-4a89-bb9d-cc5fde17c9da",
   "metadata": {},
   "outputs": [
    {
     "data": {
      "text/plain": [
       "12.591587243743977"
      ]
     },
     "execution_count": 10,
     "metadata": {},
     "output_type": "execute_result"
    }
   ],
   "source": [
    "critical_value"
   ]
  },
  {
   "cell_type": "code",
   "execution_count": 11,
   "id": "ef6313ec-447f-46f8-a472-e72ba735db23",
   "metadata": {},
   "outputs": [
    {
     "name": "stdout",
     "output_type": "stream",
     "text": [
      "We fail to reject the null value\n"
     ]
    }
   ],
   "source": [
    "if chisquare_value>critical_value:\n",
    "    print(\"The null is rejected\")\n",
    "else:\n",
    "    print(\"We fail to reject the null value\")"
   ]
  },
  {
   "cell_type": "code",
   "execution_count": null,
   "id": "67e5c265-4f7c-4f1e-897e-a12965dfebd7",
   "metadata": {},
   "outputs": [],
   "source": [
    "# Conclution the data provide by warden and our sample both are matching in terms of hours"
   ]
  }
 ],
 "metadata": {
  "kernelspec": {
   "display_name": "Python 3 (ipykernel)",
   "language": "python",
   "name": "python3"
  },
  "language_info": {
   "codemirror_mode": {
    "name": "ipython",
    "version": 3
   },
   "file_extension": ".py",
   "mimetype": "text/x-python",
   "name": "python",
   "nbconvert_exporter": "python",
   "pygments_lexer": "ipython3",
   "version": "3.10.8"
  }
 },
 "nbformat": 4,
 "nbformat_minor": 5
}
