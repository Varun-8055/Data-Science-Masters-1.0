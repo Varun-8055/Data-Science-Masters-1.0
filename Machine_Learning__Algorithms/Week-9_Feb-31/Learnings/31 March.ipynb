{
 "cells": [
  {
   "cell_type": "markdown",
   "id": "2859e76f-18a3-49a6-af35-a63abd1d19df",
   "metadata": {},
   "source": [
    "we have done EDA and model training on the algerian Dataset.Now we create a end to end ML project where we will getting an web application, deploy it on aws"
   ]
  }
 ],
 "metadata": {
  "kernelspec": {
   "display_name": "Python 3 (ipykernel)",
   "language": "python",
   "name": "python3"
  },
  "language_info": {
   "codemirror_mode": {
    "name": "ipython",
    "version": 3
   },
   "file_extension": ".py",
   "mimetype": "text/x-python",
   "name": "python",
   "nbconvert_exporter": "python",
   "pygments_lexer": "ipython3",
   "version": "3.10.8"
  }
 },
 "nbformat": 4,
 "nbformat_minor": 5
}
