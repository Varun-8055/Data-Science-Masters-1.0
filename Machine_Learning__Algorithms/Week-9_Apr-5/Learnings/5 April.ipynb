{
 "cells": [
  {
   "cell_type": "markdown",
   "id": "66d42097-a008-4c7f-9d83-d3e9ccb38b60",
   "metadata": {},
   "source": [
    "### Decision Tree Regressor implementation"
   ]
  },
  {
   "cell_type": "code",
   "execution_count": 1,
   "id": "a7e603e5-3fc5-40c1-a4b1-408d15f1c635",
   "metadata": {},
   "outputs": [],
   "source": [
    "import pandas as pd\n",
    "import matplotlib.pyplot as plt\n",
    "%matplotlib inline"
   ]
  },
  {
   "cell_type": "markdown",
   "id": "9ce35f37-6894-4c59-9c4a-33c31e013d50",
   "metadata": {},
   "source": [
    "### California Housing Pricing Dataset"
   ]
  },
  {
   "cell_type": "code",
   "execution_count": 2,
   "id": "1a70f525-169e-4dbf-967b-aa88bda238ad",
   "metadata": {},
   "outputs": [],
   "source": [
    "from sklearn.datasets import fetch_california_housing\n",
    "california_df=fetch_california_housing()"
   ]
  },
  {
   "cell_type": "code",
   "execution_count": 3,
   "id": "6e7ec592-e335-494e-b9d6-5385deae3a07",
   "metadata": {},
   "outputs": [
    {
     "data": {
      "text/plain": [
       "{'data': array([[   8.3252    ,   41.        ,    6.98412698, ...,    2.55555556,\n",
       "           37.88      , -122.23      ],\n",
       "        [   8.3014    ,   21.        ,    6.23813708, ...,    2.10984183,\n",
       "           37.86      , -122.22      ],\n",
       "        [   7.2574    ,   52.        ,    8.28813559, ...,    2.80225989,\n",
       "           37.85      , -122.24      ],\n",
       "        ...,\n",
       "        [   1.7       ,   17.        ,    5.20554273, ...,    2.3256351 ,\n",
       "           39.43      , -121.22      ],\n",
       "        [   1.8672    ,   18.        ,    5.32951289, ...,    2.12320917,\n",
       "           39.43      , -121.32      ],\n",
       "        [   2.3886    ,   16.        ,    5.25471698, ...,    2.61698113,\n",
       "           39.37      , -121.24      ]]),\n",
       " 'target': array([4.526, 3.585, 3.521, ..., 0.923, 0.847, 0.894]),\n",
       " 'frame': None,\n",
       " 'target_names': ['MedHouseVal'],\n",
       " 'feature_names': ['MedInc',\n",
       "  'HouseAge',\n",
       "  'AveRooms',\n",
       "  'AveBedrms',\n",
       "  'Population',\n",
       "  'AveOccup',\n",
       "  'Latitude',\n",
       "  'Longitude'],\n",
       " 'DESCR': '.. _california_housing_dataset:\\n\\nCalifornia Housing dataset\\n--------------------------\\n\\n**Data Set Characteristics:**\\n\\n    :Number of Instances: 20640\\n\\n    :Number of Attributes: 8 numeric, predictive attributes and the target\\n\\n    :Attribute Information:\\n        - MedInc        median income in block group\\n        - HouseAge      median house age in block group\\n        - AveRooms      average number of rooms per household\\n        - AveBedrms     average number of bedrooms per household\\n        - Population    block group population\\n        - AveOccup      average number of household members\\n        - Latitude      block group latitude\\n        - Longitude     block group longitude\\n\\n    :Missing Attribute Values: None\\n\\nThis dataset was obtained from the StatLib repository.\\nhttps://www.dcc.fc.up.pt/~ltorgo/Regression/cal_housing.html\\n\\nThe target variable is the median house value for California districts,\\nexpressed in hundreds of thousands of dollars ($100,000).\\n\\nThis dataset was derived from the 1990 U.S. census, using one row per census\\nblock group. A block group is the smallest geographical unit for which the U.S.\\nCensus Bureau publishes sample data (a block group typically has a population\\nof 600 to 3,000 people).\\n\\nAn household is a group of people residing within a home. Since the average\\nnumber of rooms and bedrooms in this dataset are provided per household, these\\ncolumns may take surpinsingly large values for block groups with few households\\nand many empty houses, such as vacation resorts.\\n\\nIt can be downloaded/loaded using the\\n:func:`sklearn.datasets.fetch_california_housing` function.\\n\\n.. topic:: References\\n\\n    - Pace, R. Kelley and Ronald Barry, Sparse Spatial Autoregressions,\\n      Statistics and Probability Letters, 33 (1997) 291-297\\n'}"
      ]
     },
     "execution_count": 3,
     "metadata": {},
     "output_type": "execute_result"
    }
   ],
   "source": [
    "california_df"
   ]
  },
  {
   "cell_type": "code",
   "execution_count": 4,
   "id": "d29de386-3325-41d6-abdf-1fd39b17162f",
   "metadata": {},
   "outputs": [],
   "source": [
    "df=pd.DataFrame(california_df.data,columns=california_df.feature_names)\n",
    "df['Target']=california_df.target  # total dataset contain 20640 around data, we will only take around 25% of the data "
   ]
  },
  {
   "cell_type": "code",
   "execution_count": 5,
   "id": "e0fd235e-a220-43d9-9975-2d5d07e4f997",
   "metadata": {},
   "outputs": [
    {
     "data": {
      "text/plain": [
       "(20640, 9)"
      ]
     },
     "execution_count": 5,
     "metadata": {},
     "output_type": "execute_result"
    }
   ],
   "source": [
    "df.shape"
   ]
  },
  {
   "cell_type": "code",
   "execution_count": 6,
   "id": "3699c149-e326-4f7e-8f1b-38f1023b6188",
   "metadata": {},
   "outputs": [],
   "source": [
    "## taking sample data \n",
    "df=df.sample(frac=0.25)  # we will not take entire because hyperparameter tunning will take alot of time"
   ]
  },
  {
   "cell_type": "code",
   "execution_count": 7,
   "id": "f361816d-33c0-4d68-8e9a-6574a142fda4",
   "metadata": {},
   "outputs": [
    {
     "data": {
      "text/plain": [
       "(5160, 9)"
      ]
     },
     "execution_count": 7,
     "metadata": {},
     "output_type": "execute_result"
    }
   ],
   "source": [
    "df.shape"
   ]
  },
  {
   "cell_type": "code",
   "execution_count": 8,
   "id": "4dfa8a6f-b2f5-4a61-bf74-73393fb991c7",
   "metadata": {},
   "outputs": [
    {
     "data": {
      "text/html": [
       "<div>\n",
       "<style scoped>\n",
       "    .dataframe tbody tr th:only-of-type {\n",
       "        vertical-align: middle;\n",
       "    }\n",
       "\n",
       "    .dataframe tbody tr th {\n",
       "        vertical-align: top;\n",
       "    }\n",
       "\n",
       "    .dataframe thead th {\n",
       "        text-align: right;\n",
       "    }\n",
       "</style>\n",
       "<table border=\"1\" class=\"dataframe\">\n",
       "  <thead>\n",
       "    <tr style=\"text-align: right;\">\n",
       "      <th></th>\n",
       "      <th>MedInc</th>\n",
       "      <th>HouseAge</th>\n",
       "      <th>AveRooms</th>\n",
       "      <th>AveBedrms</th>\n",
       "      <th>Population</th>\n",
       "      <th>AveOccup</th>\n",
       "      <th>Latitude</th>\n",
       "      <th>Longitude</th>\n",
       "      <th>Target</th>\n",
       "    </tr>\n",
       "  </thead>\n",
       "  <tbody>\n",
       "    <tr>\n",
       "      <th>5929</th>\n",
       "      <td>4.8125</td>\n",
       "      <td>16.0</td>\n",
       "      <td>5.439462</td>\n",
       "      <td>0.955157</td>\n",
       "      <td>1319.0</td>\n",
       "      <td>2.957399</td>\n",
       "      <td>34.12</td>\n",
       "      <td>-117.79</td>\n",
       "      <td>2.245</td>\n",
       "    </tr>\n",
       "    <tr>\n",
       "      <th>9984</th>\n",
       "      <td>4.6500</td>\n",
       "      <td>43.0</td>\n",
       "      <td>7.126280</td>\n",
       "      <td>1.293515</td>\n",
       "      <td>721.0</td>\n",
       "      <td>2.460751</td>\n",
       "      <td>38.56</td>\n",
       "      <td>-122.59</td>\n",
       "      <td>2.450</td>\n",
       "    </tr>\n",
       "    <tr>\n",
       "      <th>11446</th>\n",
       "      <td>6.9790</td>\n",
       "      <td>17.0</td>\n",
       "      <td>6.705706</td>\n",
       "      <td>0.960961</td>\n",
       "      <td>2166.0</td>\n",
       "      <td>3.252252</td>\n",
       "      <td>33.67</td>\n",
       "      <td>-117.97</td>\n",
       "      <td>3.307</td>\n",
       "    </tr>\n",
       "    <tr>\n",
       "      <th>629</th>\n",
       "      <td>3.3710</td>\n",
       "      <td>42.0</td>\n",
       "      <td>4.530120</td>\n",
       "      <td>0.992470</td>\n",
       "      <td>1817.0</td>\n",
       "      <td>2.736446</td>\n",
       "      <td>37.72</td>\n",
       "      <td>-122.17</td>\n",
       "      <td>1.650</td>\n",
       "    </tr>\n",
       "    <tr>\n",
       "      <th>19079</th>\n",
       "      <td>3.2727</td>\n",
       "      <td>17.0</td>\n",
       "      <td>5.234177</td>\n",
       "      <td>1.139241</td>\n",
       "      <td>1587.0</td>\n",
       "      <td>2.511076</td>\n",
       "      <td>38.32</td>\n",
       "      <td>-122.49</td>\n",
       "      <td>1.760</td>\n",
       "    </tr>\n",
       "  </tbody>\n",
       "</table>\n",
       "</div>"
      ],
      "text/plain": [
       "       MedInc  HouseAge  AveRooms  AveBedrms  Population  AveOccup  Latitude  \\\n",
       "5929   4.8125      16.0  5.439462   0.955157      1319.0  2.957399     34.12   \n",
       "9984   4.6500      43.0  7.126280   1.293515       721.0  2.460751     38.56   \n",
       "11446  6.9790      17.0  6.705706   0.960961      2166.0  3.252252     33.67   \n",
       "629    3.3710      42.0  4.530120   0.992470      1817.0  2.736446     37.72   \n",
       "19079  3.2727      17.0  5.234177   1.139241      1587.0  2.511076     38.32   \n",
       "\n",
       "       Longitude  Target  \n",
       "5929     -117.79   2.245  \n",
       "9984     -122.59   2.450  \n",
       "11446    -117.97   3.307  \n",
       "629      -122.17   1.650  \n",
       "19079    -122.49   1.760  "
      ]
     },
     "execution_count": 8,
     "metadata": {},
     "output_type": "execute_result"
    }
   ],
   "source": [
    "df.head()"
   ]
  },
  {
   "cell_type": "code",
   "execution_count": 9,
   "id": "a7682d08-f026-401a-8aff-f70ac730c3eb",
   "metadata": {},
   "outputs": [],
   "source": [
    "# independent feature \n",
    "x=df.iloc[:,:-1]\n",
    "# dependent feature \n",
    "y=df.iloc[:,-1]"
   ]
  },
  {
   "cell_type": "code",
   "execution_count": 10,
   "id": "27ab34ac-6446-435f-84c5-4baaf5a6fd34",
   "metadata": {},
   "outputs": [
    {
     "data": {
      "text/html": [
       "<div>\n",
       "<style scoped>\n",
       "    .dataframe tbody tr th:only-of-type {\n",
       "        vertical-align: middle;\n",
       "    }\n",
       "\n",
       "    .dataframe tbody tr th {\n",
       "        vertical-align: top;\n",
       "    }\n",
       "\n",
       "    .dataframe thead th {\n",
       "        text-align: right;\n",
       "    }\n",
       "</style>\n",
       "<table border=\"1\" class=\"dataframe\">\n",
       "  <thead>\n",
       "    <tr style=\"text-align: right;\">\n",
       "      <th></th>\n",
       "      <th>MedInc</th>\n",
       "      <th>HouseAge</th>\n",
       "      <th>AveRooms</th>\n",
       "      <th>AveBedrms</th>\n",
       "      <th>Population</th>\n",
       "      <th>AveOccup</th>\n",
       "      <th>Latitude</th>\n",
       "      <th>Longitude</th>\n",
       "    </tr>\n",
       "  </thead>\n",
       "  <tbody>\n",
       "    <tr>\n",
       "      <th>5929</th>\n",
       "      <td>4.8125</td>\n",
       "      <td>16.0</td>\n",
       "      <td>5.439462</td>\n",
       "      <td>0.955157</td>\n",
       "      <td>1319.0</td>\n",
       "      <td>2.957399</td>\n",
       "      <td>34.12</td>\n",
       "      <td>-117.79</td>\n",
       "    </tr>\n",
       "    <tr>\n",
       "      <th>9984</th>\n",
       "      <td>4.6500</td>\n",
       "      <td>43.0</td>\n",
       "      <td>7.126280</td>\n",
       "      <td>1.293515</td>\n",
       "      <td>721.0</td>\n",
       "      <td>2.460751</td>\n",
       "      <td>38.56</td>\n",
       "      <td>-122.59</td>\n",
       "    </tr>\n",
       "    <tr>\n",
       "      <th>11446</th>\n",
       "      <td>6.9790</td>\n",
       "      <td>17.0</td>\n",
       "      <td>6.705706</td>\n",
       "      <td>0.960961</td>\n",
       "      <td>2166.0</td>\n",
       "      <td>3.252252</td>\n",
       "      <td>33.67</td>\n",
       "      <td>-117.97</td>\n",
       "    </tr>\n",
       "    <tr>\n",
       "      <th>629</th>\n",
       "      <td>3.3710</td>\n",
       "      <td>42.0</td>\n",
       "      <td>4.530120</td>\n",
       "      <td>0.992470</td>\n",
       "      <td>1817.0</td>\n",
       "      <td>2.736446</td>\n",
       "      <td>37.72</td>\n",
       "      <td>-122.17</td>\n",
       "    </tr>\n",
       "    <tr>\n",
       "      <th>19079</th>\n",
       "      <td>3.2727</td>\n",
       "      <td>17.0</td>\n",
       "      <td>5.234177</td>\n",
       "      <td>1.139241</td>\n",
       "      <td>1587.0</td>\n",
       "      <td>2.511076</td>\n",
       "      <td>38.32</td>\n",
       "      <td>-122.49</td>\n",
       "    </tr>\n",
       "  </tbody>\n",
       "</table>\n",
       "</div>"
      ],
      "text/plain": [
       "       MedInc  HouseAge  AveRooms  AveBedrms  Population  AveOccup  Latitude  \\\n",
       "5929   4.8125      16.0  5.439462   0.955157      1319.0  2.957399     34.12   \n",
       "9984   4.6500      43.0  7.126280   1.293515       721.0  2.460751     38.56   \n",
       "11446  6.9790      17.0  6.705706   0.960961      2166.0  3.252252     33.67   \n",
       "629    3.3710      42.0  4.530120   0.992470      1817.0  2.736446     37.72   \n",
       "19079  3.2727      17.0  5.234177   1.139241      1587.0  2.511076     38.32   \n",
       "\n",
       "       Longitude  \n",
       "5929     -117.79  \n",
       "9984     -122.59  \n",
       "11446    -117.97  \n",
       "629      -122.17  \n",
       "19079    -122.49  "
      ]
     },
     "execution_count": 10,
     "metadata": {},
     "output_type": "execute_result"
    }
   ],
   "source": [
    "x.head()"
   ]
  },
  {
   "cell_type": "code",
   "execution_count": 11,
   "id": "93cdbfb9-e02c-4519-896c-a98c2353934d",
   "metadata": {},
   "outputs": [],
   "source": [
    "# train_test_split\n",
    "from sklearn.model_selection import train_test_split\n",
    "x_train,x_test,y_train,y_test=train_test_split(x,y,test_size=0.33,random_state=42)"
   ]
  },
  {
   "cell_type": "code",
   "execution_count": 12,
   "id": "884f8bb2-c2c5-4901-b1f6-c009373e9eb3",
   "metadata": {},
   "outputs": [],
   "source": [
    "from sklearn.tree import DecisionTreeRegressor\n",
    "regressor=DecisionTreeRegressor()"
   ]
  },
  {
   "cell_type": "code",
   "execution_count": 13,
   "id": "77370ef9-dd98-40b8-b804-4515b8cf79f6",
   "metadata": {},
   "outputs": [
    {
     "data": {
      "text/html": [
       "<style>#sk-container-id-1 {color: black;background-color: white;}#sk-container-id-1 pre{padding: 0;}#sk-container-id-1 div.sk-toggleable {background-color: white;}#sk-container-id-1 label.sk-toggleable__label {cursor: pointer;display: block;width: 100%;margin-bottom: 0;padding: 0.3em;box-sizing: border-box;text-align: center;}#sk-container-id-1 label.sk-toggleable__label-arrow:before {content: \"▸\";float: left;margin-right: 0.25em;color: #696969;}#sk-container-id-1 label.sk-toggleable__label-arrow:hover:before {color: black;}#sk-container-id-1 div.sk-estimator:hover label.sk-toggleable__label-arrow:before {color: black;}#sk-container-id-1 div.sk-toggleable__content {max-height: 0;max-width: 0;overflow: hidden;text-align: left;background-color: #f0f8ff;}#sk-container-id-1 div.sk-toggleable__content pre {margin: 0.2em;color: black;border-radius: 0.25em;background-color: #f0f8ff;}#sk-container-id-1 input.sk-toggleable__control:checked~div.sk-toggleable__content {max-height: 200px;max-width: 100%;overflow: auto;}#sk-container-id-1 input.sk-toggleable__control:checked~label.sk-toggleable__label-arrow:before {content: \"▾\";}#sk-container-id-1 div.sk-estimator input.sk-toggleable__control:checked~label.sk-toggleable__label {background-color: #d4ebff;}#sk-container-id-1 div.sk-label input.sk-toggleable__control:checked~label.sk-toggleable__label {background-color: #d4ebff;}#sk-container-id-1 input.sk-hidden--visually {border: 0;clip: rect(1px 1px 1px 1px);clip: rect(1px, 1px, 1px, 1px);height: 1px;margin: -1px;overflow: hidden;padding: 0;position: absolute;width: 1px;}#sk-container-id-1 div.sk-estimator {font-family: monospace;background-color: #f0f8ff;border: 1px dotted black;border-radius: 0.25em;box-sizing: border-box;margin-bottom: 0.5em;}#sk-container-id-1 div.sk-estimator:hover {background-color: #d4ebff;}#sk-container-id-1 div.sk-parallel-item::after {content: \"\";width: 100%;border-bottom: 1px solid gray;flex-grow: 1;}#sk-container-id-1 div.sk-label:hover label.sk-toggleable__label {background-color: #d4ebff;}#sk-container-id-1 div.sk-serial::before {content: \"\";position: absolute;border-left: 1px solid gray;box-sizing: border-box;top: 0;bottom: 0;left: 50%;z-index: 0;}#sk-container-id-1 div.sk-serial {display: flex;flex-direction: column;align-items: center;background-color: white;padding-right: 0.2em;padding-left: 0.2em;position: relative;}#sk-container-id-1 div.sk-item {position: relative;z-index: 1;}#sk-container-id-1 div.sk-parallel {display: flex;align-items: stretch;justify-content: center;background-color: white;position: relative;}#sk-container-id-1 div.sk-item::before, #sk-container-id-1 div.sk-parallel-item::before {content: \"\";position: absolute;border-left: 1px solid gray;box-sizing: border-box;top: 0;bottom: 0;left: 50%;z-index: -1;}#sk-container-id-1 div.sk-parallel-item {display: flex;flex-direction: column;z-index: 1;position: relative;background-color: white;}#sk-container-id-1 div.sk-parallel-item:first-child::after {align-self: flex-end;width: 50%;}#sk-container-id-1 div.sk-parallel-item:last-child::after {align-self: flex-start;width: 50%;}#sk-container-id-1 div.sk-parallel-item:only-child::after {width: 0;}#sk-container-id-1 div.sk-dashed-wrapped {border: 1px dashed gray;margin: 0 0.4em 0.5em 0.4em;box-sizing: border-box;padding-bottom: 0.4em;background-color: white;}#sk-container-id-1 div.sk-label label {font-family: monospace;font-weight: bold;display: inline-block;line-height: 1.2em;}#sk-container-id-1 div.sk-label-container {text-align: center;}#sk-container-id-1 div.sk-container {/* jupyter's `normalize.less` sets `[hidden] { display: none; }` but bootstrap.min.css set `[hidden] { display: none !important; }` so we also need the `!important` here to be able to override the default hidden behavior on the sphinx rendered scikit-learn.org. See: https://github.com/scikit-learn/scikit-learn/issues/21755 */display: inline-block !important;position: relative;}#sk-container-id-1 div.sk-text-repr-fallback {display: none;}</style><div id=\"sk-container-id-1\" class=\"sk-top-container\"><div class=\"sk-text-repr-fallback\"><pre>DecisionTreeRegressor()</pre><b>In a Jupyter environment, please rerun this cell to show the HTML representation or trust the notebook. <br />On GitHub, the HTML representation is unable to render, please try loading this page with nbviewer.org.</b></div><div class=\"sk-container\" hidden><div class=\"sk-item\"><div class=\"sk-estimator sk-toggleable\"><input class=\"sk-toggleable__control sk-hidden--visually\" id=\"sk-estimator-id-1\" type=\"checkbox\" checked><label for=\"sk-estimator-id-1\" class=\"sk-toggleable__label sk-toggleable__label-arrow\">DecisionTreeRegressor</label><div class=\"sk-toggleable__content\"><pre>DecisionTreeRegressor()</pre></div></div></div></div></div>"
      ],
      "text/plain": [
       "DecisionTreeRegressor()"
      ]
     },
     "execution_count": 13,
     "metadata": {},
     "output_type": "execute_result"
    }
   ],
   "source": [
    "regressor.fit(x_train,y_train)"
   ]
  },
  {
   "cell_type": "code",
   "execution_count": 14,
   "id": "89ba020d-8c66-4244-864c-cfbd713e6c6c",
   "metadata": {},
   "outputs": [],
   "source": [
    "y_pred=regressor.predict(x_test)"
   ]
  },
  {
   "cell_type": "code",
   "execution_count": 15,
   "id": "00be6cc0-126d-4b39-98fa-4aae6675e7d2",
   "metadata": {},
   "outputs": [
    {
     "data": {
      "text/plain": [
       "array([0.949, 1.778, 1.184, ..., 2.402, 0.548, 1.971])"
      ]
     },
     "execution_count": 15,
     "metadata": {},
     "output_type": "execute_result"
    }
   ],
   "source": [
    "y_pred"
   ]
  },
  {
   "cell_type": "code",
   "execution_count": 16,
   "id": "2135ba2c-8180-43e9-85b2-4c9b2369cce2",
   "metadata": {},
   "outputs": [],
   "source": [
    "from sklearn.metrics import r2_score"
   ]
  },
  {
   "cell_type": "code",
   "execution_count": 17,
   "id": "5f793fef-bcc7-4698-b22a-0a460bae7989",
   "metadata": {},
   "outputs": [],
   "source": [
    "score=r2_score(y_test,y_pred)"
   ]
  },
  {
   "cell_type": "code",
   "execution_count": 18,
   "id": "beb2b48f-d239-4ab0-8ea8-1bd2959cd37c",
   "metadata": {},
   "outputs": [
    {
     "data": {
      "text/plain": [
       "0.5320465245424344"
      ]
     },
     "execution_count": 18,
     "metadata": {},
     "output_type": "execute_result"
    }
   ],
   "source": [
    "score # accuracy "
   ]
  },
  {
   "cell_type": "code",
   "execution_count": 19,
   "id": "80416702-b48b-44e5-a70d-cc0aa251fd88",
   "metadata": {},
   "outputs": [],
   "source": [
    "# hyperparameter is for selecting what is right combination for the training \n",
    "# first we have to create dictionery fo parameter\n",
    "parameters={'criterion':['squared_error','friedman_mse','absolute_error','poisson'],\n",
    "            'splitter':['best','random'],\n",
    "            'max_depth':[1,2,3,4,5,6,7,8,9,10,11,12],\n",
    "            'max_features':['auto','sqrt','log2']\n",
    "}\n",
    "regressor=DecisionTreeRegressor()"
   ]
  },
  {
   "cell_type": "code",
   "execution_count": 25,
   "id": "84a90b90-e0ab-4408-a8f5-5432ea4cedda",
   "metadata": {},
   "outputs": [],
   "source": [
    "import warnings\n",
    "warnings.filterwarnings('ignore')\n",
    "from sklearn.model_selection import GridSearchCV\n",
    "regressorcv=GridSearchCV(regressor,param_grid=parameters,cv=2,scoring='neg_mean_squared_error')"
   ]
  },
  {
   "cell_type": "code",
   "execution_count": 26,
   "id": "1cd4d31a-b993-4e21-8c14-f88e035aa43b",
   "metadata": {},
   "outputs": [
    {
     "data": {
      "text/html": [
       "<style>#sk-container-id-2 {color: black;background-color: white;}#sk-container-id-2 pre{padding: 0;}#sk-container-id-2 div.sk-toggleable {background-color: white;}#sk-container-id-2 label.sk-toggleable__label {cursor: pointer;display: block;width: 100%;margin-bottom: 0;padding: 0.3em;box-sizing: border-box;text-align: center;}#sk-container-id-2 label.sk-toggleable__label-arrow:before {content: \"▸\";float: left;margin-right: 0.25em;color: #696969;}#sk-container-id-2 label.sk-toggleable__label-arrow:hover:before {color: black;}#sk-container-id-2 div.sk-estimator:hover label.sk-toggleable__label-arrow:before {color: black;}#sk-container-id-2 div.sk-toggleable__content {max-height: 0;max-width: 0;overflow: hidden;text-align: left;background-color: #f0f8ff;}#sk-container-id-2 div.sk-toggleable__content pre {margin: 0.2em;color: black;border-radius: 0.25em;background-color: #f0f8ff;}#sk-container-id-2 input.sk-toggleable__control:checked~div.sk-toggleable__content {max-height: 200px;max-width: 100%;overflow: auto;}#sk-container-id-2 input.sk-toggleable__control:checked~label.sk-toggleable__label-arrow:before {content: \"▾\";}#sk-container-id-2 div.sk-estimator input.sk-toggleable__control:checked~label.sk-toggleable__label {background-color: #d4ebff;}#sk-container-id-2 div.sk-label input.sk-toggleable__control:checked~label.sk-toggleable__label {background-color: #d4ebff;}#sk-container-id-2 input.sk-hidden--visually {border: 0;clip: rect(1px 1px 1px 1px);clip: rect(1px, 1px, 1px, 1px);height: 1px;margin: -1px;overflow: hidden;padding: 0;position: absolute;width: 1px;}#sk-container-id-2 div.sk-estimator {font-family: monospace;background-color: #f0f8ff;border: 1px dotted black;border-radius: 0.25em;box-sizing: border-box;margin-bottom: 0.5em;}#sk-container-id-2 div.sk-estimator:hover {background-color: #d4ebff;}#sk-container-id-2 div.sk-parallel-item::after {content: \"\";width: 100%;border-bottom: 1px solid gray;flex-grow: 1;}#sk-container-id-2 div.sk-label:hover label.sk-toggleable__label {background-color: #d4ebff;}#sk-container-id-2 div.sk-serial::before {content: \"\";position: absolute;border-left: 1px solid gray;box-sizing: border-box;top: 0;bottom: 0;left: 50%;z-index: 0;}#sk-container-id-2 div.sk-serial {display: flex;flex-direction: column;align-items: center;background-color: white;padding-right: 0.2em;padding-left: 0.2em;position: relative;}#sk-container-id-2 div.sk-item {position: relative;z-index: 1;}#sk-container-id-2 div.sk-parallel {display: flex;align-items: stretch;justify-content: center;background-color: white;position: relative;}#sk-container-id-2 div.sk-item::before, #sk-container-id-2 div.sk-parallel-item::before {content: \"\";position: absolute;border-left: 1px solid gray;box-sizing: border-box;top: 0;bottom: 0;left: 50%;z-index: -1;}#sk-container-id-2 div.sk-parallel-item {display: flex;flex-direction: column;z-index: 1;position: relative;background-color: white;}#sk-container-id-2 div.sk-parallel-item:first-child::after {align-self: flex-end;width: 50%;}#sk-container-id-2 div.sk-parallel-item:last-child::after {align-self: flex-start;width: 50%;}#sk-container-id-2 div.sk-parallel-item:only-child::after {width: 0;}#sk-container-id-2 div.sk-dashed-wrapped {border: 1px dashed gray;margin: 0 0.4em 0.5em 0.4em;box-sizing: border-box;padding-bottom: 0.4em;background-color: white;}#sk-container-id-2 div.sk-label label {font-family: monospace;font-weight: bold;display: inline-block;line-height: 1.2em;}#sk-container-id-2 div.sk-label-container {text-align: center;}#sk-container-id-2 div.sk-container {/* jupyter's `normalize.less` sets `[hidden] { display: none; }` but bootstrap.min.css set `[hidden] { display: none !important; }` so we also need the `!important` here to be able to override the default hidden behavior on the sphinx rendered scikit-learn.org. See: https://github.com/scikit-learn/scikit-learn/issues/21755 */display: inline-block !important;position: relative;}#sk-container-id-2 div.sk-text-repr-fallback {display: none;}</style><div id=\"sk-container-id-2\" class=\"sk-top-container\"><div class=\"sk-text-repr-fallback\"><pre>GridSearchCV(cv=2, estimator=DecisionTreeRegressor(),\n",
       "             param_grid={&#x27;criterion&#x27;: [&#x27;squared_error&#x27;, &#x27;friedman_mse&#x27;,\n",
       "                                       &#x27;absolute_error&#x27;, &#x27;poisson&#x27;],\n",
       "                         &#x27;max_depth&#x27;: [1, 2, 3, 4, 5, 6, 7, 8, 9, 10, 11, 12],\n",
       "                         &#x27;max_features&#x27;: [&#x27;auto&#x27;, &#x27;sqrt&#x27;, &#x27;log2&#x27;],\n",
       "                         &#x27;splitter&#x27;: [&#x27;best&#x27;, &#x27;random&#x27;]},\n",
       "             scoring=&#x27;neg_mean_squared_error&#x27;)</pre><b>In a Jupyter environment, please rerun this cell to show the HTML representation or trust the notebook. <br />On GitHub, the HTML representation is unable to render, please try loading this page with nbviewer.org.</b></div><div class=\"sk-container\" hidden><div class=\"sk-item sk-dashed-wrapped\"><div class=\"sk-label-container\"><div class=\"sk-label sk-toggleable\"><input class=\"sk-toggleable__control sk-hidden--visually\" id=\"sk-estimator-id-2\" type=\"checkbox\" ><label for=\"sk-estimator-id-2\" class=\"sk-toggleable__label sk-toggleable__label-arrow\">GridSearchCV</label><div class=\"sk-toggleable__content\"><pre>GridSearchCV(cv=2, estimator=DecisionTreeRegressor(),\n",
       "             param_grid={&#x27;criterion&#x27;: [&#x27;squared_error&#x27;, &#x27;friedman_mse&#x27;,\n",
       "                                       &#x27;absolute_error&#x27;, &#x27;poisson&#x27;],\n",
       "                         &#x27;max_depth&#x27;: [1, 2, 3, 4, 5, 6, 7, 8, 9, 10, 11, 12],\n",
       "                         &#x27;max_features&#x27;: [&#x27;auto&#x27;, &#x27;sqrt&#x27;, &#x27;log2&#x27;],\n",
       "                         &#x27;splitter&#x27;: [&#x27;best&#x27;, &#x27;random&#x27;]},\n",
       "             scoring=&#x27;neg_mean_squared_error&#x27;)</pre></div></div></div><div class=\"sk-parallel\"><div class=\"sk-parallel-item\"><div class=\"sk-item\"><div class=\"sk-label-container\"><div class=\"sk-label sk-toggleable\"><input class=\"sk-toggleable__control sk-hidden--visually\" id=\"sk-estimator-id-3\" type=\"checkbox\" ><label for=\"sk-estimator-id-3\" class=\"sk-toggleable__label sk-toggleable__label-arrow\">estimator: DecisionTreeRegressor</label><div class=\"sk-toggleable__content\"><pre>DecisionTreeRegressor()</pre></div></div></div><div class=\"sk-serial\"><div class=\"sk-item\"><div class=\"sk-estimator sk-toggleable\"><input class=\"sk-toggleable__control sk-hidden--visually\" id=\"sk-estimator-id-4\" type=\"checkbox\" ><label for=\"sk-estimator-id-4\" class=\"sk-toggleable__label sk-toggleable__label-arrow\">DecisionTreeRegressor</label><div class=\"sk-toggleable__content\"><pre>DecisionTreeRegressor()</pre></div></div></div></div></div></div></div></div></div></div>"
      ],
      "text/plain": [
       "GridSearchCV(cv=2, estimator=DecisionTreeRegressor(),\n",
       "             param_grid={'criterion': ['squared_error', 'friedman_mse',\n",
       "                                       'absolute_error', 'poisson'],\n",
       "                         'max_depth': [1, 2, 3, 4, 5, 6, 7, 8, 9, 10, 11, 12],\n",
       "                         'max_features': ['auto', 'sqrt', 'log2'],\n",
       "                         'splitter': ['best', 'random']},\n",
       "             scoring='neg_mean_squared_error')"
      ]
     },
     "execution_count": 26,
     "metadata": {},
     "output_type": "execute_result"
    }
   ],
   "source": [
    "regressorcv.fit(x_train,y_train)"
   ]
  },
  {
   "cell_type": "code",
   "execution_count": 27,
   "id": "3d500798-58e2-4fe9-bbed-1fa76a600b08",
   "metadata": {},
   "outputs": [
    {
     "data": {
      "text/plain": [
       "{'criterion': 'poisson',\n",
       " 'max_depth': 6,\n",
       " 'max_features': 'auto',\n",
       " 'splitter': 'best'}"
      ]
     },
     "execution_count": 27,
     "metadata": {},
     "output_type": "execute_result"
    }
   ],
   "source": [
    "regressorcv.best_params_"
   ]
  },
  {
   "cell_type": "code",
   "execution_count": 31,
   "id": "8d98392b-4d82-45ba-ac95-8e0c01dfe7d6",
   "metadata": {},
   "outputs": [],
   "source": [
    "regressor=DecisionTreeRegressor(criterion='poisson',max_depth=6,max_features='auto',splitter='best')"
   ]
  },
  {
   "cell_type": "code",
   "execution_count": 33,
   "id": "a101b556-f386-4fda-8a9c-a4d3cdb14e5d",
   "metadata": {},
   "outputs": [
    {
     "data": {
      "text/html": [
       "<style>#sk-container-id-3 {color: black;background-color: white;}#sk-container-id-3 pre{padding: 0;}#sk-container-id-3 div.sk-toggleable {background-color: white;}#sk-container-id-3 label.sk-toggleable__label {cursor: pointer;display: block;width: 100%;margin-bottom: 0;padding: 0.3em;box-sizing: border-box;text-align: center;}#sk-container-id-3 label.sk-toggleable__label-arrow:before {content: \"▸\";float: left;margin-right: 0.25em;color: #696969;}#sk-container-id-3 label.sk-toggleable__label-arrow:hover:before {color: black;}#sk-container-id-3 div.sk-estimator:hover label.sk-toggleable__label-arrow:before {color: black;}#sk-container-id-3 div.sk-toggleable__content {max-height: 0;max-width: 0;overflow: hidden;text-align: left;background-color: #f0f8ff;}#sk-container-id-3 div.sk-toggleable__content pre {margin: 0.2em;color: black;border-radius: 0.25em;background-color: #f0f8ff;}#sk-container-id-3 input.sk-toggleable__control:checked~div.sk-toggleable__content {max-height: 200px;max-width: 100%;overflow: auto;}#sk-container-id-3 input.sk-toggleable__control:checked~label.sk-toggleable__label-arrow:before {content: \"▾\";}#sk-container-id-3 div.sk-estimator input.sk-toggleable__control:checked~label.sk-toggleable__label {background-color: #d4ebff;}#sk-container-id-3 div.sk-label input.sk-toggleable__control:checked~label.sk-toggleable__label {background-color: #d4ebff;}#sk-container-id-3 input.sk-hidden--visually {border: 0;clip: rect(1px 1px 1px 1px);clip: rect(1px, 1px, 1px, 1px);height: 1px;margin: -1px;overflow: hidden;padding: 0;position: absolute;width: 1px;}#sk-container-id-3 div.sk-estimator {font-family: monospace;background-color: #f0f8ff;border: 1px dotted black;border-radius: 0.25em;box-sizing: border-box;margin-bottom: 0.5em;}#sk-container-id-3 div.sk-estimator:hover {background-color: #d4ebff;}#sk-container-id-3 div.sk-parallel-item::after {content: \"\";width: 100%;border-bottom: 1px solid gray;flex-grow: 1;}#sk-container-id-3 div.sk-label:hover label.sk-toggleable__label {background-color: #d4ebff;}#sk-container-id-3 div.sk-serial::before {content: \"\";position: absolute;border-left: 1px solid gray;box-sizing: border-box;top: 0;bottom: 0;left: 50%;z-index: 0;}#sk-container-id-3 div.sk-serial {display: flex;flex-direction: column;align-items: center;background-color: white;padding-right: 0.2em;padding-left: 0.2em;position: relative;}#sk-container-id-3 div.sk-item {position: relative;z-index: 1;}#sk-container-id-3 div.sk-parallel {display: flex;align-items: stretch;justify-content: center;background-color: white;position: relative;}#sk-container-id-3 div.sk-item::before, #sk-container-id-3 div.sk-parallel-item::before {content: \"\";position: absolute;border-left: 1px solid gray;box-sizing: border-box;top: 0;bottom: 0;left: 50%;z-index: -1;}#sk-container-id-3 div.sk-parallel-item {display: flex;flex-direction: column;z-index: 1;position: relative;background-color: white;}#sk-container-id-3 div.sk-parallel-item:first-child::after {align-self: flex-end;width: 50%;}#sk-container-id-3 div.sk-parallel-item:last-child::after {align-self: flex-start;width: 50%;}#sk-container-id-3 div.sk-parallel-item:only-child::after {width: 0;}#sk-container-id-3 div.sk-dashed-wrapped {border: 1px dashed gray;margin: 0 0.4em 0.5em 0.4em;box-sizing: border-box;padding-bottom: 0.4em;background-color: white;}#sk-container-id-3 div.sk-label label {font-family: monospace;font-weight: bold;display: inline-block;line-height: 1.2em;}#sk-container-id-3 div.sk-label-container {text-align: center;}#sk-container-id-3 div.sk-container {/* jupyter's `normalize.less` sets `[hidden] { display: none; }` but bootstrap.min.css set `[hidden] { display: none !important; }` so we also need the `!important` here to be able to override the default hidden behavior on the sphinx rendered scikit-learn.org. See: https://github.com/scikit-learn/scikit-learn/issues/21755 */display: inline-block !important;position: relative;}#sk-container-id-3 div.sk-text-repr-fallback {display: none;}</style><div id=\"sk-container-id-3\" class=\"sk-top-container\"><div class=\"sk-text-repr-fallback\"><pre>DecisionTreeRegressor(criterion=&#x27;poisson&#x27;, max_depth=6, max_features=&#x27;auto&#x27;)</pre><b>In a Jupyter environment, please rerun this cell to show the HTML representation or trust the notebook. <br />On GitHub, the HTML representation is unable to render, please try loading this page with nbviewer.org.</b></div><div class=\"sk-container\" hidden><div class=\"sk-item\"><div class=\"sk-estimator sk-toggleable\"><input class=\"sk-toggleable__control sk-hidden--visually\" id=\"sk-estimator-id-5\" type=\"checkbox\" checked><label for=\"sk-estimator-id-5\" class=\"sk-toggleable__label sk-toggleable__label-arrow\">DecisionTreeRegressor</label><div class=\"sk-toggleable__content\"><pre>DecisionTreeRegressor(criterion=&#x27;poisson&#x27;, max_depth=6, max_features=&#x27;auto&#x27;)</pre></div></div></div></div></div>"
      ],
      "text/plain": [
       "DecisionTreeRegressor(criterion='poisson', max_depth=6, max_features='auto')"
      ]
     },
     "execution_count": 33,
     "metadata": {},
     "output_type": "execute_result"
    }
   ],
   "source": [
    "regressor.fit(x_train,y_train)"
   ]
  },
  {
   "cell_type": "code",
   "execution_count": 35,
   "id": "c9776dc7-ab7d-423b-865e-0d486ec933e9",
   "metadata": {},
   "outputs": [
    {
     "data": {
      "text/plain": [
       "[Text(0.5136088709677419, 0.9285714285714286, 'x[0] <= 3.865\\npoisson = 0.311\\nsamples = 3457\\nvalue = 2.077'),\n",
       " Text(0.25806451612903225, 0.7857142857142857, 'x[0] <= 2.663\\npoisson = 0.212\\nsamples = 1972\\nvalue = 1.543'),\n",
       " Text(0.12903225806451613, 0.6428571428571429, 'x[2] <= 3.815\\npoisson = 0.172\\nsamples = 984\\nvalue = 1.253'),\n",
       " Text(0.06451612903225806, 0.5, 'x[5] <= 3.238\\npoisson = 0.195\\nsamples = 265\\nvalue = 1.763'),\n",
       " Text(0.03225806451612903, 0.35714285714285715, 'x[6] <= 37.895\\npoisson = 0.223\\nsamples = 139\\nvalue = 2.015'),\n",
       " Text(0.016129032258064516, 0.21428571428571427, 'x[7] <= -118.245\\npoisson = 0.199\\nsamples = 130\\nvalue = 2.102'),\n",
       " Text(0.008064516129032258, 0.07142857142857142, 'poisson = 0.209\\nsamples = 83\\nvalue = 2.357'),\n",
       " Text(0.024193548387096774, 0.07142857142857142, 'poisson = 0.104\\nsamples = 47\\nvalue = 1.651'),\n",
       " Text(0.04838709677419355, 0.21428571428571427, 'x[1] <= 48.5\\npoisson = 0.038\\nsamples = 9\\nvalue = 0.77'),\n",
       " Text(0.04032258064516129, 0.07142857142857142, 'poisson = 0.019\\nsamples = 5\\nvalue = 0.605'),\n",
       " Text(0.056451612903225805, 0.07142857142857142, 'poisson = 0.012\\nsamples = 4\\nvalue = 0.977'),\n",
       " Text(0.0967741935483871, 0.35714285714285715, 'x[6] <= 34.035\\npoisson = 0.122\\nsamples = 126\\nvalue = 1.484'),\n",
       " Text(0.08064516129032258, 0.21428571428571427, 'x[7] <= -117.145\\npoisson = 0.042\\nsamples = 63\\nvalue = 1.258'),\n",
       " Text(0.07258064516129033, 0.07142857142857142, 'poisson = 0.034\\nsamples = 55\\nvalue = 1.317'),\n",
       " Text(0.08870967741935484, 0.07142857142857142, 'poisson = 0.014\\nsamples = 8\\nvalue = 0.848'),\n",
       " Text(0.11290322580645161, 0.21428571428571427, 'x[6] <= 37.87\\npoisson = 0.167\\nsamples = 63\\nvalue = 1.71'),\n",
       " Text(0.10483870967741936, 0.07142857142857142, 'poisson = 0.147\\nsamples = 56\\nvalue = 1.813'),\n",
       " Text(0.12096774193548387, 0.07142857142857142, 'poisson = 0.064\\nsamples = 7\\nvalue = 0.883'),\n",
       " Text(0.1935483870967742, 0.5, 'x[6] <= 35.305\\npoisson = 0.115\\nsamples = 719\\nvalue = 1.065'),\n",
       " Text(0.16129032258064516, 0.35714285714285715, 'x[7] <= -117.795\\npoisson = 0.111\\nsamples = 291\\nvalue = 1.273'),\n",
       " Text(0.14516129032258066, 0.21428571428571427, 'x[5] <= 2.733\\npoisson = 0.098\\nsamples = 142\\nvalue = 1.491'),\n",
       " Text(0.13709677419354838, 0.07142857142857142, 'poisson = 0.148\\nsamples = 30\\nvalue = 2.01'),\n",
       " Text(0.1532258064516129, 0.07142857142857142, 'poisson = 0.056\\nsamples = 112\\nvalue = 1.352'),\n",
       " Text(0.1774193548387097, 0.21428571428571427, 'x[5] <= 2.385\\npoisson = 0.088\\nsamples = 149\\nvalue = 1.065'),\n",
       " Text(0.1693548387096774, 0.07142857142857142, 'poisson = 0.162\\nsamples = 40\\nvalue = 1.372'),\n",
       " Text(0.18548387096774194, 0.07142857142857142, 'poisson = 0.04\\nsamples = 109\\nvalue = 0.953'),\n",
       " Text(0.22580645161290322, 0.35714285714285715, 'x[7] <= -120.655\\npoisson = 0.095\\nsamples = 428\\nvalue = 0.924'),\n",
       " Text(0.20967741935483872, 0.21428571428571427, 'x[6] <= 37.895\\npoisson = 0.099\\nsamples = 300\\nvalue = 1.025'),\n",
       " Text(0.20161290322580644, 0.07142857142857142, 'poisson = 0.122\\nsamples = 82\\nvalue = 1.451'),\n",
       " Text(0.21774193548387097, 0.07142857142857142, 'poisson = 0.048\\nsamples = 218\\nvalue = 0.864'),\n",
       " Text(0.24193548387096775, 0.21428571428571427, 'x[6] <= 37.33\\npoisson = 0.04\\nsamples = 128\\nvalue = 0.69'),\n",
       " Text(0.23387096774193547, 0.07142857142857142, 'poisson = 0.02\\nsamples = 110\\nvalue = 0.63'),\n",
       " Text(0.25, 0.07142857142857142, 'poisson = 0.056\\nsamples = 18\\nvalue = 1.06'),\n",
       " Text(0.3870967741935484, 0.6428571428571429, 'x[5] <= 2.396\\npoisson = 0.197\\nsamples = 988\\nvalue = 1.831'),\n",
       " Text(0.3225806451612903, 0.5, 'x[1] <= 21.5\\npoisson = 0.239\\nsamples = 273\\nvalue = 2.522'),\n",
       " Text(0.2903225806451613, 0.35714285714285715, 'x[6] <= 37.585\\npoisson = 0.103\\nsamples = 73\\nvalue = 1.775'),\n",
       " Text(0.27419354838709675, 0.21428571428571427, 'x[4] <= 3286.5\\npoisson = 0.103\\nsamples = 49\\nvalue = 1.935'),\n",
       " Text(0.2661290322580645, 0.07142857142857142, 'poisson = 0.092\\nsamples = 46\\nvalue = 1.867'),\n",
       " Text(0.28225806451612906, 0.07142857142857142, 'poisson = 0.006\\nsamples = 3\\nvalue = 2.983'),\n",
       " Text(0.3064516129032258, 0.21428571428571427, 'x[7] <= -121.95\\npoisson = 0.056\\nsamples = 24\\nvalue = 1.447'),\n",
       " Text(0.29838709677419356, 0.07142857142857142, 'poisson = 0.031\\nsamples = 15\\nvalue = 1.626'),\n",
       " Text(0.31451612903225806, 0.07142857142857142, 'poisson = 0.047\\nsamples = 9\\nvalue = 1.149'),\n",
       " Text(0.3548387096774194, 0.35714285714285715, 'x[6] <= 38.02\\npoisson = 0.23\\nsamples = 200\\nvalue = 2.795'),\n",
       " Text(0.3387096774193548, 0.21428571428571427, 'x[5] <= 1.984\\npoisson = 0.188\\nsamples = 175\\nvalue = 2.983'),\n",
       " Text(0.33064516129032256, 0.07142857142857142, 'poisson = 0.147\\nsamples = 66\\nvalue = 3.603'),\n",
       " Text(0.3467741935483871, 0.07142857142857142, 'poisson = 0.151\\nsamples = 109\\nvalue = 2.607'),\n",
       " Text(0.3709677419354839, 0.21428571428571427, 'x[0] <= 2.998\\npoisson = 0.103\\nsamples = 25\\nvalue = 1.476'),\n",
       " Text(0.3629032258064516, 0.07142857142857142, 'poisson = 0.038\\nsamples = 9\\nvalue = 1.053'),\n",
       " Text(0.3790322580645161, 0.07142857142857142, 'poisson = 0.083\\nsamples = 16\\nvalue = 1.714'),\n",
       " Text(0.45161290322580644, 0.5, 'x[2] <= 5.229\\npoisson = 0.116\\nsamples = 715\\nvalue = 1.567'),\n",
       " Text(0.41935483870967744, 0.35714285714285715, 'x[7] <= -117.77\\npoisson = 0.099\\nsamples = 394\\nvalue = 1.741'),\n",
       " Text(0.4032258064516129, 0.21428571428571427, 'x[5] <= 3.728\\npoisson = 0.097\\nsamples = 349\\nvalue = 1.797'),\n",
       " Text(0.3951612903225806, 0.07142857142857142, 'poisson = 0.108\\nsamples = 263\\nvalue = 1.891'),\n",
       " Text(0.4112903225806452, 0.07142857142857142, 'poisson = 0.032\\nsamples = 86\\nvalue = 1.51'),\n",
       " Text(0.43548387096774194, 0.21428571428571427, 'x[6] <= 34.0\\npoisson = 0.049\\nsamples = 45\\nvalue = 1.307'),\n",
       " Text(0.4274193548387097, 0.07142857142857142, 'poisson = 0.049\\nsamples = 27\\nvalue = 1.455'),\n",
       " Text(0.4435483870967742, 0.07142857142857142, 'poisson = 0.017\\nsamples = 18\\nvalue = 1.085'),\n",
       " Text(0.4838709677419355, 0.35714285714285715, 'x[0] <= 3.146\\npoisson = 0.11\\nsamples = 321\\nvalue = 1.353'),\n",
       " Text(0.46774193548387094, 0.21428571428571427, 'x[3] <= 1.012\\npoisson = 0.058\\nsamples = 115\\nvalue = 1.117'),\n",
       " Text(0.4596774193548387, 0.07142857142857142, 'poisson = 0.016\\nsamples = 14\\nvalue = 0.874'),\n",
       " Text(0.47580645161290325, 0.07142857142857142, 'poisson = 0.059\\nsamples = 101\\nvalue = 1.151'),\n",
       " Text(0.5, 0.21428571428571427, 'x[4] <= 149.5\\npoisson = 0.12\\nsamples = 206\\nvalue = 1.485'),\n",
       " Text(0.49193548387096775, 0.07142857142857142, 'poisson = 0.0\\nsamples = 1\\nvalue = 5.0'),\n",
       " Text(0.5080645161290323, 0.07142857142857142, 'poisson = 0.108\\nsamples = 205\\nvalue = 1.468'),\n",
       " Text(0.7691532258064516, 0.7857142857142857, 'x[0] <= 5.827\\npoisson = 0.232\\nsamples = 1485\\nvalue = 2.787'),\n",
       " Text(0.6451612903225806, 0.6428571428571429, 'x[5] <= 2.626\\npoisson = 0.185\\nsamples = 1069\\nvalue = 2.432'),\n",
       " Text(0.5806451612903226, 0.5, 'x[6] <= 37.955\\npoisson = 0.213\\nsamples = 391\\nvalue = 3.014'),\n",
       " Text(0.5483870967741935, 0.35714285714285715, 'x[1] <= 19.5\\npoisson = 0.198\\nsamples = 337\\nvalue = 3.171'),\n",
       " Text(0.532258064516129, 0.21428571428571427, 'x[7] <= -117.33\\npoisson = 0.133\\nsamples = 80\\nvalue = 2.414'),\n",
       " Text(0.5241935483870968, 0.07142857142857142, 'poisson = 0.123\\nsamples = 65\\nvalue = 2.539'),\n",
       " Text(0.5403225806451613, 0.07142857142857142, 'poisson = 0.096\\nsamples = 15\\nvalue = 1.873'),\n",
       " Text(0.5645161290322581, 0.21428571428571427, 'x[5] <= 2.245\\npoisson = 0.179\\nsamples = 257\\nvalue = 3.407'),\n",
       " Text(0.5564516129032258, 0.07142857142857142, 'poisson = 0.092\\nsamples = 90\\nvalue = 4.199'),\n",
       " Text(0.5725806451612904, 0.07142857142857142, 'poisson = 0.152\\nsamples = 167\\nvalue = 2.98'),\n",
       " Text(0.6129032258064516, 0.35714285714285715, 'x[7] <= -122.405\\npoisson = 0.103\\nsamples = 54\\nvalue = 2.037'),\n",
       " Text(0.5967741935483871, 0.21428571428571427, 'x[0] <= 4.12\\npoisson = 0.072\\nsamples = 16\\nvalue = 2.732'),\n",
       " Text(0.5887096774193549, 0.07142857142857142, 'poisson = 0.05\\nsamples = 6\\nvalue = 2.241'),\n",
       " Text(0.6048387096774194, 0.07142857142857142, 'poisson = 0.041\\nsamples = 10\\nvalue = 3.026'),\n",
       " Text(0.6290322580645161, 0.21428571428571427, 'x[5] <= 2.15\\npoisson = 0.049\\nsamples = 38\\nvalue = 1.744'),\n",
       " Text(0.6209677419354839, 0.07142857142857142, 'poisson = 0.027\\nsamples = 6\\nvalue = 2.249'),\n",
       " Text(0.6370967741935484, 0.07142857142857142, 'poisson = 0.037\\nsamples = 32\\nvalue = 1.65'),\n",
       " Text(0.7096774193548387, 0.5, 'x[0] <= 4.621\\npoisson = 0.107\\nsamples = 678\\nvalue = 2.095'),\n",
       " Text(0.6774193548387096, 0.35714285714285715, 'x[7] <= -121.725\\npoisson = 0.094\\nsamples = 326\\nvalue = 1.896'),\n",
       " Text(0.6612903225806451, 0.21428571428571427, 'x[6] <= 37.945\\npoisson = 0.127\\nsamples = 72\\nvalue = 2.179'),\n",
       " Text(0.6532258064516129, 0.07142857142857142, 'poisson = 0.081\\nsamples = 45\\nvalue = 2.493'),\n",
       " Text(0.6693548387096774, 0.07142857142857142, 'poisson = 0.098\\nsamples = 27\\nvalue = 1.656'),\n",
       " Text(0.6935483870967742, 0.21428571428571427, 'x[6] <= 35.365\\npoisson = 0.077\\nsamples = 254\\nvalue = 1.816'),\n",
       " Text(0.6854838709677419, 0.07142857142857142, 'poisson = 0.065\\nsamples = 205\\nvalue = 1.919'),\n",
       " Text(0.7016129032258065, 0.07142857142857142, 'poisson = 0.06\\nsamples = 49\\nvalue = 1.385'),\n",
       " Text(0.7419354838709677, 0.35714285714285715, 'x[1] <= 18.5\\npoisson = 0.101\\nsamples = 352\\nvalue = 2.28'),\n",
       " Text(0.7258064516129032, 0.21428571428571427, 'x[3] <= 1.067\\npoisson = 0.087\\nsamples = 128\\nvalue = 2.01'),\n",
       " Text(0.717741935483871, 0.07142857142857142, 'poisson = 0.071\\nsamples = 90\\nvalue = 1.872'),\n",
       " Text(0.7338709677419355, 0.07142857142857142, 'poisson = 0.086\\nsamples = 38\\nvalue = 2.338'),\n",
       " Text(0.7580645161290323, 0.21428571428571427, 'x[3] <= 1.183\\npoisson = 0.095\\nsamples = 224\\nvalue = 2.434'),\n",
       " Text(0.75, 0.07142857142857142, 'poisson = 0.086\\nsamples = 217\\nvalue = 2.398'),\n",
       " Text(0.7661290322580645, 0.07142857142857142, 'poisson = 0.147\\nsamples = 7\\nvalue = 3.549'),\n",
       " Text(0.8931451612903226, 0.6428571428571429, 'x[0] <= 7.723\\npoisson = 0.158\\nsamples = 416\\nvalue = 3.699'),\n",
       " Text(0.8387096774193549, 0.5, 'x[5] <= 2.757\\npoisson = 0.133\\nsamples = 287\\nvalue = 3.302'),\n",
       " Text(0.8064516129032258, 0.35714285714285715, 'x[4] <= 254.5\\npoisson = 0.136\\nsamples = 125\\nvalue = 3.736'),\n",
       " Text(0.7903225806451613, 0.21428571428571427, 'x[3] <= 0.974\\npoisson = 0.084\\nsamples = 4\\nvalue = 1.67'),\n",
       " Text(0.782258064516129, 0.07142857142857142, 'poisson = 0.004\\nsamples = 2\\nvalue = 1.152'),\n",
       " Text(0.7983870967741935, 0.07142857142857142, 'poisson = 0.001\\nsamples = 2\\nvalue = 2.188'),\n",
       " Text(0.8225806451612904, 0.21428571428571427, 'x[1] <= 22.5\\npoisson = 0.114\\nsamples = 121\\nvalue = 3.804'),\n",
       " Text(0.8145161290322581, 0.07142857142857142, 'poisson = 0.085\\nsamples = 36\\nvalue = 3.331'),\n",
       " Text(0.8306451612903226, 0.07142857142857142, 'poisson = 0.107\\nsamples = 85\\nvalue = 4.004'),\n",
       " Text(0.8709677419354839, 0.35714285714285715, 'x[2] <= 5.49\\npoisson = 0.092\\nsamples = 162\\nvalue = 2.968'),\n",
       " Text(0.8548387096774194, 0.21428571428571427, 'x[2] <= 4.844\\npoisson = 0.109\\nsamples = 10\\nvalue = 1.95'),\n",
       " Text(0.8467741935483871, 0.07142857142857142, 'poisson = 0.026\\nsamples = 2\\nvalue = 0.888'),\n",
       " Text(0.8629032258064516, 0.07142857142857142, 'poisson = 0.022\\nsamples = 8\\nvalue = 2.216'),\n",
       " Text(0.8870967741935484, 0.21428571428571427, 'x[0] <= 6.109\\npoisson = 0.077\\nsamples = 152\\nvalue = 3.035'),\n",
       " Text(0.8790322580645161, 0.07142857142857142, 'poisson = 0.098\\nsamples = 32\\nvalue = 2.593'),\n",
       " Text(0.8951612903225806, 0.07142857142857142, 'poisson = 0.06\\nsamples = 120\\nvalue = 3.153'),\n",
       " Text(0.9475806451612904, 0.5, 'x[3] <= 0.865\\npoisson = 0.068\\nsamples = 129\\nvalue = 4.582'),\n",
       " Text(0.9274193548387096, 0.35714285714285715, 'x[5] <= 623.389\\npoisson = 0.137\\nsamples = 3\\nvalue = 2.478'),\n",
       " Text(0.9193548387096774, 0.21428571428571427, 'x[7] <= -119.455\\npoisson = 0.001\\nsamples = 2\\nvalue = 3.03'),\n",
       " Text(0.9112903225806451, 0.07142857142857142, 'poisson = 0.0\\nsamples = 1\\nvalue = 3.125'),\n",
       " Text(0.9274193548387096, 0.07142857142857142, 'poisson = -0.0\\nsamples = 1\\nvalue = 2.935'),\n",
       " Text(0.9354838709677419, 0.21428571428571427, 'poisson = 0.0\\nsamples = 1\\nvalue = 1.375'),\n",
       " Text(0.967741935483871, 0.35714285714285715, 'x[0] <= 8.569\\npoisson = 0.052\\nsamples = 126\\nvalue = 4.632'),\n",
       " Text(0.9516129032258065, 0.21428571428571427, 'x[1] <= 30.5\\npoisson = 0.072\\nsamples = 45\\nvalue = 4.219'),\n",
       " Text(0.9435483870967742, 0.07142857142857142, 'poisson = 0.068\\nsamples = 33\\nvalue = 3.952'),\n",
       " Text(0.9596774193548387, 0.07142857142857142, 'poisson = 0.001\\nsamples = 12\\nvalue = 4.955'),\n",
       " Text(0.9838709677419355, 0.21428571428571427, 'x[4] <= 155.5\\npoisson = 0.025\\nsamples = 81\\nvalue = 4.861'),\n",
       " Text(0.9758064516129032, 0.07142857142857142, 'poisson = 0.201\\nsamples = 5\\nvalue = 3.765'),\n",
       " Text(0.9919354838709677, 0.07142857142857142, 'poisson = 0.004\\nsamples = 76\\nvalue = 4.933')]"
      ]
     },
     "execution_count": 35,
     "metadata": {},
     "output_type": "execute_result"
    },
    {
     "data": {
      "image/png": "[encoded data removed]",
      "text/plain": [
       "<Figure size 1200x1000 with 1 Axes>"
      ]
     },
     "metadata": {},
     "output_type": "display_data"
    }
   ],
   "source": [
    "# display the decision tree\n",
    "from sklearn import tree\n",
    "plt.figure(figsize=(12,10))\n",
    "tree.plot_tree(regressor,filled=True)  # filled : it will fill some colour into the nodes "
   ]
  },
  {
   "cell_type": "code",
   "execution_count": 36,
   "id": "e7130184-3968-4585-ad33-5b86bb6d27a1",
   "metadata": {},
   "outputs": [],
   "source": [
    "y_pred=regressorcv.predict(x_test)"
   ]
  },
  {
   "cell_type": "code",
   "execution_count": 37,
   "id": "ecbd7b07-fc5c-4567-8137-602a4f91ffee",
   "metadata": {},
   "outputs": [
    {
     "data": {
      "text/plain": [
       "0.5176608209819615"
      ]
     },
     "execution_count": 37,
     "metadata": {},
     "output_type": "execute_result"
    }
   ],
   "source": [
    "# accuracy\n",
    "r2_score(y_pred,y_test)"
   ]
  },
  {
   "cell_type": "code",
   "execution_count": null,
   "id": "bfef2f7a",
   "metadata": {},
   "outputs": [],
   "source": []
  }
 ],
 "metadata": {
  "kernelspec": {
   "display_name": "Python 3 (ipykernel)",
   "language": "python",
   "name": "python3"
  },
  "language_info": {
   "codemirror_mode": {
    "name": "ipython",
    "version": 3
   },
   "file_extension": ".py",
   "mimetype": "text/x-python",
   "name": "python",
   "nbconvert_exporter": "python",
   "pygments_lexer": "ipython3",
   "version": "3.10.8"
  }
 },
 "nbformat": 4,
 "nbformat_minor": 5
}
